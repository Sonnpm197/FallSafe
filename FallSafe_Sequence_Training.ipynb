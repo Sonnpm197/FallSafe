{
 "cells": [
  {
   "cell_type": "code",
   "execution_count": 1,
   "id": "initial_id",
   "metadata": {
    "ExecuteTime": {
     "end_time": "2025-05-07T08:53:56.741448Z",
     "start_time": "2025-05-07T08:53:52.525254Z"
    }
   },
   "outputs": [
    {
     "name": "stdout",
     "output_type": "stream",
     "text": [
      "PyTorch version: 2.6.0+cu126\n",
      "Torchvision version: 0.21.0+cu126\n",
      "CUDA is available. PyTorch is using GPU: NVIDIA GeForce RTX 3060 Laptop GPU\n"
     ]
    }
   ],
   "source": [
    "import torch\n",
    "import torchvision\n",
    "\n",
    "print(\"PyTorch version:\", torch.__version__)\n",
    "print(\"Torchvision version:\", torchvision.__version__)\n",
    "if torch.cuda.is_available():\n",
    "    print(\"CUDA is available. PyTorch is using GPU:\", torch.cuda.get_device_name(0))\n",
    "else:\n",
    "    print(\"CUDA is NOT available. PyTorch is using CPU.\")"
   ]
  },
  {
   "cell_type": "code",
   "execution_count": 3,
   "id": "a9d9e0911a92413d",
   "metadata": {
    "ExecuteTime": {
     "end_time": "2025-05-07T08:54:00.618073Z",
     "start_time": "2025-05-07T08:53:59.593908Z"
    }
   },
   "outputs": [],
   "source": [
    "import pandas as pd\n",
    "import csv\n",
    "import numpy as np\n",
    "\n",
    "file_path = \"csv_data/ur_keypoints_labeled.csv\"\n",
    "all_data = []\n",
    "\n",
    "with open(file_path, \"r\") as f:\n",
    "    reader = csv.reader(f)\n",
    "    for row in reader:\n",
    "        # Convert all but the last column to float32\n",
    "        float_part = list(map(np.float32, row[:-1]))\n",
    "        string_part = row[-1]\n",
    "        all_data.append(float_part + [string_part])\n",
    "\n",
    "\n"
   ]
  },
  {
   "cell_type": "code",
   "execution_count": 4,
   "id": "93e47e92eab40b40",
   "metadata": {
    "ExecuteTime": {
     "end_time": "2025-05-07T08:54:11.838830Z",
     "start_time": "2025-05-07T08:54:01.980751Z"
    }
   },
   "outputs": [
    {
     "name": "stdout",
     "output_type": "stream",
     "text": [
      "57\n"
     ]
    }
   ],
   "source": [
    "import pandas as pd\n",
    "import csv\n",
    "import numpy as np\n",
    "\n",
    "file_path = \"csv_data/mc_keypoints_labeled.csv\"\n",
    "\n",
    "with open(file_path, \"r\") as f:\n",
    "    reader = csv.reader(f)\n",
    "    for row in reader:\n",
    "        # Convert all but the last column to float32\n",
    "        float_part = list(map(np.float32, row[:-1]))\n",
    "        string_part = row[-1]\n",
    "        all_data.append(float_part + [string_part])\n",
    "\n",
    "print(len(all_data[-1]))"
   ]
  },
  {
   "cell_type": "code",
   "execution_count": 5,
   "id": "1725b588557cd3e0",
   "metadata": {
    "ExecuteTime": {
     "end_time": "2025-05-07T08:54:27.049115Z",
     "start_time": "2025-05-07T08:54:22.739263Z"
    }
   },
   "outputs": [
    {
     "name": "stdout",
     "output_type": "stream",
     "text": [
      "Shape of all_data: (294706, 57)\n",
      "Last column of first row: adl-01-cam0_6\n",
      "Last column of first row: le2i189_205\n"
     ]
    }
   ],
   "source": [
    "import pandas as pd\n",
    "import csv\n",
    "import numpy as np\n",
    "\n",
    "file_path = \"csv_data/le2i_keypoints_labeled.csv\"\n",
    "\n",
    "with open(file_path, \"r\") as f:\n",
    "    reader = csv.reader(f)\n",
    "    for row in reader:\n",
    "        # Convert all but the last column to float32\n",
    "        float_part = list(map(np.float32, row[:-1]))\n",
    "        string_part = row[-1]\n",
    "        all_data.append(float_part + [string_part])\n",
    "\n",
    "# Convert to numpy array (object type because of the mix of float and string)\n",
    "all_data_np = np.array(all_data, dtype=object)\n",
    "\n",
    "print(\"Shape of all_data:\", all_data_np.shape)\n",
    "print(\"Last column of first row:\", all_data_np[0][-1])\n",
    "print(\"Last column of first row:\", all_data_np[-1][-1])"
   ]
  },
  {
   "cell_type": "code",
   "execution_count": 6,
   "id": "2d2e68d264e382a3",
   "metadata": {
    "ExecuteTime": {
     "end_time": "2025-05-07T08:54:30.506721Z",
     "start_time": "2025-05-07T08:54:30.230049Z"
    }
   },
   "outputs": [
    {
     "name": "stdout",
     "output_type": "stream",
     "text": [
      "Not fall (0): 205210\n",
      "Fall (1): 89496\n"
     ]
    }
   ],
   "source": [
    "import numpy as np\n",
    "\n",
    "# Assuming you've already loaded all_data and the first column is the label\n",
    "labels = all_data_np[:, 0]  # Get the first column\n",
    "\n",
    "# Count occurrences of 0 and 1\n",
    "unique, counts = np.unique(labels, return_counts=True)\n",
    "label_counts = dict(zip(unique.astype(int), counts))\n",
    "\n",
    "# Print results\n",
    "not_fall=label_counts.get(0, 0)\n",
    "fall=label_counts.get(1, 0)\n",
    "print(f\"Not fall (0): {not_fall}\")\n",
    "print(f\"Fall (1): {fall}\")"
   ]
  },
  {
   "cell_type": "code",
   "execution_count": 7,
   "id": "607e313344ffc1a4",
   "metadata": {
    "ExecuteTime": {
     "end_time": "2025-05-07T08:54:41.727581Z",
     "start_time": "2025-05-07T08:54:37.294853Z"
    }
   },
   "outputs": [
    {
     "name": "stdout",
     "output_type": "stream",
     "text": [
      "Before re-sampling, not fall vs fall:\n",
      "label\n",
      "0.0    205210\n",
      "1.0     89496\n",
      "Name: count, dtype: int64\n",
      "not_fall_count > fall_count\n",
      "Begin to re-sample... 205210\n",
      "After re-sampling:\n",
      "label\n",
      "0.0    205210\n",
      "1.0    205210\n",
      "Name: count, dtype: int64\n"
     ]
    }
   ],
   "source": [
    "import pandas as pd\n",
    "from sklearn.utils import resample\n",
    "\n",
    "# Create DataFrame\n",
    "df = pd.DataFrame.from_records(all_data_np)\n",
    "header = ['label'] + list(range(len(all_data_np[0]) - 1))\n",
    "df.columns = header\n",
    "\n",
    "# Count class instances\n",
    "\n",
    "print(\"Before re-sampling, not fall vs fall:\")\n",
    "print(df['label'].value_counts())\n",
    "\n",
    "# Determine majority and minority\n",
    "if not_fall < fall:\n",
    "    print(\"not_fall_count < fall_count\")\n",
    "    df_minority = df[df.label == 0]  # Not fall\n",
    "    df_majority = df[df.label == 1]  # Fall\n",
    "    resample_number = fall\n",
    "else:\n",
    "    print(\"not_fall_count > fall_count\")\n",
    "    df_minority = df[df.label == 1]  # Fall\n",
    "    df_majority = df[df.label == 0]  # Not fall\n",
    "    resample_number = not_fall\n",
    "\n",
    "print(\"Begin to re-sample...\", resample_number)\n",
    "\n",
    "# Upsample minority\n",
    "df_minority_upsampled = resample(\n",
    "    df_minority,\n",
    "    replace=True,\n",
    "    n_samples=resample_number,\n",
    "    random_state=42\n",
    ")\n",
    "\n",
    "# Combine and shuffle\n",
    "df_upsampled = pd.concat([df_majority, df_minority_upsampled])\n",
    "df_upsampled = df_upsampled.sample(frac=1, random_state=42).reset_index(drop=True)\n",
    "\n",
    "print(\"After re-sampling:\")\n",
    "print(df_upsampled['label'].value_counts())\n"
   ]
  },
  {
   "cell_type": "code",
   "execution_count": 8,
   "id": "468ee2755ab72eb",
   "metadata": {
    "ExecuteTime": {
     "end_time": "2025-05-07T08:54:45.796572Z",
     "start_time": "2025-05-07T08:54:44.692986Z"
    }
   },
   "outputs": [
    {
     "name": "stdout",
     "output_type": "stream",
     "text": [
      "[0.0 17.765304565429688 128.3868865966797 83.49588012695312\n",
      " 257.1996154785156 0.0 0.0 0.2862231135368347 0.0 0.0 0.3975674510002136\n",
      " 0.0 0.0 0.04492932930588722 0.04476585239171982 0.29765233397483826\n",
      " 0.7859702110290527 0.0 0.0 0.0364493764936924 0.059412214905023575\n",
      " 0.3245052099227905 0.9598881006240845 0.06616994738578796\n",
      " 0.3185845613479614 0.7820671796798706 0.06292521953582764\n",
      " 0.3651409447193146 0.9348546862602234 0.0 0.0 0.3353778123855591\n",
      " 0.046704716980457306 0.38356178998947144 0.8554349541664124 0.0 0.0\n",
      " 0.34535834193229675 0.07909833639860153 0.40167051553726196\n",
      " 0.9669073820114136 0.08356007933616638 0.3971477746963501\n",
      " 0.9156980514526367 0.05487976223230362 0.44137683510780334\n",
      " 0.9443801641464233 0.06008262187242508 0.43659496307373047\n",
      " 0.8298757076263428 0.07314767688512802 0.5004609823226929\n",
      " 0.8732761144638062 0.07619169354438782 0.4916640520095825\n",
      " 0.7342963218688965 'chute12/cam2_92']\n",
      "57\n",
      "number of all data: 410420\n"
     ]
    }
   ],
   "source": [
    "all_data_np = df_upsampled.values\n",
    "\n",
    "print(all_data_np[0])\n",
    "print(len(all_data_np[0]))\n",
    "print(\"number of all data:\", len(all_data_np))"
   ]
  },
  {
   "cell_type": "code",
   "execution_count": 9,
   "id": "aaa328b4923bceae",
   "metadata": {
    "ExecuteTime": {
     "end_time": "2025-05-07T08:55:05.182845Z",
     "start_time": "2025-05-07T08:55:05.171531Z"
    }
   },
   "outputs": [],
   "source": [
    "import numpy as np\n",
    "from collections import defaultdict, Counter\n",
    "import torch\n",
    "\n",
    "FEATURE_START_IDX = 5       # after label and bbox\n",
    "DUMMY_LABEL = 0\n",
    "\n",
    "def extract_video_and_frame(frame_id_str):\n",
    "    parts = frame_id_str.rsplit(\"_\", 1)\n",
    "    return parts[0], int(parts[1])\n",
    "\n",
    "def preprocess_sequences(all_data, sequence_length, stride, use_conf=True):\n",
    "    video_dict = defaultdict(list)\n",
    "\n",
    "    if use_conf:\n",
    "        NUM_KEYPOINT_FEATURES = 51 # 17 keypoints × 3 for x1, y1, conf1\n",
    "    else:\n",
    "        NUM_KEYPOINT_FEATURES = 34 # only x1, y1, x2, y2 ...., x17, y17\n",
    "\n",
    "    # Group frames by video\n",
    "    for row in all_data:\n",
    "        frame_id = row[-1]\n",
    "        video_name, frame_num = extract_video_and_frame(frame_id)\n",
    "        label = int(row[0])\n",
    "        # ignore bbox and last col\n",
    "        features = np.array(row[FEATURE_START_IDX:-1]).astype(np.float32)\n",
    "\n",
    "        if not use_conf:\n",
    "            features = [features[i] for i in range(len(features)) if i % 3 != 2]\n",
    "        video_dict[video_name].append((frame_num, label, features))\n",
    "\n",
    "    sequences = []\n",
    "    sequence_labels = []\n",
    "\n",
    "    for video, frames in video_dict.items():\n",
    "        # Sort by frame number\n",
    "        frames.sort(key=lambda x: x[0])\n",
    "\n",
    "        # Pad missing frames with zero-feature frames\n",
    "        full_seq = []\n",
    "        expected = frames[0][0]\n",
    "        for frame_num, label, features in frames:\n",
    "            while expected < frame_num:\n",
    "                full_seq.append((DUMMY_LABEL, np.zeros(NUM_KEYPOINT_FEATURES, dtype=np.float32)))\n",
    "                expected += 1\n",
    "            full_seq.append((label, features))\n",
    "            expected += 1\n",
    "\n",
    "        # Create sequences using sliding window with stride\n",
    "        for i in range(0, len(full_seq) - sequence_length + 1, stride):\n",
    "            seq = full_seq[i:i + sequence_length]\n",
    "            labels, features_seq = zip(*seq)\n",
    "\n",
    "            # majority vote\n",
    "            sequence_label = Counter(labels).most_common(1)[0][0]\n",
    "\n",
    "            # sequence_label = 1 if any(label == 1 for label in labels) else 0\n",
    "\n",
    "            sequences.append(np.stack(features_seq))  # shape: (seq_len, feature_dim)\n",
    "            sequence_labels.append(sequence_label)\n",
    "\n",
    "    # Convert to PyTorch tensors\n",
    "    x_tensor = torch.tensor(sequences, dtype=torch.float32)  # (num_seq, seq_len, feature_dim)\n",
    "    y_tensor = torch.tensor(sequence_labels, dtype=torch.long)  # (num_seq,)\n",
    "\n",
    "    return x_tensor, y_tensor\n"
   ]
  },
  {
   "cell_type": "code",
   "execution_count": 10,
   "id": "a4f894651183b97d",
   "metadata": {
    "ExecuteTime": {
     "end_time": "2025-05-07T08:55:08.405430Z",
     "start_time": "2025-05-07T08:55:08.398884Z"
    }
   },
   "outputs": [],
   "source": [
    "from torch.utils.data import TensorDataset, random_split\n",
    "\n",
    "def split_dataset(x_tensor, y_tensor, train_ratio=0.8, val_ratio=0.1):\n",
    "    dataset = TensorDataset(x_tensor, y_tensor)\n",
    "    total = len(dataset)\n",
    "    train_len = int(total * train_ratio)\n",
    "    val_len = int(total * val_ratio)\n",
    "    test_len = total - train_len - val_len\n",
    "    return random_split(dataset, [train_len, val_len, test_len])\n"
   ]
  },
  {
   "cell_type": "code",
   "execution_count": 27,
   "id": "baef19ac26c24724",
   "metadata": {
    "ExecuteTime": {
     "end_time": "2025-05-02T02:28:28.610641Z",
     "start_time": "2025-05-02T02:28:14.337196Z"
    }
   },
   "outputs": [],
   "source": [
    "from torch.utils.data import DataLoader\n",
    "import torch.optim as optim\n",
    "\n",
    "x_data, y_data = preprocess_sequences(all_data_np, sequence_length=10, stride=1, use_conf=True)\n",
    "train_set, val_set, test_set = split_dataset(x_data, y_data)\n",
    "\n",
    "batch_size = 32\n",
    "\n",
    "train_loader = DataLoader(train_set, batch_size, shuffle=True)\n",
    "val_loader = DataLoader(val_set, batch_size)\n",
    "test_loader = DataLoader(test_set, batch_size)\n"
   ]
  },
  {
   "cell_type": "code",
   "execution_count": 11,
   "id": "bdc3f05fbffec16e",
   "metadata": {
    "ExecuteTime": {
     "end_time": "2025-05-07T08:55:20.451537Z",
     "start_time": "2025-05-07T08:55:20.446717Z"
    }
   },
   "outputs": [],
   "source": [
    "def test_model(model, test_loader, device='cpu'):\n",
    "    model.eval()\n",
    "    model.to(device)\n",
    "    all_preds, all_labels = [], []\n",
    "    with torch.no_grad():\n",
    "        for x_batch, y_batch in test_loader:\n",
    "            x_batch, y_batch = x_batch.to(device), y_batch.to(device)\n",
    "            outputs = model(x_batch)\n",
    "            preds = outputs.argmax(dim=1)\n",
    "            all_preds.extend(preds.cpu().numpy())\n",
    "            all_labels.extend(y_batch.cpu().numpy())\n",
    "\n",
    "    acc = accuracy_score(all_labels, all_preds)\n",
    "    print(f\"Test Accuracy: {acc:.4f}\")\n"
   ]
  },
  {
   "cell_type": "code",
   "execution_count": 12,
   "id": "f0d50606b816543",
   "metadata": {
    "ExecuteTime": {
     "end_time": "2025-05-07T08:55:24.529597Z",
     "start_time": "2025-05-07T08:55:23.703720Z"
    }
   },
   "outputs": [],
   "source": [
    "from tqdm import tqdm\n",
    "from sklearn.metrics import accuracy_score\n",
    "from utils import EarlyStopping\n",
    "\n",
    "def train_model(model, criterion, optimizer, epochs, train_loader, val_loader, scheduler, patience=5):\n",
    "    device = torch.device(\"cuda\" if torch.cuda.is_available() else \"cpu\")\n",
    "    print(\"Using device:\", device)\n",
    "    print(f\"Start training model: {type(model).__name__}\")\n",
    "    model.to(device)\n",
    "\n",
    "    train_losses = []\n",
    "    val_losses = []\n",
    "    val_accuracies = []\n",
    "\n",
    "    early_stopping = EarlyStopping(patience=patience)\n",
    "\n",
    "    for epoch in range(epochs):\n",
    "        model.train()\n",
    "        total_loss = 0\n",
    "\n",
    "        # Update learning rate\n",
    "        lr = scheduler(epoch)\n",
    "        for param_group in optimizer.param_groups:\n",
    "            param_group['lr'] = lr\n",
    "\n",
    "        loop = tqdm(train_loader, desc=f\"Epoch [{epoch+1}/{epochs}]\", leave=True)\n",
    "        for inputs, labels in loop:\n",
    "            inputs, labels = inputs.to(device), labels.to(device)\n",
    "\n",
    "            optimizer.zero_grad()\n",
    "            outputs = model(inputs)\n",
    "            loss = criterion(outputs, labels)\n",
    "            loss.backward()\n",
    "            optimizer.step()\n",
    "\n",
    "            total_loss += loss.item()\n",
    "            loop.set_postfix(loss=loss.item())\n",
    "\n",
    "        train_loss = total_loss / len(train_loader)\n",
    "        train_losses.append(train_loss)\n",
    "\n",
    "        # Validation\n",
    "        model.eval()\n",
    "        val_loss = 0\n",
    "        all_preds = []\n",
    "        all_labels = []\n",
    "\n",
    "        with torch.no_grad():\n",
    "            for inputs, labels in val_loader:\n",
    "                inputs, labels = inputs.to(device), labels.to(device)\n",
    "                outputs = model(inputs)\n",
    "                loss = criterion(outputs, labels)\n",
    "                val_loss += loss.item()\n",
    "\n",
    "                preds = outputs.argmax(dim=1)\n",
    "                all_preds.extend(preds.cpu().numpy())\n",
    "                all_labels.extend(labels.cpu().numpy())\n",
    "\n",
    "        val_loss /= len(val_loader)\n",
    "        acc = accuracy_score(all_labels, all_preds)\n",
    "\n",
    "        val_losses.append(val_loss)\n",
    "        val_accuracies.append(acc)\n",
    "\n",
    "        print(f\"Epoch {epoch+1}: Train Loss={train_loss:.4f}, Val Loss={val_loss:.4f}, Val Acc={acc:.4f}\")\n",
    "\n",
    "        if early_stopping(val_loss, model):\n",
    "            print(f\"Early stopping triggered after {epoch+1} epochs\")\n",
    "            break\n",
    "\n",
    "    early_stopping.restore_best_weights(model)\n",
    "    print(f\"Finish training model: {type(model).__name__}\")\n",
    "\n",
    "    return model, train_losses, val_losses, val_accuracies\n"
   ]
  },
  {
   "cell_type": "code",
   "execution_count": 23,
   "id": "425347d029806530",
   "metadata": {
    "ExecuteTime": {
     "end_time": "2025-05-02T02:20:19.766509Z",
     "start_time": "2025-05-02T02:13:40.095424Z"
    },
    "scrolled": true
   },
   "outputs": [
    {
     "name": "stdout",
     "output_type": "stream",
     "text": [
      "Using device: cuda\n",
      "Start training model: LSTM_Model\n"
     ]
    },
    {
     "name": "stderr",
     "output_type": "stream",
     "text": [
      "Epoch [1/20]: 100%|██████████| 3824/3824 [00:19<00:00, 196.70it/s, loss=0.195] \n"
     ]
    },
    {
     "name": "stdout",
     "output_type": "stream",
     "text": [
      "Epoch 1: Train Loss=0.3341, Val Loss=0.2457, Val Acc=0.8937\n"
     ]
    },
    {
     "name": "stderr",
     "output_type": "stream",
     "text": [
      "Epoch [2/20]: 100%|██████████| 3824/3824 [00:19<00:00, 200.58it/s, loss=0.214] \n"
     ]
    },
    {
     "name": "stdout",
     "output_type": "stream",
     "text": [
      "Epoch 2: Train Loss=0.2277, Val Loss=0.2622, Val Acc=0.8851\n"
     ]
    },
    {
     "name": "stderr",
     "output_type": "stream",
     "text": [
      "Epoch [3/20]: 100%|██████████| 3824/3824 [00:17<00:00, 216.92it/s, loss=0.417] \n"
     ]
    },
    {
     "name": "stdout",
     "output_type": "stream",
     "text": [
      "Epoch 3: Train Loss=0.1770, Val Loss=0.1910, Val Acc=0.9169\n"
     ]
    },
    {
     "name": "stderr",
     "output_type": "stream",
     "text": [
      "Epoch [4/20]: 100%|██████████| 3824/3824 [00:19<00:00, 196.37it/s, loss=0.0135]\n"
     ]
    },
    {
     "name": "stdout",
     "output_type": "stream",
     "text": [
      "Epoch 4: Train Loss=0.1445, Val Loss=0.1319, Val Acc=0.9464\n"
     ]
    },
    {
     "name": "stderr",
     "output_type": "stream",
     "text": [
      "Epoch [5/20]: 100%|██████████| 3824/3824 [00:18<00:00, 203.13it/s, loss=0.0218] \n"
     ]
    },
    {
     "name": "stdout",
     "output_type": "stream",
     "text": [
      "Epoch 5: Train Loss=0.1247, Val Loss=0.1012, Val Acc=0.9625\n"
     ]
    },
    {
     "name": "stderr",
     "output_type": "stream",
     "text": [
      "Epoch [6/20]: 100%|██████████| 3824/3824 [00:18<00:00, 211.76it/s, loss=0.0698] \n"
     ]
    },
    {
     "name": "stdout",
     "output_type": "stream",
     "text": [
      "Epoch 6: Train Loss=0.1062, Val Loss=0.0843, Val Acc=0.9677\n"
     ]
    },
    {
     "name": "stderr",
     "output_type": "stream",
     "text": [
      "Epoch [7/20]: 100%|██████████| 3824/3824 [00:20<00:00, 187.61it/s, loss=0.289]  \n"
     ]
    },
    {
     "name": "stdout",
     "output_type": "stream",
     "text": [
      "Epoch 7: Train Loss=0.0955, Val Loss=0.1119, Val Acc=0.9577\n"
     ]
    },
    {
     "name": "stderr",
     "output_type": "stream",
     "text": [
      "Epoch [8/20]: 100%|██████████| 3824/3824 [00:18<00:00, 205.71it/s, loss=0.0548] \n"
     ]
    },
    {
     "name": "stdout",
     "output_type": "stream",
     "text": [
      "Epoch 8: Train Loss=0.0833, Val Loss=0.0715, Val Acc=0.9697\n"
     ]
    },
    {
     "name": "stderr",
     "output_type": "stream",
     "text": [
      "Epoch [9/20]: 100%|██████████| 3824/3824 [00:18<00:00, 202.80it/s, loss=0.0896] \n"
     ]
    },
    {
     "name": "stdout",
     "output_type": "stream",
     "text": [
      "Epoch 9: Train Loss=0.0750, Val Loss=0.0670, Val Acc=0.9744\n"
     ]
    },
    {
     "name": "stderr",
     "output_type": "stream",
     "text": [
      "Epoch [10/20]: 100%|██████████| 3824/3824 [00:19<00:00, 194.07it/s, loss=0.0566]  \n"
     ]
    },
    {
     "name": "stdout",
     "output_type": "stream",
     "text": [
      "Epoch 10: Train Loss=0.0681, Val Loss=0.0679, Val Acc=0.9740\n"
     ]
    },
    {
     "name": "stderr",
     "output_type": "stream",
     "text": [
      "Epoch [11/20]: 100%|██████████| 3824/3824 [00:18<00:00, 205.94it/s, loss=0.0177]  \n"
     ]
    },
    {
     "name": "stdout",
     "output_type": "stream",
     "text": [
      "Epoch 11: Train Loss=0.0654, Val Loss=0.0504, Val Acc=0.9809\n"
     ]
    },
    {
     "name": "stderr",
     "output_type": "stream",
     "text": [
      "Epoch [12/20]: 100%|██████████| 3824/3824 [00:18<00:00, 204.19it/s, loss=0.00365] \n"
     ]
    },
    {
     "name": "stdout",
     "output_type": "stream",
     "text": [
      "Epoch 12: Train Loss=0.0558, Val Loss=0.0510, Val Acc=0.9801\n"
     ]
    },
    {
     "name": "stderr",
     "output_type": "stream",
     "text": [
      "Epoch [13/20]: 100%|██████████| 3824/3824 [00:19<00:00, 197.57it/s, loss=0.0044]  \n"
     ]
    },
    {
     "name": "stdout",
     "output_type": "stream",
     "text": [
      "Epoch 13: Train Loss=0.0481, Val Loss=0.0432, Val Acc=0.9835\n"
     ]
    },
    {
     "name": "stderr",
     "output_type": "stream",
     "text": [
      "Epoch [14/20]: 100%|██████████| 3824/3824 [00:19<00:00, 194.89it/s, loss=0.0525]  \n"
     ]
    },
    {
     "name": "stdout",
     "output_type": "stream",
     "text": [
      "Epoch 14: Train Loss=0.0418, Val Loss=0.0684, Val Acc=0.9750\n"
     ]
    },
    {
     "name": "stderr",
     "output_type": "stream",
     "text": [
      "Epoch [15/20]: 100%|██████████| 3824/3824 [00:18<00:00, 203.06it/s, loss=0.00487] \n"
     ]
    },
    {
     "name": "stdout",
     "output_type": "stream",
     "text": [
      "Epoch 15: Train Loss=0.0374, Val Loss=0.0467, Val Acc=0.9809\n"
     ]
    },
    {
     "name": "stderr",
     "output_type": "stream",
     "text": [
      "Epoch [16/20]: 100%|██████████| 3824/3824 [00:19<00:00, 199.94it/s, loss=0.172]   \n"
     ]
    },
    {
     "name": "stdout",
     "output_type": "stream",
     "text": [
      "Epoch 16: Train Loss=0.0341, Val Loss=0.0302, Val Acc=0.9884\n"
     ]
    },
    {
     "name": "stderr",
     "output_type": "stream",
     "text": [
      "Epoch [17/20]: 100%|██████████| 3824/3824 [00:18<00:00, 204.06it/s, loss=0.00121] \n"
     ]
    },
    {
     "name": "stdout",
     "output_type": "stream",
     "text": [
      "Epoch 17: Train Loss=0.0292, Val Loss=0.0274, Val Acc=0.9906\n"
     ]
    },
    {
     "name": "stderr",
     "output_type": "stream",
     "text": [
      "Epoch [18/20]: 100%|██████████| 3824/3824 [00:17<00:00, 216.94it/s, loss=0.00117] \n"
     ]
    },
    {
     "name": "stdout",
     "output_type": "stream",
     "text": [
      "Epoch 18: Train Loss=0.0264, Val Loss=0.0292, Val Acc=0.9895\n"
     ]
    },
    {
     "name": "stderr",
     "output_type": "stream",
     "text": [
      "Epoch [19/20]: 100%|██████████| 3824/3824 [00:19<00:00, 194.84it/s, loss=0.000458]\n"
     ]
    },
    {
     "name": "stdout",
     "output_type": "stream",
     "text": [
      "Epoch 19: Train Loss=0.0243, Val Loss=0.0225, Val Acc=0.9912\n"
     ]
    },
    {
     "name": "stderr",
     "output_type": "stream",
     "text": [
      "Epoch [20/20]: 100%|██████████| 3824/3824 [00:19<00:00, 196.82it/s, loss=0.0157]  \n"
     ]
    },
    {
     "name": "stdout",
     "output_type": "stream",
     "text": [
      "Epoch 20: Train Loss=0.0213, Val Loss=0.0301, Val Acc=0.9891\n",
      "Finish training model: LSTM_Model\n"
     ]
    }
   ],
   "source": [
    "from utils import scheduler\n",
    "from sequence_model import LSTM_Model\n",
    "import torch.nn as nn\n",
    "\n",
    "lstm_model = LSTM_Model()\n",
    "criterion = nn.CrossEntropyLoss()\n",
    "optimizer = torch.optim.Adam(lstm_model.parameters(), lr=1e-3)\n",
    "\n",
    "lstm_model, lstm_train_losses, lstm_val_losses, lstm_val_accuracies = train_model(\n",
    "    model=lstm_model,\n",
    "    criterion=criterion,\n",
    "    optimizer=optimizer,\n",
    "    epochs=20,\n",
    "    train_loader=train_loader,\n",
    "    val_loader=val_loader,\n",
    "    scheduler=scheduler,\n",
    "    patience=5\n",
    ")"
   ]
  },
  {
   "cell_type": "code",
   "execution_count": 17,
   "id": "b49709c9cc55521c",
   "metadata": {
    "ExecuteTime": {
     "end_time": "2025-05-02T00:15:23.635269Z",
     "start_time": "2025-05-02T00:15:23.179361Z"
    }
   },
   "outputs": [
    {
     "data": {
      "image/png": "[encoded data removed]",
      "text/plain": [
       "<Figure size 1200x400 with 3 Axes>"
      ]
     },
     "metadata": {},
     "output_type": "display_data"
    }
   ],
   "source": [
    "from utils import plot_training_results\n",
    "\n",
    "plot_training_results(lstm_train_losses, lstm_val_losses, lstm_val_accuracies)"
   ]
  },
  {
   "cell_type": "code",
   "execution_count": 18,
   "id": "1268f524f8a34e65",
   "metadata": {
    "ExecuteTime": {
     "end_time": "2025-05-02T00:15:27.315529Z",
     "start_time": "2025-05-02T00:15:25.971725Z"
    }
   },
   "outputs": [
    {
     "name": "stdout",
     "output_type": "stream",
     "text": [
      "Test Accuracy: 0.9972\n"
     ]
    }
   ],
   "source": [
    "test_model(lstm_model, test_loader)"
   ]
  },
  {
   "cell_type": "code",
   "execution_count": 24,
   "id": "48fc86a60661a361",
   "metadata": {
    "ExecuteTime": {
     "end_time": "2025-05-02T02:22:57.086819Z",
     "start_time": "2025-05-02T02:22:57.072505Z"
    }
   },
   "outputs": [],
   "source": [
    "torch.save(lstm_model.state_dict(), \"./model/lstm_model.pth\")"
   ]
  },
  {
   "cell_type": "code",
   "execution_count": 13,
   "id": "16ce6363dc4649ce",
   "metadata": {
    "ExecuteTime": {
     "end_time": "2025-05-07T08:56:31.830398Z",
     "start_time": "2025-05-07T08:55:45.701283Z"
    }
   },
   "outputs": [
    {
     "name": "stderr",
     "output_type": "stream",
     "text": [
      "C:\\Users\\sonnpm\\AppData\\Local\\Temp\\ipykernel_55796\\894757442.py:63: UserWarning: Creating a tensor from a list of numpy.ndarrays is extremely slow. Please consider converting the list to a single numpy.ndarray with numpy.array() before converting to a tensor. (Triggered internally at C:\\actions-runner\\_work\\pytorch\\pytorch\\pytorch\\torch\\csrc\\utils\\tensor_new.cpp:257.)\n",
      "  x_tensor = torch.tensor(sequences, dtype=torch.float32)  # (num_seq, seq_len, feature_dim)\n"
     ]
    },
    {
     "name": "stdout",
     "output_type": "stream",
     "text": [
      "torch.Size([450841, 10, 34])\n"
     ]
    }
   ],
   "source": [
    "from torch.utils.data import DataLoader\n",
    "import torch.optim as optim\n",
    "\n",
    "x_data_no_conf, y_data_no_conf = preprocess_sequences(all_data_np, sequence_length=10, stride=1, use_conf=False)\n",
    "train_set_no_conf, val_set_no_conf, test_set_no_conf = split_dataset(x_data_no_conf, y_data_no_conf)\n",
    "\n",
    "batch_size = 128\n",
    "\n",
    "train_loader_no_conf = DataLoader(train_set_no_conf, batch_size, shuffle=True)\n",
    "val_loader_no_conf = DataLoader(val_set_no_conf, batch_size)\n",
    "test_loader_no_conf = DataLoader(test_set_no_conf, batch_size)\n",
    "\n",
    "print(x_data_no_conf.shape)"
   ]
  },
  {
   "cell_type": "code",
   "execution_count": 14,
   "id": "ef0fd7868814e4e9",
   "metadata": {
    "ExecuteTime": {
     "start_time": "2025-05-07T08:57:10.664659Z"
    },
    "jupyter": {
     "is_executing": true
    },
    "scrolled": true
   },
   "outputs": [
    {
     "name": "stdout",
     "output_type": "stream",
     "text": [
      "Using device: cuda\n",
      "Start training model: LSTM_Model\n"
     ]
    },
    {
     "name": "stderr",
     "output_type": "stream",
     "text": [
      "Epoch [1/200]: 100%|██████████| 2818/2818 [00:14<00:00, 199.15it/s, loss=0.481]\n"
     ]
    },
    {
     "name": "stdout",
     "output_type": "stream",
     "text": [
      "Epoch 1: Train Loss=0.4712, Val Loss=0.3900, Val Acc=0.8183\n"
     ]
    },
    {
     "name": "stderr",
     "output_type": "stream",
     "text": [
      "Epoch [2/200]: 100%|██████████| 2818/2818 [00:14<00:00, 195.47it/s, loss=0.433]\n"
     ]
    },
    {
     "name": "stdout",
     "output_type": "stream",
     "text": [
      "Epoch 2: Train Loss=0.3639, Val Loss=0.3351, Val Acc=0.8480\n"
     ]
    },
    {
     "name": "stderr",
     "output_type": "stream",
     "text": [
      "Epoch [3/200]: 100%|██████████| 2818/2818 [00:14<00:00, 200.37it/s, loss=0.322]\n"
     ]
    },
    {
     "name": "stdout",
     "output_type": "stream",
     "text": [
      "Epoch 3: Train Loss=0.3136, Val Loss=0.2950, Val Acc=0.8694\n"
     ]
    },
    {
     "name": "stderr",
     "output_type": "stream",
     "text": [
      "Epoch [4/200]: 100%|██████████| 2818/2818 [00:13<00:00, 202.77it/s, loss=0.312]\n"
     ]
    },
    {
     "name": "stdout",
     "output_type": "stream",
     "text": [
      "Epoch 4: Train Loss=0.2741, Val Loss=0.2605, Val Acc=0.8872\n"
     ]
    },
    {
     "name": "stderr",
     "output_type": "stream",
     "text": [
      "Epoch [5/200]: 100%|██████████| 2818/2818 [00:13<00:00, 211.03it/s, loss=0.218] \n"
     ]
    },
    {
     "name": "stdout",
     "output_type": "stream",
     "text": [
      "Epoch 5: Train Loss=0.2433, Val Loss=0.2306, Val Acc=0.9009\n"
     ]
    },
    {
     "name": "stderr",
     "output_type": "stream",
     "text": [
      "Epoch [6/200]: 100%|██████████| 2818/2818 [00:13<00:00, 213.51it/s, loss=0.216] \n"
     ]
    },
    {
     "name": "stdout",
     "output_type": "stream",
     "text": [
      "Epoch 6: Train Loss=0.2172, Val Loss=0.2159, Val Acc=0.9095\n"
     ]
    },
    {
     "name": "stderr",
     "output_type": "stream",
     "text": [
      "Epoch [7/200]: 100%|██████████| 2818/2818 [00:13<00:00, 208.44it/s, loss=0.243] \n"
     ]
    },
    {
     "name": "stdout",
     "output_type": "stream",
     "text": [
      "Epoch 7: Train Loss=0.1979, Val Loss=0.1960, Val Acc=0.9188\n"
     ]
    },
    {
     "name": "stderr",
     "output_type": "stream",
     "text": [
      "Epoch [8/200]: 100%|██████████| 2818/2818 [00:14<00:00, 194.11it/s, loss=0.195] \n"
     ]
    },
    {
     "name": "stdout",
     "output_type": "stream",
     "text": [
      "Epoch 8: Train Loss=0.1801, Val Loss=0.1866, Val Acc=0.9228\n"
     ]
    },
    {
     "name": "stderr",
     "output_type": "stream",
     "text": [
      "Epoch [9/200]: 100%|██████████| 2818/2818 [00:16<00:00, 168.92it/s, loss=0.0949]\n"
     ]
    },
    {
     "name": "stdout",
     "output_type": "stream",
     "text": [
      "Epoch 9: Train Loss=0.1681, Val Loss=0.1821, Val Acc=0.9235\n"
     ]
    },
    {
     "name": "stderr",
     "output_type": "stream",
     "text": [
      "Epoch [10/200]: 100%|██████████| 2818/2818 [00:14<00:00, 189.81it/s, loss=0.14]  \n"
     ]
    },
    {
     "name": "stdout",
     "output_type": "stream",
     "text": [
      "Epoch 10: Train Loss=0.1565, Val Loss=0.1724, Val Acc=0.9296\n"
     ]
    },
    {
     "name": "stderr",
     "output_type": "stream",
     "text": [
      "Epoch [11/200]: 100%|██████████| 2818/2818 [00:14<00:00, 197.54it/s, loss=0.154] \n"
     ]
    },
    {
     "name": "stdout",
     "output_type": "stream",
     "text": [
      "Epoch 11: Train Loss=0.1468, Val Loss=0.1593, Val Acc=0.9355\n"
     ]
    },
    {
     "name": "stderr",
     "output_type": "stream",
     "text": [
      "Epoch [12/200]: 100%|██████████| 2818/2818 [00:13<00:00, 201.86it/s, loss=0.175] \n"
     ]
    },
    {
     "name": "stdout",
     "output_type": "stream",
     "text": [
      "Epoch 12: Train Loss=0.1341, Val Loss=0.1444, Val Acc=0.9409\n"
     ]
    },
    {
     "name": "stderr",
     "output_type": "stream",
     "text": [
      "Epoch [13/200]: 100%|██████████| 2818/2818 [00:13<00:00, 203.50it/s, loss=0.133] \n"
     ]
    },
    {
     "name": "stdout",
     "output_type": "stream",
     "text": [
      "Epoch 13: Train Loss=0.1247, Val Loss=0.1320, Val Acc=0.9455\n"
     ]
    },
    {
     "name": "stderr",
     "output_type": "stream",
     "text": [
      "Epoch [14/200]: 100%|██████████| 2818/2818 [00:14<00:00, 189.56it/s, loss=0.12]  \n"
     ]
    },
    {
     "name": "stdout",
     "output_type": "stream",
     "text": [
      "Epoch 14: Train Loss=0.1145, Val Loss=0.1225, Val Acc=0.9513\n"
     ]
    },
    {
     "name": "stderr",
     "output_type": "stream",
     "text": [
      "Epoch [15/200]: 100%|██████████| 2818/2818 [00:13<00:00, 202.36it/s, loss=0.105] \n"
     ]
    },
    {
     "name": "stdout",
     "output_type": "stream",
     "text": [
      "Epoch 15: Train Loss=0.1060, Val Loss=0.1204, Val Acc=0.9520\n"
     ]
    },
    {
     "name": "stderr",
     "output_type": "stream",
     "text": [
      "Epoch [16/200]: 100%|██████████| 2818/2818 [00:14<00:00, 193.72it/s, loss=0.13]  \n"
     ]
    },
    {
     "name": "stdout",
     "output_type": "stream",
     "text": [
      "Epoch 16: Train Loss=0.0988, Val Loss=0.1124, Val Acc=0.9552\n"
     ]
    },
    {
     "name": "stderr",
     "output_type": "stream",
     "text": [
      "Epoch [17/200]: 100%|██████████| 2818/2818 [00:14<00:00, 191.61it/s, loss=0.152] \n"
     ]
    },
    {
     "name": "stdout",
     "output_type": "stream",
     "text": [
      "Epoch 17: Train Loss=0.0927, Val Loss=0.1130, Val Acc=0.9553\n"
     ]
    },
    {
     "name": "stderr",
     "output_type": "stream",
     "text": [
      "Epoch [18/200]: 100%|██████████| 2818/2818 [00:14<00:00, 193.53it/s, loss=0.0589]\n"
     ]
    },
    {
     "name": "stdout",
     "output_type": "stream",
     "text": [
      "Epoch 18: Train Loss=0.0866, Val Loss=0.1000, Val Acc=0.9614\n"
     ]
    },
    {
     "name": "stderr",
     "output_type": "stream",
     "text": [
      "Epoch [19/200]: 100%|██████████| 2818/2818 [00:14<00:00, 195.45it/s, loss=0.076] \n"
     ]
    },
    {
     "name": "stdout",
     "output_type": "stream",
     "text": [
      "Epoch 19: Train Loss=0.0819, Val Loss=0.0976, Val Acc=0.9622\n"
     ]
    },
    {
     "name": "stderr",
     "output_type": "stream",
     "text": [
      "Epoch [20/200]: 100%|██████████| 2818/2818 [00:14<00:00, 194.08it/s, loss=0.04]  \n"
     ]
    },
    {
     "name": "stdout",
     "output_type": "stream",
     "text": [
      "Epoch 20: Train Loss=0.0772, Val Loss=0.0987, Val Acc=0.9620\n"
     ]
    },
    {
     "name": "stderr",
     "output_type": "stream",
     "text": [
      "Epoch [21/200]: 100%|██████████| 2818/2818 [00:16<00:00, 174.23it/s, loss=0.0168]\n"
     ]
    },
    {
     "name": "stdout",
     "output_type": "stream",
     "text": [
      "Epoch 21: Train Loss=0.0734, Val Loss=0.0949, Val Acc=0.9624\n"
     ]
    },
    {
     "name": "stderr",
     "output_type": "stream",
     "text": [
      "Epoch [22/200]: 100%|██████████| 2818/2818 [00:14<00:00, 192.76it/s, loss=0.109] \n"
     ]
    },
    {
     "name": "stdout",
     "output_type": "stream",
     "text": [
      "Epoch 22: Train Loss=0.0697, Val Loss=0.0908, Val Acc=0.9648\n"
     ]
    },
    {
     "name": "stderr",
     "output_type": "stream",
     "text": [
      "Epoch [23/200]: 100%|██████████| 2818/2818 [00:14<00:00, 196.16it/s, loss=0.0575]\n"
     ]
    },
    {
     "name": "stdout",
     "output_type": "stream",
     "text": [
      "Epoch 23: Train Loss=0.0663, Val Loss=0.0930, Val Acc=0.9649\n"
     ]
    },
    {
     "name": "stderr",
     "output_type": "stream",
     "text": [
      "Epoch [24/200]: 100%|██████████| 2818/2818 [00:14<00:00, 195.67it/s, loss=0.0514]\n"
     ]
    },
    {
     "name": "stdout",
     "output_type": "stream",
     "text": [
      "Epoch 24: Train Loss=0.0640, Val Loss=0.0880, Val Acc=0.9663\n"
     ]
    },
    {
     "name": "stderr",
     "output_type": "stream",
     "text": [
      "Epoch [25/200]: 100%|██████████| 2818/2818 [00:14<00:00, 199.39it/s, loss=0.0225] \n"
     ]
    },
    {
     "name": "stdout",
     "output_type": "stream",
     "text": [
      "Epoch 25: Train Loss=0.0608, Val Loss=0.0860, Val Acc=0.9675\n"
     ]
    },
    {
     "name": "stderr",
     "output_type": "stream",
     "text": [
      "Epoch [26/200]: 100%|██████████| 2818/2818 [00:14<00:00, 196.10it/s, loss=0.0171] \n"
     ]
    },
    {
     "name": "stdout",
     "output_type": "stream",
     "text": [
      "Epoch 26: Train Loss=0.0588, Val Loss=0.0840, Val Acc=0.9680\n"
     ]
    },
    {
     "name": "stderr",
     "output_type": "stream",
     "text": [
      "Epoch [27/200]: 100%|██████████| 2818/2818 [00:14<00:00, 200.28it/s, loss=0.0376]\n"
     ]
    },
    {
     "name": "stdout",
     "output_type": "stream",
     "text": [
      "Epoch 27: Train Loss=0.0566, Val Loss=0.0816, Val Acc=0.9687\n"
     ]
    },
    {
     "name": "stderr",
     "output_type": "stream",
     "text": [
      "Epoch [28/200]: 100%|██████████| 2818/2818 [00:13<00:00, 211.81it/s, loss=0.0257]\n"
     ]
    },
    {
     "name": "stdout",
     "output_type": "stream",
     "text": [
      "Epoch 28: Train Loss=0.0547, Val Loss=0.0815, Val Acc=0.9697\n"
     ]
    },
    {
     "name": "stderr",
     "output_type": "stream",
     "text": [
      "Epoch [29/200]: 100%|██████████| 2818/2818 [00:14<00:00, 197.57it/s, loss=0.0425] \n"
     ]
    },
    {
     "name": "stdout",
     "output_type": "stream",
     "text": [
      "Epoch 29: Train Loss=0.0529, Val Loss=0.0818, Val Acc=0.9689\n"
     ]
    },
    {
     "name": "stderr",
     "output_type": "stream",
     "text": [
      "Epoch [30/200]: 100%|██████████| 2818/2818 [00:14<00:00, 192.93it/s, loss=0.075]  \n"
     ]
    },
    {
     "name": "stdout",
     "output_type": "stream",
     "text": [
      "Epoch 30: Train Loss=0.0512, Val Loss=0.0800, Val Acc=0.9706\n"
     ]
    },
    {
     "name": "stderr",
     "output_type": "stream",
     "text": [
      "Epoch [31/200]: 100%|██████████| 2818/2818 [00:14<00:00, 189.62it/s, loss=0.0954] \n"
     ]
    },
    {
     "name": "stdout",
     "output_type": "stream",
     "text": [
      "Epoch 31: Train Loss=0.0500, Val Loss=0.0777, Val Acc=0.9713\n"
     ]
    },
    {
     "name": "stderr",
     "output_type": "stream",
     "text": [
      "Epoch [32/200]: 100%|██████████| 2818/2818 [00:14<00:00, 193.70it/s, loss=0.0655] \n"
     ]
    },
    {
     "name": "stdout",
     "output_type": "stream",
     "text": [
      "Epoch 32: Train Loss=0.0488, Val Loss=0.0779, Val Acc=0.9713\n"
     ]
    },
    {
     "name": "stderr",
     "output_type": "stream",
     "text": [
      "Epoch [33/200]: 100%|██████████| 2818/2818 [00:14<00:00, 194.98it/s, loss=0.0797] \n"
     ]
    },
    {
     "name": "stdout",
     "output_type": "stream",
     "text": [
      "Epoch 33: Train Loss=0.0477, Val Loss=0.0773, Val Acc=0.9716\n"
     ]
    },
    {
     "name": "stderr",
     "output_type": "stream",
     "text": [
      "Epoch [34/200]: 100%|██████████| 2818/2818 [00:14<00:00, 196.29it/s, loss=0.0493] \n"
     ]
    },
    {
     "name": "stdout",
     "output_type": "stream",
     "text": [
      "Epoch 34: Train Loss=0.0467, Val Loss=0.0790, Val Acc=0.9713\n"
     ]
    },
    {
     "name": "stderr",
     "output_type": "stream",
     "text": [
      "Epoch [35/200]: 100%|██████████| 2818/2818 [00:14<00:00, 192.18it/s, loss=0.0916] \n"
     ]
    },
    {
     "name": "stdout",
     "output_type": "stream",
     "text": [
      "Epoch 35: Train Loss=0.0458, Val Loss=0.0754, Val Acc=0.9727\n"
     ]
    },
    {
     "name": "stderr",
     "output_type": "stream",
     "text": [
      "Epoch [36/200]: 100%|██████████| 2818/2818 [00:14<00:00, 199.14it/s, loss=0.0217] \n"
     ]
    },
    {
     "name": "stdout",
     "output_type": "stream",
     "text": [
      "Epoch 36: Train Loss=0.0448, Val Loss=0.0763, Val Acc=0.9721\n"
     ]
    },
    {
     "name": "stderr",
     "output_type": "stream",
     "text": [
      "Epoch [37/200]: 100%|██████████| 2818/2818 [00:14<00:00, 194.53it/s, loss=0.0494] \n"
     ]
    },
    {
     "name": "stdout",
     "output_type": "stream",
     "text": [
      "Epoch 37: Train Loss=0.0441, Val Loss=0.0757, Val Acc=0.9724\n"
     ]
    },
    {
     "name": "stderr",
     "output_type": "stream",
     "text": [
      "Epoch [38/200]: 100%|██████████| 2818/2818 [00:14<00:00, 198.26it/s, loss=0.0464] \n"
     ]
    },
    {
     "name": "stdout",
     "output_type": "stream",
     "text": [
      "Epoch 38: Train Loss=0.0436, Val Loss=0.0764, Val Acc=0.9720\n"
     ]
    },
    {
     "name": "stderr",
     "output_type": "stream",
     "text": [
      "Epoch [39/200]: 100%|██████████| 2818/2818 [00:14<00:00, 197.10it/s, loss=0.0175] \n"
     ]
    },
    {
     "name": "stdout",
     "output_type": "stream",
     "text": [
      "Epoch 39: Train Loss=0.0431, Val Loss=0.0754, Val Acc=0.9724\n"
     ]
    },
    {
     "name": "stderr",
     "output_type": "stream",
     "text": [
      "Epoch [40/200]: 100%|██████████| 2818/2818 [00:14<00:00, 189.92it/s, loss=0.0718] \n"
     ]
    },
    {
     "name": "stdout",
     "output_type": "stream",
     "text": [
      "Epoch 40: Train Loss=0.0425, Val Loss=0.0755, Val Acc=0.9727\n",
      "Early stopping triggered after 40 epochs\n",
      "Finish training model: LSTM_Model\n"
     ]
    }
   ],
   "source": [
    "from utils import scheduler\n",
    "from sequence_model import LSTM_Model\n",
    "import torch.nn as nn\n",
    "\n",
    "lstm_model_no_conf = LSTM_Model(input_dim=34)\n",
    "lstm_model_no_conf_criterion = nn.CrossEntropyLoss()\n",
    "lstm_model_no_conf_optimizer = torch.optim.Adam(lstm_model_no_conf.parameters(), lr=1e-3, weight_decay=1e-5)\n",
    "\n",
    "lstm_model_no_conf, lstm_train_losses, lstm_val_losses, lstm_val_accuracies = train_model(\n",
    "    model=lstm_model_no_conf,\n",
    "    criterion=lstm_model_no_conf_criterion,\n",
    "    optimizer=lstm_model_no_conf_optimizer,\n",
    "    epochs=200,\n",
    "    train_loader=train_loader_no_conf,\n",
    "    val_loader=val_loader_no_conf,\n",
    "    scheduler=scheduler,\n",
    "    patience=5\n",
    ")"
   ]
  },
  {
   "cell_type": "code",
   "execution_count": 18,
   "id": "2d9c60a5-7834-44eb-bec0-705f71f34832",
   "metadata": {},
   "outputs": [
    {
     "data": {
      "image/png": "[encoded data removed]",
      "text/plain": [
       "<Figure size 1200x400 with 3 Axes>"
      ]
     },
     "metadata": {},
     "output_type": "display_data"
    }
   ],
   "source": [
    "from utils import plot_training_results\n",
    "\n",
    "plot_training_results(lstm_train_losses, lstm_val_losses, lstm_val_accuracies)"
   ]
  },
  {
   "cell_type": "code",
   "execution_count": 17,
   "id": "4a0b80bb69af9bf9",
   "metadata": {
    "ExecuteTime": {
     "end_time": "2025-05-02T11:26:34.060737Z",
     "start_time": "2025-05-02T11:26:34.040898Z"
    }
   },
   "outputs": [],
   "source": [
    "torch.save(lstm_model_no_conf.state_dict(), \"./model/lstm_model_no_conf.pth\")"
   ]
  },
  {
   "cell_type": "code",
   "execution_count": 21,
   "id": "f13df513-9c9b-4d8d-ae80-18ca2127b557",
   "metadata": {},
   "outputs": [
    {
     "name": "stdout",
     "output_type": "stream",
     "text": [
      "Test Accuracy: 0.9716\n"
     ]
    }
   ],
   "source": [
    "test_model(lstm_model_no_conf, test_loader_no_conf)"
   ]
  },
  {
   "cell_type": "code",
   "execution_count": 20,
   "id": "70f57207-ef1e-4bef-a5fd-096113cc787e",
   "metadata": {
    "scrolled": true
   },
   "outputs": [
    {
     "name": "stdout",
     "output_type": "stream",
     "text": [
      "Using device: cuda\n",
      "Start training model: LSTM_Model_2\n"
     ]
    },
    {
     "name": "stderr",
     "output_type": "stream",
     "text": [
      "Epoch [1/200]: 100%|██████████| 2818/2818 [00:16<00:00, 173.81it/s, loss=0.403]\n"
     ]
    },
    {
     "name": "stdout",
     "output_type": "stream",
     "text": [
      "Epoch 1: Train Loss=0.4743, Val Loss=0.3972, Val Acc=0.8139\n"
     ]
    },
    {
     "name": "stderr",
     "output_type": "stream",
     "text": [
      "Epoch [2/200]: 100%|██████████| 2818/2818 [00:15<00:00, 187.44it/s, loss=0.227]\n"
     ]
    },
    {
     "name": "stdout",
     "output_type": "stream",
     "text": [
      "Epoch 2: Train Loss=0.3461, Val Loss=0.2915, Val Acc=0.8710\n"
     ]
    },
    {
     "name": "stderr",
     "output_type": "stream",
     "text": [
      "Epoch [3/200]: 100%|██████████| 2818/2818 [00:15<00:00, 186.13it/s, loss=0.267]\n"
     ]
    },
    {
     "name": "stdout",
     "output_type": "stream",
     "text": [
      "Epoch 3: Train Loss=0.2667, Val Loss=0.2356, Val Acc=0.8974\n"
     ]
    },
    {
     "name": "stderr",
     "output_type": "stream",
     "text": [
      "Epoch [4/200]: 100%|██████████| 2818/2818 [00:15<00:00, 181.35it/s, loss=0.22]  \n"
     ]
    },
    {
     "name": "stdout",
     "output_type": "stream",
     "text": [
      "Epoch 4: Train Loss=0.2280, Val Loss=0.2109, Val Acc=0.9113\n"
     ]
    },
    {
     "name": "stderr",
     "output_type": "stream",
     "text": [
      "Epoch [5/200]: 100%|██████████| 2818/2818 [00:15<00:00, 183.36it/s, loss=0.148] \n"
     ]
    },
    {
     "name": "stdout",
     "output_type": "stream",
     "text": [
      "Epoch 5: Train Loss=0.2019, Val Loss=0.1960, Val Acc=0.9186\n"
     ]
    },
    {
     "name": "stderr",
     "output_type": "stream",
     "text": [
      "Epoch [6/200]: 100%|██████████| 2818/2818 [00:15<00:00, 178.18it/s, loss=0.172] \n"
     ]
    },
    {
     "name": "stdout",
     "output_type": "stream",
     "text": [
      "Epoch 6: Train Loss=0.1825, Val Loss=0.1722, Val Acc=0.9276\n"
     ]
    },
    {
     "name": "stderr",
     "output_type": "stream",
     "text": [
      "Epoch [7/200]: 100%|██████████| 2818/2818 [00:15<00:00, 180.00it/s, loss=0.171] \n"
     ]
    },
    {
     "name": "stdout",
     "output_type": "stream",
     "text": [
      "Epoch 7: Train Loss=0.1658, Val Loss=0.1673, Val Acc=0.9297\n"
     ]
    },
    {
     "name": "stderr",
     "output_type": "stream",
     "text": [
      "Epoch [8/200]: 100%|██████████| 2818/2818 [00:15<00:00, 187.09it/s, loss=0.0977]\n"
     ]
    },
    {
     "name": "stdout",
     "output_type": "stream",
     "text": [
      "Epoch 8: Train Loss=0.1523, Val Loss=0.1488, Val Acc=0.9389\n"
     ]
    },
    {
     "name": "stderr",
     "output_type": "stream",
     "text": [
      "Epoch [9/200]: 100%|██████████| 2818/2818 [00:15<00:00, 182.33it/s, loss=0.0649]\n"
     ]
    },
    {
     "name": "stdout",
     "output_type": "stream",
     "text": [
      "Epoch 9: Train Loss=0.1409, Val Loss=0.1550, Val Acc=0.9379\n"
     ]
    },
    {
     "name": "stderr",
     "output_type": "stream",
     "text": [
      "Epoch [10/200]: 100%|██████████| 2818/2818 [00:15<00:00, 180.73it/s, loss=0.0991]\n"
     ]
    },
    {
     "name": "stdout",
     "output_type": "stream",
     "text": [
      "Epoch 10: Train Loss=0.1324, Val Loss=0.1377, Val Acc=0.9439\n"
     ]
    },
    {
     "name": "stderr",
     "output_type": "stream",
     "text": [
      "Epoch [11/200]: 100%|██████████| 2818/2818 [00:15<00:00, 183.84it/s, loss=0.193] \n"
     ]
    },
    {
     "name": "stdout",
     "output_type": "stream",
     "text": [
      "Epoch 11: Train Loss=0.1245, Val Loss=0.1438, Val Acc=0.9403\n"
     ]
    },
    {
     "name": "stderr",
     "output_type": "stream",
     "text": [
      "Epoch [12/200]: 100%|██████████| 2818/2818 [00:15<00:00, 186.75it/s, loss=0.152] \n"
     ]
    },
    {
     "name": "stdout",
     "output_type": "stream",
     "text": [
      "Epoch 12: Train Loss=0.1124, Val Loss=0.1251, Val Acc=0.9490\n"
     ]
    },
    {
     "name": "stderr",
     "output_type": "stream",
     "text": [
      "Epoch [13/200]: 100%|██████████| 2818/2818 [00:15<00:00, 182.59it/s, loss=0.152] \n"
     ]
    },
    {
     "name": "stdout",
     "output_type": "stream",
     "text": [
      "Epoch 13: Train Loss=0.1022, Val Loss=0.1151, Val Acc=0.9545\n"
     ]
    },
    {
     "name": "stderr",
     "output_type": "stream",
     "text": [
      "Epoch [14/200]: 100%|██████████| 2818/2818 [00:15<00:00, 186.06it/s, loss=0.127] \n"
     ]
    },
    {
     "name": "stdout",
     "output_type": "stream",
     "text": [
      "Epoch 14: Train Loss=0.0939, Val Loss=0.1098, Val Acc=0.9568\n"
     ]
    },
    {
     "name": "stderr",
     "output_type": "stream",
     "text": [
      "Epoch [15/200]: 100%|██████████| 2818/2818 [00:15<00:00, 182.88it/s, loss=0.0293]\n"
     ]
    },
    {
     "name": "stdout",
     "output_type": "stream",
     "text": [
      "Epoch 15: Train Loss=0.0862, Val Loss=0.0953, Val Acc=0.9627\n"
     ]
    },
    {
     "name": "stderr",
     "output_type": "stream",
     "text": [
      "Epoch [16/200]: 100%|██████████| 2818/2818 [00:15<00:00, 185.31it/s, loss=0.102] \n"
     ]
    },
    {
     "name": "stdout",
     "output_type": "stream",
     "text": [
      "Epoch 16: Train Loss=0.0791, Val Loss=0.0969, Val Acc=0.9619\n"
     ]
    },
    {
     "name": "stderr",
     "output_type": "stream",
     "text": [
      "Epoch [17/200]: 100%|██████████| 2818/2818 [00:15<00:00, 185.81it/s, loss=0.0644]\n"
     ]
    },
    {
     "name": "stdout",
     "output_type": "stream",
     "text": [
      "Epoch 17: Train Loss=0.0737, Val Loss=0.0944, Val Acc=0.9638\n"
     ]
    },
    {
     "name": "stderr",
     "output_type": "stream",
     "text": [
      "Epoch [18/200]: 100%|██████████| 2818/2818 [00:15<00:00, 185.51it/s, loss=0.0506]\n"
     ]
    },
    {
     "name": "stdout",
     "output_type": "stream",
     "text": [
      "Epoch 18: Train Loss=0.0678, Val Loss=0.0898, Val Acc=0.9665\n"
     ]
    },
    {
     "name": "stderr",
     "output_type": "stream",
     "text": [
      "Epoch [19/200]: 100%|██████████| 2818/2818 [00:15<00:00, 176.47it/s, loss=0.0625] \n"
     ]
    },
    {
     "name": "stdout",
     "output_type": "stream",
     "text": [
      "Epoch 19: Train Loss=0.0636, Val Loss=0.0851, Val Acc=0.9682\n"
     ]
    },
    {
     "name": "stderr",
     "output_type": "stream",
     "text": [
      "Epoch [20/200]: 100%|██████████| 2818/2818 [00:15<00:00, 187.29it/s, loss=0.0422] \n"
     ]
    },
    {
     "name": "stdout",
     "output_type": "stream",
     "text": [
      "Epoch 20: Train Loss=0.0598, Val Loss=0.0880, Val Acc=0.9669\n"
     ]
    },
    {
     "name": "stderr",
     "output_type": "stream",
     "text": [
      "Epoch [21/200]: 100%|██████████| 2818/2818 [00:15<00:00, 183.01it/s, loss=0.0549] \n"
     ]
    },
    {
     "name": "stdout",
     "output_type": "stream",
     "text": [
      "Epoch 21: Train Loss=0.0557, Val Loss=0.0833, Val Acc=0.9685\n"
     ]
    },
    {
     "name": "stderr",
     "output_type": "stream",
     "text": [
      "Epoch [22/200]: 100%|██████████| 2818/2818 [00:15<00:00, 183.16it/s, loss=0.0535] \n"
     ]
    },
    {
     "name": "stdout",
     "output_type": "stream",
     "text": [
      "Epoch 22: Train Loss=0.0527, Val Loss=0.0904, Val Acc=0.9683\n"
     ]
    },
    {
     "name": "stderr",
     "output_type": "stream",
     "text": [
      "Epoch [23/200]: 100%|██████████| 2818/2818 [00:14<00:00, 188.08it/s, loss=0.0549] \n"
     ]
    },
    {
     "name": "stdout",
     "output_type": "stream",
     "text": [
      "Epoch 23: Train Loss=0.0501, Val Loss=0.0788, Val Acc=0.9724\n"
     ]
    },
    {
     "name": "stderr",
     "output_type": "stream",
     "text": [
      "Epoch [24/200]: 100%|██████████| 2818/2818 [00:14<00:00, 188.02it/s, loss=0.0544] \n"
     ]
    },
    {
     "name": "stdout",
     "output_type": "stream",
     "text": [
      "Epoch 24: Train Loss=0.0475, Val Loss=0.0898, Val Acc=0.9685\n"
     ]
    },
    {
     "name": "stderr",
     "output_type": "stream",
     "text": [
      "Epoch [25/200]: 100%|██████████| 2818/2818 [00:15<00:00, 184.96it/s, loss=0.0698] \n"
     ]
    },
    {
     "name": "stdout",
     "output_type": "stream",
     "text": [
      "Epoch 25: Train Loss=0.0453, Val Loss=0.0802, Val Acc=0.9728\n"
     ]
    },
    {
     "name": "stderr",
     "output_type": "stream",
     "text": [
      "Epoch [26/200]: 100%|██████████| 2818/2818 [00:14<00:00, 188.71it/s, loss=0.00912]\n"
     ]
    },
    {
     "name": "stdout",
     "output_type": "stream",
     "text": [
      "Epoch 26: Train Loss=0.0433, Val Loss=0.0874, Val Acc=0.9704\n"
     ]
    },
    {
     "name": "stderr",
     "output_type": "stream",
     "text": [
      "Epoch [27/200]: 100%|██████████| 2818/2818 [00:15<00:00, 186.69it/s, loss=0.0499] \n"
     ]
    },
    {
     "name": "stdout",
     "output_type": "stream",
     "text": [
      "Epoch 27: Train Loss=0.0416, Val Loss=0.0785, Val Acc=0.9738\n"
     ]
    },
    {
     "name": "stderr",
     "output_type": "stream",
     "text": [
      "Epoch [28/200]: 100%|██████████| 2818/2818 [00:15<00:00, 183.61it/s, loss=0.0346] \n"
     ]
    },
    {
     "name": "stdout",
     "output_type": "stream",
     "text": [
      "Epoch 28: Train Loss=0.0400, Val Loss=0.0805, Val Acc=0.9747\n"
     ]
    },
    {
     "name": "stderr",
     "output_type": "stream",
     "text": [
      "Epoch [29/200]: 100%|██████████| 2818/2818 [00:15<00:00, 181.65it/s, loss=0.0315]  \n"
     ]
    },
    {
     "name": "stdout",
     "output_type": "stream",
     "text": [
      "Epoch 29: Train Loss=0.0388, Val Loss=0.0793, Val Acc=0.9750\n"
     ]
    },
    {
     "name": "stderr",
     "output_type": "stream",
     "text": [
      "Epoch [30/200]: 100%|██████████| 2818/2818 [00:15<00:00, 184.11it/s, loss=0.0277] \n"
     ]
    },
    {
     "name": "stdout",
     "output_type": "stream",
     "text": [
      "Epoch 30: Train Loss=0.0374, Val Loss=0.0785, Val Acc=0.9753\n"
     ]
    },
    {
     "name": "stderr",
     "output_type": "stream",
     "text": [
      "Epoch [31/200]: 100%|██████████| 2818/2818 [00:15<00:00, 186.33it/s, loss=0.0496] \n"
     ]
    },
    {
     "name": "stdout",
     "output_type": "stream",
     "text": [
      "Epoch 31: Train Loss=0.0360, Val Loss=0.0806, Val Acc=0.9762\n"
     ]
    },
    {
     "name": "stderr",
     "output_type": "stream",
     "text": [
      "Epoch [32/200]: 100%|██████████| 2818/2818 [00:15<00:00, 186.78it/s, loss=0.0112] \n"
     ]
    },
    {
     "name": "stdout",
     "output_type": "stream",
     "text": [
      "Epoch 32: Train Loss=0.0351, Val Loss=0.0849, Val Acc=0.9755\n"
     ]
    },
    {
     "name": "stderr",
     "output_type": "stream",
     "text": [
      "Epoch [33/200]: 100%|██████████| 2818/2818 [00:14<00:00, 192.40it/s, loss=0.092]  \n"
     ]
    },
    {
     "name": "stdout",
     "output_type": "stream",
     "text": [
      "Epoch 33: Train Loss=0.0341, Val Loss=0.0915, Val Acc=0.9740\n"
     ]
    },
    {
     "name": "stderr",
     "output_type": "stream",
     "text": [
      "Epoch [34/200]: 100%|██████████| 2818/2818 [00:14<00:00, 199.71it/s, loss=0.0547] \n"
     ]
    },
    {
     "name": "stdout",
     "output_type": "stream",
     "text": [
      "Epoch 34: Train Loss=0.0333, Val Loss=0.0841, Val Acc=0.9764\n"
     ]
    },
    {
     "name": "stderr",
     "output_type": "stream",
     "text": [
      "Epoch [35/200]: 100%|██████████| 2818/2818 [00:15<00:00, 183.73it/s, loss=0.0648] \n"
     ]
    },
    {
     "name": "stdout",
     "output_type": "stream",
     "text": [
      "Epoch 35: Train Loss=0.0326, Val Loss=0.0859, Val Acc=0.9762\n"
     ]
    },
    {
     "name": "stderr",
     "output_type": "stream",
     "text": [
      "Epoch [36/200]: 100%|██████████| 2818/2818 [00:15<00:00, 182.08it/s, loss=0.0126] \n"
     ]
    },
    {
     "name": "stdout",
     "output_type": "stream",
     "text": [
      "Epoch 36: Train Loss=0.0318, Val Loss=0.0873, Val Acc=0.9760\n"
     ]
    },
    {
     "name": "stderr",
     "output_type": "stream",
     "text": [
      "Epoch [37/200]: 100%|██████████| 2818/2818 [00:15<00:00, 176.16it/s, loss=0.00732] \n"
     ]
    },
    {
     "name": "stdout",
     "output_type": "stream",
     "text": [
      "Epoch 37: Train Loss=0.0313, Val Loss=0.0856, Val Acc=0.9765\n",
      "Early stopping triggered after 37 epochs\n",
      "Finish training model: LSTM_Model_2\n"
     ]
    }
   ],
   "source": [
    "from utils import scheduler\n",
    "from sequence_model import LSTM_Model_2\n",
    "import torch.nn as nn\n",
    "\n",
    "lstm_model_no_conf2 = LSTM_Model_2(input_dim=34)\n",
    "lstm_model_no_conf2_criterion = nn.CrossEntropyLoss()\n",
    "lstm_model_no_conf2_optimizer = torch.optim.Adam(lstm_model_no_conf2.parameters(), lr=1e-3, weight_decay=1e-5)\n",
    "\n",
    "lstm_model_no_conf2, lstm_train_losses, lstm_val_losses, lstm_val_accuracies = train_model(\n",
    "    model=lstm_model_no_conf2,\n",
    "    criterion=lstm_model_no_conf2_criterion,\n",
    "    optimizer=lstm_model_no_conf2_optimizer,\n",
    "    epochs=200,\n",
    "    train_loader=train_loader_no_conf,\n",
    "    val_loader=val_loader_no_conf,\n",
    "    scheduler=scheduler,\n",
    "    patience=10\n",
    ")"
   ]
  },
  {
   "cell_type": "code",
   "execution_count": 22,
   "id": "4a87442e-0e05-4913-a4b6-316f5c77b919",
   "metadata": {},
   "outputs": [
    {
     "data": {
      "image/png": "[encoded data removed]",
      "text/plain": [
       "<Figure size 1200x400 with 3 Axes>"
      ]
     },
     "metadata": {},
     "output_type": "display_data"
    }
   ],
   "source": [
    "from utils import plot_training_results\n",
    "\n",
    "plot_training_results(lstm_train_losses, lstm_val_losses, lstm_val_accuracies)"
   ]
  },
  {
   "cell_type": "code",
   "execution_count": 23,
   "id": "bd810783-348c-4652-ae43-b8208b86ffc4",
   "metadata": {},
   "outputs": [
    {
     "name": "stdout",
     "output_type": "stream",
     "text": [
      "Test Accuracy: 0.9762\n"
     ]
    }
   ],
   "source": [
    "torch.save(lstm_model_no_conf2.state_dict(), \"./model/lstm_model_no_conf2.pth\")\n",
    "test_model(lstm_model_no_conf2, test_loader_no_conf)"
   ]
  },
  {
   "cell_type": "code",
   "execution_count": null,
   "id": "49c93cce-e981-4d33-8aa9-5d13eb402571",
   "metadata": {},
   "outputs": [],
   "source": []
  }
 ],
 "metadata": {
  "kernelspec": {
   "display_name": "Python 3 (ipykernel)",
   "language": "python",
   "name": "python3"
  },
  "language_info": {
   "codemirror_mode": {
    "name": "ipython",
    "version": 3
   },
   "file_extension": ".py",
   "mimetype": "text/x-python",
   "name": "python",
   "nbconvert_exporter": "python",
   "pygments_lexer": "ipython3",
   "version": "3.12.9"
  }
 },
 "nbformat": 4,
 "nbformat_minor": 5
}
