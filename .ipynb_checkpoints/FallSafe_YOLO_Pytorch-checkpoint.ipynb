{
 "cells": [
  {
   "cell_type": "code",
   "execution_count": 25,
   "id": "initial_id",
   "metadata": {},
   "outputs": [
    {
     "name": "stdout",
     "output_type": "stream",
     "text": [
      "PyTorch version: 2.6.0+cu126\n",
      "Torchvision version: 0.21.0+cu126\n",
      "CUDA is available. PyTorch is using GPU: NVIDIA GeForce RTX 3060 Laptop GPU\n"
     ]
    }
   ],
   "source": [
    "import torch\n",
    "import torchvision\n",
    "\n",
    "print(\"PyTorch version:\", torch.__version__)\n",
    "print(\"Torchvision version:\", torchvision.__version__)\n",
    "if torch.cuda.is_available():\n",
    "    print(\"CUDA is available. PyTorch is using GPU:\", torch.cuda.get_device_name(0))\n",
    "else:\n",
    "    print(\"CUDA is NOT available. PyTorch is using CPU.\")"
   ]
  },
  {
   "cell_type": "code",
   "execution_count": 1,
   "id": "64c9983a-ace8-4ff9-a2e7-f866aaf12083",
   "metadata": {},
   "outputs": [
    {
     "name": "stdout",
     "output_type": "stream",
     "text": [
      "<class 'models.LSTM_Model'>\n"
     ]
    }
   ],
   "source": [
    "from models import CNN_Model, LSTM_Model, BiLSTM_Model, rule_fall_detection, Rule_Model\n",
    "\n",
    "print(LSTM_Model)"
   ]
  },
  {
   "cell_type": "code",
   "execution_count": 2,
   "id": "d9db0cbe-5fc6-49bf-baaa-97e32826bc4e",
   "metadata": {},
   "outputs": [
    {
     "name": "stdout",
     "output_type": "stream",
     "text": [
      "['213.86915588378906', '66.06787872314453', '245.36093139648438', '160.8792724609375', '228.40293884277344', '76.34473419189453', '0.9424185752868652', '230.2623748779297', '74.17759704589844', '0.9156703352928162', '226.6461181640625', '74.50898742675781', '0.782278835773468', '234.19691467285156', '75.8281021118164', '0.825977623462677', '0.0', '0.0', '0.38768282532691956', '239.1170654296875', '88.71800994873047', '0.9914864301681519', '224.50448608398438', '89.87483215332031', '0.9615622758865356', '243.29200744628906', '104.1490707397461', '0.9646899104118347', '222.00782775878906', '105.09140014648438', '0.7674667239189148', '238.1511993408203', '119.3595199584961', '0.9240130186080933', '221.8865203857422', '119.2650146484375', '0.713083803653717', '236.1707305908203', '120.35301208496094', '0.9916566610336304', '226.21937561035156', '120.42048645019531', '0.9806389212608337', '236.69302368164062', '142.2818603515625', '0.9722954034805298', '223.82164001464844', '142.39659118652344', '0.9399847388267517', '237.01687622070312', '160.86378479003906', '0.8877588510513306', '221.9446258544922', '160.68411254882812', '0.825263500213623', 'adl-01-cam0_16']\n"
     ]
    }
   ],
   "source": [
    "import numpy as np\n",
    "import json\n",
    "import os\n",
    "import csv\n",
    "import pandas as pd\n",
    "\n",
    "ur_path = 'csv_data/ur_keypoints_yolo.csv'\n",
    "\n",
    "def read_data(path):\n",
    "  video_data = []\n",
    "  with open(path, mode='r') as csv_file:\n",
    "    reader = csv.reader(csv_file)\n",
    "    for row in reader:\n",
    "      video_data.append(row)\n",
    "  return video_data\n",
    "\n",
    "ur_data = read_data(ur_path)\n",
    "\n",
    "# not normalize yet\n",
    "print(ur_data[15])"
   ]
  },
  {
   "cell_type": "code",
   "execution_count": 3,
   "id": "7d67e354-858b-4215-a187-e178a9c96de6",
   "metadata": {},
   "outputs": [],
   "source": [
    "# normalize data according to the size of videos in different dataset\n",
    "def normalize(list, width, height, offset):\n",
    "  for record in list:\n",
    "    for i in range(offset, 51 + offset, 3): # 17 keypoints, each keypoint is x, y and confidence\n",
    "        record[i] = float(record[i]) / width\n",
    "        record[i + 1] = float(record[i + 1]) / height\n",
    "\n",
    "\n"
   ]
  },
  {
   "cell_type": "code",
   "execution_count": 4,
   "id": "0767081d-b65a-497a-841f-a4b025654b95",
   "metadata": {
    "scrolled": true
   },
   "outputs": [
    {
     "name": "stdout",
     "output_type": "stream",
     "text": [
      "['213.86915588378906', '66.06787872314453', '245.36093139648438', '160.8792724609375', 0.713759183883667, 0.3181030591328939, '0.9424185752868652', 0.7195699214935303, 0.3090733210245768, '0.9156703352928162', 0.7082691192626953, 0.31045411427815756, '0.782278835773468', 0.7318653583526611, 0.3159504254659017, '0.825977623462677', 0.0, 0.0, '0.38768282532691956', 0.7472408294677735, 0.369658374786377, '0.9914864301681519', 0.7015765190124512, 0.37447846730550133, '0.9615622758865356', 0.7602875232696533, 0.4339544614156087, '0.9646899104118347', 0.6937744617462158, 0.4378808339436849, '0.7674667239189148', 0.7442224979400635, 0.4973313331604004, '0.9240130186080933', 0.6933953762054443, 0.49693756103515624, '0.713083803653717', 0.7380335330963135, 0.5014708836873373, '0.9916566610336304', 0.7069355487823487, 0.5017520268758138, '0.9806389212608337', 0.7396656990051269, 0.5928410847981771, '0.9722954034805298', 0.6994426250457764, 0.5933191299438476, '0.9399847388267517', 0.7406777381896973, 0.6702657699584961, '0.8877588510513306', 0.6935769557952881, 0.6695171356201172, '0.825263500213623', 'adl-01-cam0_16']\n"
     ]
    }
   ],
   "source": [
    "# here I only take the right 320-pixel video of cam 0\n",
    "# and the first 4 are xmin ymin xmax ymax\n",
    "normalize(ur_data, 320, 240, 4) \n",
    "\n",
    "print(ur_data[15])"
   ]
  },
  {
   "cell_type": "code",
   "execution_count": 6,
   "id": "3db60363-0917-4af3-b7f0-acfdb7a5fa5f",
   "metadata": {},
   "outputs": [
    {
     "name": "stdout",
     "output_type": "stream",
     "text": [
      "falls of UR dataset 11544\n",
      "adl of UR dataset 11544\n"
     ]
    }
   ],
   "source": [
    "# read target label of UR dataset.\n",
    "\n",
    "target_to_file = []\n",
    "path1 = 'csv_data/urfall-cam0-falls.csv'\n",
    "path2 = 'csv_data/urfall-cam0-adls.csv'\n",
    "# in these csv of UR dataset,\n",
    "# '-1' means person is not lying, '1' means person is lying on the ground; '0' is temporary pose, when person \"is falling\"\n",
    "\n",
    "def input_fall(path):\n",
    "  with open(path, mode='r') as csv_file:\n",
    "    reader = csv.reader(csv_file)\n",
    "    for row in reader:\n",
    "      record = []\n",
    "      record.append(row[0])\n",
    "      record.append(row[1])\n",
    "      label = row[2]\n",
    "      if label == '1' or label == '0':\n",
    "        record.append(1)\n",
    "      else:\n",
    "        record.append(0)\n",
    "      # each record: [<video_id>, <frame_id>, label], eg: ['fall-17', '22', 0]\n",
    "      target_to_file.append(record)\n",
    "\n",
    "# though laying in the video, but it is not fall, so I mark 0 as label\n",
    "def input_adl(path):\n",
    "  with open(path, mode='r') as csv_file:\n",
    "    reader = csv.reader(csv_file)\n",
    "    for row in reader:\n",
    "      record = []\n",
    "      record.append(row[0])\n",
    "      record.append(row[1])\n",
    "      record.append(0)\n",
    "      target_to_file.append(record)\n",
    "\n",
    "input_fall(path1)\n",
    "input_adl(path2)\n",
    "print(\"falls of UR dataset\", len(target_to_file))\n",
    "print(\"adl of UR dataset\", len(target_to_file))\n"
   ]
  },
  {
   "cell_type": "code",
   "execution_count": 7,
   "id": "e13e7815-500e-4039-a5ee-02dd3b09b3b1",
   "metadata": {},
   "outputs": [],
   "source": [
    "df = pd.DataFrame.from_records(target_to_file)\n",
    "df.to_csv (r'csv_data/target_data.csv', index = False, header=False)"
   ]
  },
  {
   "cell_type": "code",
   "execution_count": 8,
   "id": "6568380e-b076-4cdb-b9b2-63ff4152c772",
   "metadata": {},
   "outputs": [
    {
     "data": {
      "text/plain": [
       "832"
      ]
     },
     "execution_count": 8,
     "metadata": {},
     "output_type": "execute_result"
    }
   ],
   "source": [
    "# make dictionary of target of ur dataset\n",
    "target_csv_path = 'csv_data/target_data.csv'\n",
    "idx = 0\n",
    "idx_dict = {}\n",
    "target = []\n",
    "\n",
    "with open(target_csv_path, mode='r') as csv_file:\n",
    "  reader = csv.reader(csv_file)\n",
    "  for row in reader:\n",
    "    # each row: [<video_id>, <frame_id>, label], eg: ['fall-17', '22', 0]\n",
    "    idx_dict['.'.join(row[:2])] = idx  # {'fall-17.22' : 112}\n",
    "    idx += 1\n",
    "    name = row[0]  # This will be a string, e.g., 'fall-17'\n",
    "    frame = int(row[1])  # Convert '22' to an integer\n",
    "    label = int(row[2])  # Convert '0' to an integer\n",
    "\n",
    "    # Append the row as a tuple or list in target\n",
    "    target.append([name, frame, label])\n",
    "\n",
    "idx_dict['fall-07.1']"
   ]
  },
  {
   "cell_type": "code",
   "execution_count": 10,
   "id": "b5e7b9b8-14a8-4576-8913-0685d64d2b44",
   "metadata": {
    "scrolled": true
   },
   "outputs": [
    {
     "name": "stdout",
     "output_type": "stream",
     "text": [
      "An error occurred: 'adl-01.1'\n",
      "An error occurred: 'adl-01.2'\n",
      "An error occurred: 'adl-01.3'\n",
      "An error occurred: 'adl-01.4'\n",
      "An error occurred: 'adl-01.5'\n",
      "An error occurred: 'adl-01.7'\n",
      "An error occurred: 'adl-02.0'\n",
      "An error occurred: 'adl-02.1'\n",
      "An error occurred: 'adl-02.2'\n",
      "An error occurred: 'adl-02.3'\n",
      "An error occurred: 'adl-02.4'\n",
      "An error occurred: 'adl-02.5'\n",
      "An error occurred: 'adl-02.6'\n",
      "An error occurred: 'adl-02.7'\n",
      "An error occurred: 'adl-02.8'\n",
      "An error occurred: 'adl-02.10'\n",
      "An error occurred: 'adl-02.11'\n",
      "An error occurred: 'adl-02.14'\n",
      "An error occurred: 'adl-02.15'\n",
      "An error occurred: 'adl-02.16'\n",
      "An error occurred: 'adl-02.17'\n",
      "An error occurred: 'adl-02.18'\n",
      "An error occurred: 'adl-02.19'\n",
      "An error occurred: 'adl-02.20'\n",
      "An error occurred: 'adl-02.21'\n",
      "An error occurred: 'adl-02.22'\n",
      "An error occurred: 'adl-02.24'\n",
      "An error occurred: 'adl-02.25'\n",
      "An error occurred: 'adl-02.26'\n",
      "An error occurred: 'adl-02.27'\n",
      "An error occurred: 'adl-02.28'\n",
      "An error occurred: 'adl-02.29'\n",
      "An error occurred: 'adl-02.30'\n",
      "An error occurred: 'adl-03.0'\n",
      "An error occurred: 'adl-04.0'\n",
      "An error occurred: 'adl-05.0'\n",
      "An error occurred: 'adl-06.0'\n",
      "An error occurred: 'adl-06.1'\n",
      "An error occurred: 'adl-06.2'\n",
      "An error occurred: 'adl-06.3'\n",
      "An error occurred: 'adl-06.4'\n",
      "An error occurred: 'adl-06.5'\n",
      "An error occurred: 'adl-06.6'\n",
      "An error occurred: 'adl-06.7'\n",
      "An error occurred: 'adl-06.8'\n",
      "An error occurred: 'adl-06.9'\n",
      "An error occurred: 'adl-06.10'\n",
      "An error occurred: 'adl-06.11'\n",
      "An error occurred: 'adl-06.12'\n",
      "An error occurred: 'adl-06.13'\n",
      "An error occurred: 'adl-06.16'\n",
      "An error occurred: 'adl-07.0'\n",
      "An error occurred: 'adl-08.0'\n",
      "An error occurred: 'adl-08.1'\n",
      "An error occurred: 'adl-08.2'\n",
      "An error occurred: 'adl-08.4'\n",
      "An error occurred: 'adl-08.6'\n",
      "An error occurred: 'adl-08.9'\n",
      "An error occurred: 'adl-09.0'\n",
      "An error occurred: 'adl-10.0'\n",
      "An error occurred: 'adl-17.10'\n",
      "An error occurred: 'adl-17.184'\n",
      "An error occurred: 'adl-17.185'\n",
      "An error occurred: 'adl-17.186'\n",
      "An error occurred: 'adl-17.187'\n",
      "An error occurred: 'adl-17.188'\n",
      "An error occurred: 'adl-17.189'\n",
      "An error occurred: 'adl-17.190'\n",
      "An error occurred: 'adl-17.191'\n",
      "An error occurred: 'adl-17.192'\n",
      "An error occurred: 'adl-17.193'\n",
      "An error occurred: 'adl-17.194'\n",
      "An error occurred: 'adl-17.195'\n",
      "An error occurred: 'adl-17.196'\n",
      "An error occurred: 'adl-17.197'\n",
      "An error occurred: 'adl-17.198'\n",
      "An error occurred: 'adl-17.199'\n",
      "An error occurred: 'adl-17.200'\n",
      "An error occurred: 'adl-17.201'\n",
      "An error occurred: 'adl-17.202'\n",
      "An error occurred: 'adl-17.203'\n",
      "An error occurred: 'adl-17.204'\n",
      "An error occurred: 'adl-17.205'\n",
      "An error occurred: 'adl-17.206'\n",
      "An error occurred: 'adl-17.207'\n",
      "An error occurred: 'adl-17.208'\n",
      "An error occurred: 'adl-17.209'\n",
      "An error occurred: 'adl-17.210'\n",
      "An error occurred: 'adl-17.211'\n",
      "An error occurred: 'adl-17.212'\n",
      "An error occurred: 'adl-17.213'\n",
      "An error occurred: 'adl-17.214'\n",
      "An error occurred: 'adl-17.215'\n",
      "An error occurred: 'adl-17.216'\n",
      "An error occurred: 'adl-17.217'\n",
      "An error occurred: 'adl-17.218'\n",
      "An error occurred: 'adl-17.219'\n",
      "An error occurred: 'adl-17.220'\n",
      "An error occurred: 'adl-17.221'\n",
      "An error occurred: 'adl-17.222'\n",
      "An error occurred: 'adl-17.223'\n",
      "An error occurred: 'adl-17.224'\n",
      "An error occurred: 'adl-17.225'\n",
      "An error occurred: 'adl-17.226'\n",
      "An error occurred: 'adl-17.227'\n",
      "An error occurred: 'adl-17.228'\n",
      "An error occurred: 'adl-17.229'\n",
      "An error occurred: 'adl-18.24'\n",
      "An error occurred: 'adl-19.12'\n",
      "An error occurred: 'adl-19.13'\n",
      "An error occurred: 'adl-19.16'\n",
      "An error occurred: 'adl-19.17'\n",
      "An error occurred: 'adl-19.18'\n",
      "An error occurred: 'adl-19.19'\n",
      "An error occurred: 'adl-19.20'\n",
      "An error occurred: 'adl-23.0'\n",
      "An error occurred: 'adl-24.0'\n",
      "An error occurred: 'adl-25.0'\n",
      "An error occurred: 'adl-26.0'\n",
      "An error occurred: 'adl-27.0'\n",
      "An error occurred: 'adl-28.0'\n",
      "An error occurred: 'adl-29.0'\n",
      "An error occurred: 'adl-31.0'\n",
      "An error occurred: 'adl-32.0'\n",
      "An error occurred: 'adl-33.0'\n",
      "An error occurred: 'adl-34.0'\n",
      "An error occurred: 'adl-35.0'\n",
      "An error occurred: 'adl-40.40'\n",
      "An error occurred: 'adl-40.41'\n",
      "An error occurred: 'adl-40.42'\n",
      "An error occurred: 'adl-40.43'\n",
      "An error occurred: 'adl-40.44'\n",
      "An error occurred: 'fall-01.0'\n",
      "An error occurred: 'fall-02.0'\n",
      "An error occurred: 'fall-03.0'\n",
      "An error occurred: 'fall-04.0'\n",
      "An error occurred: 'fall-05.0'\n",
      "An error occurred: 'fall-06.0'\n",
      "An error occurred: 'fall-07.0'\n",
      "An error occurred: 'fall-08.0'\n",
      "An error occurred: 'fall-09.0'\n",
      "An error occurred: 'fall-10.0'\n",
      "An error occurred: 'fall-11.0'\n",
      "An error occurred: 'fall-12.0'\n",
      "An error occurred: 'fall-13.0'\n",
      "An error occurred: 'fall-14.0'\n",
      "An error occurred: 'fall-15.0'\n",
      "An error occurred: 'fall-16.0'\n",
      "An error occurred: 'fall-17.0'\n",
      "An error occurred: 'fall-18.0'\n",
      "An error occurred: 'fall-19.0'\n",
      "An error occurred: 'fall-20.0'\n",
      "An error occurred: 'fall-21.0'\n",
      "An error occurred: 'fall-22.0'\n",
      "An error occurred: 'fall-23.0'\n",
      "An error occurred: 'fall-24.0'\n",
      "An error occurred: 'fall-25.0'\n",
      "An error occurred: 'fall-26.0'\n",
      "An error occurred: 'fall-27.0'\n",
      "An error occurred: 'fall-28.0'\n",
      "An error occurred: 'fall-29.0'\n",
      "An error occurred: 'fall-30.0'\n",
      "Cannot match frame: 162\n",
      "bodylandmark record sample of ur dataset:\n",
      "[0.0, 21.377561569213867, 14.052960395812988, 78.99813842773438, 0.0, 0.0, 0.030200855806469917, 0.0, 0.0, 0.03486255928874016, 0.0, 0.0, 0.006000613793730736, 0.0, 0.0, 0.16029733419418335, 0.0, 0.0, 0.008379751816391945, 0.0, 0.0, 0.4220225512981415, 0.0, 0.0, 0.18936744332313538, 0.0356622189283371, 0.27296806971232096, 0.538051426410675, 0.0, 0.0, 0.1734146922826767, 0.0, 0.0, 0.3383477032184601, 0.0, 0.0, 0.13685742020606995, 0.0, 0.0, 0.2568419873714447, 0.0, 0.0, 0.16609466075897217, 0.0, 0.0, 0.057011354714632034, 0.0, 0.0, 0.03338096663355827, 0.0, 0.0, 0.024535764008760452, 0.0, 0.0, 0.016800055280327797]\n",
      "label of ur dataset:  10600\n",
      "bodylandmark of ur dataset:  10600\n",
      "adl-01-cam0_6\n"
     ]
    }
   ],
   "source": [
    "# match body landmark data with label data of ur dataset\n",
    "bodylandmark = []\n",
    "label = []\n",
    "frame_name = []\n",
    "unknown_frame = 0\n",
    "\n",
    "for landmark in ur_data:\n",
    "  video_name = landmark[-1].split('_')  # 'fall-01-cam0_4'\n",
    "  a = video_name[0].split('-')\n",
    "  video_type = a[0] # 'fall-01'\n",
    "  video_id = a[1]   # '01'\n",
    "  frame_id = str(int(video_name[1])) # '000000000004' become '4'\n",
    "  \n",
    "  try:\n",
    "    a = '.'.join([video_id, frame_id])\n",
    "    b = '-'.join([video_type, a])\n",
    "\n",
    "    label.append(target[idx_dict[b]][-1])\n",
    "\n",
    "    # get rid of video name at the end\n",
    "    bl = landmark[:-1] \n",
    "    bl = list(map(float,bl))\n",
    "    bodylandmark.append(bl)\n",
    "\n",
    "    frame_name.append(landmark[-1])\n",
    "  except Exception as e:\n",
    "    unknown_frame+=1\n",
    "    print(\"An error occurred:\", e)\n",
    "\n",
    "print(\"Cannot match frame:\", unknown_frame)\n",
    "print(\"bodylandmark record sample of ur dataset:\" )\n",
    "print(bodylandmark[0])\n",
    "print(\"label of ur dataset: \", len(label))\n",
    "print(\"bodylandmark of ur dataset: \", len(bodylandmark))\n",
    "print(frame_name[0])"
   ]
  },
  {
   "cell_type": "code",
   "execution_count": 12,
   "id": "b58b6302-4052-4aaa-8c22-245ad2480bf2",
   "metadata": {},
   "outputs": [
    {
     "name": "stdout",
     "output_type": "stream",
     "text": [
      "[0, 0.0, 21.377561569213867, 14.052960395812988, 78.99813842773438, 0.0, 0.0, 0.030200855806469917, 0.0, 0.0, 0.03486255928874016, 0.0, 0.0, 0.006000613793730736, 0.0, 0.0, 0.16029733419418335, 0.0, 0.0, 0.008379751816391945, 0.0, 0.0, 0.4220225512981415, 0.0, 0.0, 0.18936744332313538, 0.0356622189283371, 0.27296806971232096, 0.538051426410675, 0.0, 0.0, 0.1734146922826767, 0.0, 0.0, 0.3383477032184601, 0.0, 0.0, 0.13685742020606995, 0.0, 0.0, 0.2568419873714447, 0.0, 0.0, 0.16609466075897217, 0.0, 0.0, 0.057011354714632034, 0.0, 0.0, 0.03338096663355827, 0.0, 0.0, 0.024535764008760452, 0.0, 0.0, 0.016800055280327797]\n",
      "10600\n",
      "56\n"
     ]
    }
   ],
   "source": [
    "# make bodylandmark and label to be a same data frame\n",
    "all_data = []\n",
    "\n",
    "for i in range(len(bodylandmark)):\n",
    "  all_data.append([label[i]])\n",
    "  all_data[i] = all_data[i] + bodylandmark[i]\n",
    "\n",
    "# label, xmin, ymin, xmax, ymax, x1, y1, conf1, x2, y2, conf2,......\n",
    "\n",
    "print(all_data[0])\n",
    "print(len(all_data))\n",
    "print(len(all_data[0]))"
   ]
  },
  {
   "cell_type": "code",
   "execution_count": 13,
   "id": "1a9dad1e-dc9f-4170-907c-79d2dd31171c",
   "metadata": {},
   "outputs": [
    {
     "data": {
      "text/plain": [
       "1675"
      ]
     },
     "execution_count": 13,
     "metadata": {},
     "output_type": "execute_result"
    }
   ],
   "source": [
    "label.count('1')\n",
    "label.count(1)"
   ]
  },
  {
   "cell_type": "code",
   "execution_count": 17,
   "id": "dc074fd5-23a7-4867-8c0d-52a20642c618",
   "metadata": {},
   "outputs": [
    {
     "name": "stdout",
     "output_type": "stream",
     "text": [
      "1675\n",
      "8925\n"
     ]
    }
   ],
   "source": [
    "# know the majority and minority\n",
    "fall = label.count(1)\n",
    "not_fall = label.count(0)\n",
    "print(fall)\n",
    "print(not_fall)"
   ]
  },
  {
   "cell_type": "code",
   "execution_count": 19,
   "id": "103f1225-a57d-4d1d-a896-862017d33701",
   "metadata": {},
   "outputs": [
    {
     "name": "stdout",
     "output_type": "stream",
     "text": [
      "before re-sampling, not fall vs fall: \n",
      "label\n",
      "0    8925\n",
      "1    1675\n",
      "Name: count, dtype: int64\n",
      "begin to re sample...\n",
      "after re-sampling...\n"
     ]
    },
    {
     "data": {
      "text/plain": [
       "label\n",
       "0    8925\n",
       "1    8925\n",
       "Name: count, dtype: int64"
      ]
     },
     "execution_count": 19,
     "metadata": {},
     "output_type": "execute_result"
    }
   ],
   "source": [
    "from sklearn.utils import resample\n",
    "\n",
    "# up-sampling to make the data balance\n",
    "# Separate majority and minority classes\n",
    "df = pd.DataFrame.from_records(all_data)\n",
    "header = ['label']\n",
    "for i in range(len(all_data[0]) - 1): # because header array already has label element\n",
    "  header.append(i)\n",
    "\n",
    "df.columns = header\n",
    "df_majority = df[df.label==0]\n",
    "df_minority = df[df.label==1]\n",
    "print(\"before re-sampling, not fall vs fall: \")\n",
    "print(df['label'].value_counts())\n",
    "\n",
    "print(\"begin to re sample...\")\n",
    "# Upsample minority class\n",
    "df_minority_upsampled = resample(df_minority, # fall\n",
    "                                 replace=True,      # sample with replacement\n",
    "                                 n_samples=not_fall)    # to match majority class\n",
    "\n",
    "# Combine majority class with upsampled minority class\n",
    "df_upsampled = pd.concat([df_majority, df_minority_upsampled])\n",
    "\n",
    "print(\"after re-sampling...\")\n",
    "# Display new class counts\n",
    "df_upsampled.label.value_counts()"
   ]
  },
  {
   "cell_type": "code",
   "execution_count": 20,
   "id": "a0b617cd-0847-4d7d-afdb-10bdd087bb31",
   "metadata": {},
   "outputs": [
    {
     "name": "stdout",
     "output_type": "stream",
     "text": [
      "[0.00000000e+00 0.00000000e+00 2.13775616e+01 1.40529604e+01\n",
      " 7.89981384e+01 0.00000000e+00 0.00000000e+00 3.02008558e-02\n",
      " 0.00000000e+00 0.00000000e+00 3.48625593e-02 0.00000000e+00\n",
      " 0.00000000e+00 6.00061379e-03 0.00000000e+00 0.00000000e+00\n",
      " 1.60297334e-01 0.00000000e+00 0.00000000e+00 8.37975182e-03\n",
      " 0.00000000e+00 0.00000000e+00 4.22022551e-01 0.00000000e+00\n",
      " 0.00000000e+00 1.89367443e-01 3.56622189e-02 2.72968070e-01\n",
      " 5.38051426e-01 0.00000000e+00 0.00000000e+00 1.73414692e-01\n",
      " 0.00000000e+00 0.00000000e+00 3.38347703e-01 0.00000000e+00\n",
      " 0.00000000e+00 1.36857420e-01 0.00000000e+00 0.00000000e+00\n",
      " 2.56841987e-01 0.00000000e+00 0.00000000e+00 1.66094661e-01\n",
      " 0.00000000e+00 0.00000000e+00 5.70113547e-02 0.00000000e+00\n",
      " 0.00000000e+00 3.33809666e-02 0.00000000e+00 0.00000000e+00\n",
      " 2.45357640e-02 0.00000000e+00 0.00000000e+00 1.68000553e-02]\n",
      "56\n",
      "number of all data: 17850\n"
     ]
    }
   ],
   "source": [
    "all_data = df_upsampled.values\n",
    "\n",
    "print(all_data[0])\n",
    "print(len(all_data[0]))\n",
    "print(\"number of all data:\", len(all_data))"
   ]
  },
  {
   "cell_type": "code",
   "execution_count": 21,
   "id": "7c74bd99-666a-45c1-b14e-7a030cac5e8b",
   "metadata": {},
   "outputs": [
    {
     "name": "stdout",
     "output_type": "stream",
     "text": [
      "Train size: 14280, Val size: 1785, Test size: 1785\n"
     ]
    }
   ],
   "source": [
    "from sklearn.model_selection import train_test_split\n",
    "# First: split out 80% train\n",
    "train_data, temp_data = train_test_split(\n",
    "    all_data, test_size=0.20, random_state=42, shuffle=True\n",
    ")\n",
    "\n",
    "# Then: split remaining 20% equally into val and test\n",
    "val_data, test_data = train_test_split(\n",
    "    temp_data, test_size=0.50, random_state=42, shuffle=True\n",
    ")\n",
    "\n",
    "print(f\"Train size: {len(train_data)}, Val size: {len(val_data)}, Test size: {len(test_data)}\")\n"
   ]
  },
  {
   "cell_type": "code",
   "execution_count": 23,
   "id": "27ba09b2-10c0-417c-90df-d7c4c27fea61",
   "metadata": {},
   "outputs": [],
   "source": [
    "import torch\n",
    "import numpy as np\n",
    "from torch.utils.data import DataLoader, TensorDataset\n",
    "\n",
    "# Prepare training data\n",
    "def prepare_data(data):\n",
    "    x = []\n",
    "    y = []\n",
    "    for record in data:\n",
    "        x.append(record[5:]) # slide to take 51 keypoint features\n",
    "        y.append(int(record[0]))\n",
    "    \n",
    "    x = np.array(x, dtype=np.float32)\n",
    "    y = np.array(y, dtype=np.float32)\n",
    "\n",
    "    # Reshape x to (batch, time_steps, features)\n",
    "    x = x.reshape((len(x), 1, x.shape[1]))  # (batch, 1, features)\n",
    "\n",
    "    # Convert to tensors\n",
    "    x_tensor = torch.tensor(x)\n",
    "    y_tensor = torch.tensor(y).unsqueeze(1)  # Shape (batch, 1)\n",
    "    \n",
    "    return x_tensor, y_tensor\n",
    "\n",
    "# Convert train, val, test data into tensors\n",
    "x_train, y_train = prepare_data(train_data)\n",
    "x_val, y_val = prepare_data(val_data)\n",
    "x_test, y_test = prepare_data(test_data)\n",
    "\n",
    "# Create dataset for train, val, and test\n",
    "train_dataset = TensorDataset(x_train, y_train)\n",
    "val_dataset = TensorDataset(x_val, y_val)\n",
    "test_dataset = TensorDataset(x_test, y_test)\n",
    "\n",
    "batch_size = 16\n",
    "\n",
    "# Create DataLoader for training, validation, and testing\n",
    "train_loader = DataLoader(train_dataset, batch_size, shuffle=True)\n",
    "val_loader = DataLoader(val_dataset, batch_size)\n",
    "test_loader = DataLoader(test_dataset, batch_size)"
   ]
  },
  {
   "cell_type": "code",
   "execution_count": 24,
   "id": "c18a6d8e-75d5-4455-a97a-8c8a42708802",
   "metadata": {},
   "outputs": [],
   "source": [
    "import numpy as np\n",
    "\n",
    "class EarlyStopping:\n",
    "    def __init__(self, patience=5, delta=0):\n",
    "        \"\"\"\n",
    "        EarlyStopping class to monitor validation loss during training and stop early.\n",
    "        \n",
    "        Parameters:\n",
    "        - patience: The number of epochs with no improvement after which training will be stopped.\n",
    "        - delta: Minimum change to qualify as an improvement. If the change is less than delta, it's not considered an improvement.\n",
    "        \"\"\"\n",
    "        self.patience = patience\n",
    "        self.delta = delta\n",
    "        self.best_loss = np.inf\n",
    "        self.counter = 0\n",
    "        self.early_stop = False\n",
    "        self.best_weights = None  # To store the model weights when the best performance is achieved\n",
    "\n",
    "    def __call__(self, val_loss, model):\n",
    "        \"\"\"\n",
    "        Call the EarlyStopping instance at the end of each epoch.\n",
    "        \n",
    "        Parameters:\n",
    "        - val_loss: The validation loss to monitor.\n",
    "        - model: The model to save the weights when the best validation loss is achieved.\n",
    "        \n",
    "        Returns:\n",
    "        - self.early_stop: Whether early stopping should be triggered.\n",
    "        \"\"\"\n",
    "        if val_loss < self.best_loss - self.delta:\n",
    "            self.best_loss = val_loss\n",
    "            self.counter = 0\n",
    "            self.best_weights = model.state_dict()  # Save the best weights\n",
    "        else:\n",
    "            self.counter += 1\n",
    "            if self.counter >= self.patience:\n",
    "                self.early_stop = True\n",
    "        return self.early_stop\n",
    "\n",
    "    def restore_best_weights(self, model):\n",
    "        \"\"\"\n",
    "        Restore the model weights from the best epoch.\n",
    "        \n",
    "        Parameters:\n",
    "        - model: The model whose weights will be restored to the best observed weights.\n",
    "        \"\"\"\n",
    "        if self.best_weights is not None:\n",
    "            model.load_state_dict(self.best_weights)\n"
   ]
  },
  {
   "cell_type": "code",
   "execution_count": 25,
   "id": "aa83c088-d83f-44c5-8f86-89d369d4c560",
   "metadata": {},
   "outputs": [],
   "source": [
    "from tqdm import tqdm\n",
    "from sklearn.metrics import accuracy_score\n",
    "\n",
    "def train_model(model, criterion, optimizer, epochs, train_loader, val_loader, scheduler, patience=5):\n",
    "    device = torch.device(\"cuda\" if torch.cuda.is_available() else \"cpu\")\n",
    "    print(\"Using device:\", device)\n",
    "    print(f\"Start training model: {type(model).__name__}\")\n",
    "    model.to(device)\n",
    "\n",
    "    train_losses = []\n",
    "    val_losses = []\n",
    "    val_accuracies = []\n",
    "\n",
    "    # Initialize EarlyStopping\n",
    "    early_stopping = EarlyStopping(patience=patience)\n",
    "\n",
    "    for epoch in range(epochs):\n",
    "        model.train()\n",
    "        total_loss = 0\n",
    "\n",
    "        # Update learning rate using scheduler\n",
    "        lr = scheduler(epoch)\n",
    "        for param_group in optimizer.param_groups:\n",
    "            param_group['lr'] = lr\n",
    "\n",
    "        loop = tqdm(train_loader, desc=f\"Epoch [{epoch+1}/{epochs}]\", leave=True)\n",
    "        for inputs, labels in loop:\n",
    "            inputs, labels = inputs.to(device), labels.to(device)\n",
    "\n",
    "            optimizer.zero_grad()\n",
    "            outputs = model(inputs)\n",
    "            loss = criterion(outputs, labels)\n",
    "            loss.backward()\n",
    "            optimizer.step()\n",
    "\n",
    "            total_loss += loss.item()\n",
    "            loop.set_postfix(loss=loss.item())\n",
    "\n",
    "        train_loss = total_loss / len(train_loader)\n",
    "        train_losses.append(train_loss)\n",
    "\n",
    "        # Validation\n",
    "        model.eval()\n",
    "        val_loss = 0\n",
    "        all_preds = []\n",
    "        all_labels = []\n",
    "\n",
    "        with torch.no_grad():\n",
    "            for inputs, labels in val_loader:\n",
    "                inputs, labels = inputs.to(device), labels.to(device)\n",
    "                outputs = model(inputs)\n",
    "                loss = criterion(outputs, labels)\n",
    "                val_loss += loss.item()\n",
    "\n",
    "                preds = (outputs > 0.5).float()  # Binary thresholding\n",
    "                all_preds.extend(preds.cpu().numpy())\n",
    "                all_labels.extend(labels.cpu().numpy())\n",
    "\n",
    "        val_loss /= len(val_loader)\n",
    "        acc = accuracy_score(all_labels, all_preds)\n",
    "\n",
    "        val_losses.append(val_loss)\n",
    "        val_accuracies.append(acc)\n",
    "\n",
    "        # Print loss and accuracy after each epoch\n",
    "        print(f\"Epoch {epoch+1}: Train Loss={train_loss:.4f}, Val Loss={val_loss:.4f}, Val Acc={acc:.4f}\")\n",
    "\n",
    "        # Early stopping check\n",
    "        if early_stopping(val_loss, model):\n",
    "            print(f\"Early stopping triggered after {epoch+1} epochs\")\n",
    "            break  # Stop training early\n",
    "\n",
    "    # Restore the model with the best weights\n",
    "    # early_stopping.restore_best_weights(model)\n",
    "    print(f\"Finish training model: {type(model).__name__}\")\n",
    "    return model, train_losses, val_losses, val_accuracies\n"
   ]
  },
  {
   "cell_type": "code",
   "execution_count": 26,
   "id": "28e703c8-3f24-4d49-a007-dbddb90df15e",
   "metadata": {},
   "outputs": [],
   "source": [
    "# Learning rate scheduler function\n",
    "def scheduler(epoch):\n",
    "    if epoch < 10:\n",
    "        return 0.001\n",
    "    else:\n",
    "        return 0.001 * np.exp(0.1 * (10 - epoch))"
   ]
  },
  {
   "cell_type": "code",
   "execution_count": 28,
   "id": "9e333e8b-c8b6-4afb-b983-c6afcd56439a",
   "metadata": {},
   "outputs": [],
   "source": [
    "import torch.optim as optim\n",
    "import torch.nn as nn\n",
    "\n",
    "# Define model parameters\n",
    "input_size = 51   # Number of features (e.g., in your falling data)\n",
    "hidden_size = 16  # Number of units in the hidden state\n",
    "num_layers = 1    # Number of LSTM layers (you can experiment with this)\n",
    "dropout = 0.5     # Dropout rate for regularization\n",
    "\n",
    "# Initialize the LSTM_Model model\n",
    "lstm_model = LSTM_Model(input_size=input_size, hidden_size=hidden_size, num_layers=num_layers, dropout=dropout)\n",
    "\n",
    "# model = BiLSTM_Model(input_size=input_size, hidden_size=hidden_size, num_layers=num_layers, dropout=dropout)\n",
    "\n",
    "# Set up the loss function and optimizer\n",
    "lstm_criterion = nn.BCELoss()  # Binary Cross-Entropy Loss for binary classification\n",
    "lstm_optimizer = optim.RMSprop(lstm_model.parameters(), lr=0.001)\n",
    "\n",
    "lstm_epochs = 50  # Set number of epochs"
   ]
  },
  {
   "cell_type": "code",
   "execution_count": 29,
   "id": "2f4e3fb5-0ffb-489b-ae79-0fbeb2bf0395",
   "metadata": {},
   "outputs": [
    {
     "name": "stdout",
     "output_type": "stream",
     "text": [
      "Successfully clear the cache\n"
     ]
    }
   ],
   "source": [
    "# Note: I run this on my local machine with RTX3060 so I have to clear cache each time\n",
    "\n",
    "import gc\n",
    "gc.collect()\n",
    "torch.cuda.empty_cache()\n",
    "\n",
    "print(\"Successfully clear the cache\")"
   ]
  },
  {
   "cell_type": "code",
   "execution_count": 30,
   "id": "9a8b89da-1e7c-4abc-adfc-1f7d280549f4",
   "metadata": {
    "scrolled": true
   },
   "outputs": [
    {
     "name": "stdout",
     "output_type": "stream",
     "text": [
      "Using device: cuda\n",
      "Start training model: LSTM_Model\n"
     ]
    },
    {
     "name": "stderr",
     "output_type": "stream",
     "text": [
      "Epoch [1/50]: 100%|██████████| 893/893 [00:04<00:00, 222.08it/s, loss=0.459] \n"
     ]
    },
    {
     "name": "stdout",
     "output_type": "stream",
     "text": [
      "Epoch 1: Train Loss=0.3989, Val Loss=0.5213, Val Acc=0.7737\n"
     ]
    },
    {
     "name": "stderr",
     "output_type": "stream",
     "text": [
      "Epoch [2/50]: 100%|██████████| 893/893 [00:03<00:00, 241.00it/s, loss=0.37]  \n"
     ]
    },
    {
     "name": "stdout",
     "output_type": "stream",
     "text": [
      "Epoch 2: Train Loss=0.3425, Val Loss=0.3361, Val Acc=0.8493\n"
     ]
    },
    {
     "name": "stderr",
     "output_type": "stream",
     "text": [
      "Epoch [3/50]: 100%|██████████| 893/893 [00:04<00:00, 217.05it/s, loss=0.484] \n"
     ]
    },
    {
     "name": "stdout",
     "output_type": "stream",
     "text": [
      "Epoch 3: Train Loss=0.3131, Val Loss=0.2985, Val Acc=0.8655\n"
     ]
    },
    {
     "name": "stderr",
     "output_type": "stream",
     "text": [
      "Epoch [4/50]: 100%|██████████| 893/893 [00:03<00:00, 226.95it/s, loss=0.159] \n"
     ]
    },
    {
     "name": "stdout",
     "output_type": "stream",
     "text": [
      "Epoch 4: Train Loss=0.2771, Val Loss=0.2624, Val Acc=0.8902\n"
     ]
    },
    {
     "name": "stderr",
     "output_type": "stream",
     "text": [
      "Epoch [5/50]: 100%|██████████| 893/893 [00:03<00:00, 226.74it/s, loss=0.0558]\n"
     ]
    },
    {
     "name": "stdout",
     "output_type": "stream",
     "text": [
      "Epoch 5: Train Loss=0.2428, Val Loss=0.2633, Val Acc=0.8700\n"
     ]
    },
    {
     "name": "stderr",
     "output_type": "stream",
     "text": [
      "Epoch [6/50]: 100%|██████████| 893/893 [00:03<00:00, 240.44it/s, loss=0.0503]\n"
     ]
    },
    {
     "name": "stdout",
     "output_type": "stream",
     "text": [
      "Epoch 6: Train Loss=0.2170, Val Loss=0.2022, Val Acc=0.9137\n"
     ]
    },
    {
     "name": "stderr",
     "output_type": "stream",
     "text": [
      "Epoch [7/50]: 100%|██████████| 893/893 [00:03<00:00, 231.84it/s, loss=0.105]  \n"
     ]
    },
    {
     "name": "stdout",
     "output_type": "stream",
     "text": [
      "Epoch 7: Train Loss=0.1988, Val Loss=0.1845, Val Acc=0.9154\n"
     ]
    },
    {
     "name": "stderr",
     "output_type": "stream",
     "text": [
      "Epoch [8/50]: 100%|██████████| 893/893 [00:03<00:00, 238.36it/s, loss=0.0181]\n"
     ]
    },
    {
     "name": "stdout",
     "output_type": "stream",
     "text": [
      "Epoch 8: Train Loss=0.1859, Val Loss=0.1884, Val Acc=0.9232\n"
     ]
    },
    {
     "name": "stderr",
     "output_type": "stream",
     "text": [
      "Epoch [9/50]: 100%|██████████| 893/893 [00:03<00:00, 241.51it/s, loss=0.286] \n"
     ]
    },
    {
     "name": "stdout",
     "output_type": "stream",
     "text": [
      "Epoch 9: Train Loss=0.1776, Val Loss=0.1661, Val Acc=0.9300\n"
     ]
    },
    {
     "name": "stderr",
     "output_type": "stream",
     "text": [
      "Epoch [10/50]: 100%|██████████| 893/893 [00:03<00:00, 237.87it/s, loss=0.0333]\n"
     ]
    },
    {
     "name": "stdout",
     "output_type": "stream",
     "text": [
      "Epoch 10: Train Loss=0.1706, Val Loss=0.1691, Val Acc=0.9227\n"
     ]
    },
    {
     "name": "stderr",
     "output_type": "stream",
     "text": [
      "Epoch [11/50]: 100%|██████████| 893/893 [00:03<00:00, 238.64it/s, loss=0.183]  \n"
     ]
    },
    {
     "name": "stdout",
     "output_type": "stream",
     "text": [
      "Epoch 11: Train Loss=0.1644, Val Loss=0.1920, Val Acc=0.9115\n"
     ]
    },
    {
     "name": "stderr",
     "output_type": "stream",
     "text": [
      "Epoch [12/50]: 100%|██████████| 893/893 [00:03<00:00, 230.96it/s, loss=0.00945]\n"
     ]
    },
    {
     "name": "stdout",
     "output_type": "stream",
     "text": [
      "Epoch 12: Train Loss=0.1570, Val Loss=0.1475, Val Acc=0.9373\n"
     ]
    },
    {
     "name": "stderr",
     "output_type": "stream",
     "text": [
      "Epoch [13/50]: 100%|██████████| 893/893 [00:03<00:00, 236.75it/s, loss=0.451]  \n"
     ]
    },
    {
     "name": "stdout",
     "output_type": "stream",
     "text": [
      "Epoch 13: Train Loss=0.1530, Val Loss=0.1710, Val Acc=0.9249\n"
     ]
    },
    {
     "name": "stderr",
     "output_type": "stream",
     "text": [
      "Epoch [14/50]: 100%|██████████| 893/893 [00:03<00:00, 240.34it/s, loss=0.189]  \n"
     ]
    },
    {
     "name": "stdout",
     "output_type": "stream",
     "text": [
      "Epoch 14: Train Loss=0.1462, Val Loss=0.1652, Val Acc=0.9283\n"
     ]
    },
    {
     "name": "stderr",
     "output_type": "stream",
     "text": [
      "Epoch [15/50]: 100%|██████████| 893/893 [00:03<00:00, 239.49it/s, loss=0.31]   \n"
     ]
    },
    {
     "name": "stdout",
     "output_type": "stream",
     "text": [
      "Epoch 15: Train Loss=0.1413, Val Loss=0.1490, Val Acc=0.9367\n"
     ]
    },
    {
     "name": "stderr",
     "output_type": "stream",
     "text": [
      "Epoch [16/50]: 100%|██████████| 893/893 [00:03<00:00, 237.30it/s, loss=0.016]  \n"
     ]
    },
    {
     "name": "stdout",
     "output_type": "stream",
     "text": [
      "Epoch 16: Train Loss=0.1370, Val Loss=0.1333, Val Acc=0.9401\n"
     ]
    },
    {
     "name": "stderr",
     "output_type": "stream",
     "text": [
      "Epoch [17/50]: 100%|██████████| 893/893 [00:03<00:00, 234.95it/s, loss=0.0587] \n"
     ]
    },
    {
     "name": "stdout",
     "output_type": "stream",
     "text": [
      "Epoch 17: Train Loss=0.1334, Val Loss=0.1298, Val Acc=0.9440\n"
     ]
    },
    {
     "name": "stderr",
     "output_type": "stream",
     "text": [
      "Epoch [18/50]: 100%|██████████| 893/893 [00:03<00:00, 238.40it/s, loss=0.0403] \n"
     ]
    },
    {
     "name": "stdout",
     "output_type": "stream",
     "text": [
      "Epoch 18: Train Loss=0.1297, Val Loss=0.1293, Val Acc=0.9417\n"
     ]
    },
    {
     "name": "stderr",
     "output_type": "stream",
     "text": [
      "Epoch [19/50]: 100%|██████████| 893/893 [00:03<00:00, 240.35it/s, loss=0.0768] \n"
     ]
    },
    {
     "name": "stdout",
     "output_type": "stream",
     "text": [
      "Epoch 19: Train Loss=0.1274, Val Loss=0.1263, Val Acc=0.9462\n"
     ]
    },
    {
     "name": "stderr",
     "output_type": "stream",
     "text": [
      "Epoch [20/50]: 100%|██████████| 893/893 [00:03<00:00, 240.16it/s, loss=0.215]  \n"
     ]
    },
    {
     "name": "stdout",
     "output_type": "stream",
     "text": [
      "Epoch 20: Train Loss=0.1248, Val Loss=0.1319, Val Acc=0.9401\n"
     ]
    },
    {
     "name": "stderr",
     "output_type": "stream",
     "text": [
      "Epoch [21/50]: 100%|██████████| 893/893 [00:04<00:00, 218.22it/s, loss=0.203]  \n"
     ]
    },
    {
     "name": "stdout",
     "output_type": "stream",
     "text": [
      "Epoch 21: Train Loss=0.1217, Val Loss=0.1230, Val Acc=0.9445\n"
     ]
    },
    {
     "name": "stderr",
     "output_type": "stream",
     "text": [
      "Epoch [22/50]: 100%|██████████| 893/893 [00:04<00:00, 222.62it/s, loss=0.0539] \n"
     ]
    },
    {
     "name": "stdout",
     "output_type": "stream",
     "text": [
      "Epoch 22: Train Loss=0.1182, Val Loss=0.1213, Val Acc=0.9451\n"
     ]
    },
    {
     "name": "stderr",
     "output_type": "stream",
     "text": [
      "Epoch [23/50]: 100%|██████████| 893/893 [00:04<00:00, 221.88it/s, loss=0.000394]\n"
     ]
    },
    {
     "name": "stdout",
     "output_type": "stream",
     "text": [
      "Epoch 23: Train Loss=0.1184, Val Loss=0.1203, Val Acc=0.9485\n"
     ]
    },
    {
     "name": "stderr",
     "output_type": "stream",
     "text": [
      "Epoch [24/50]: 100%|██████████| 893/893 [00:04<00:00, 210.09it/s, loss=0.0885] \n"
     ]
    },
    {
     "name": "stdout",
     "output_type": "stream",
     "text": [
      "Epoch 24: Train Loss=0.1162, Val Loss=0.1181, Val Acc=0.9457\n"
     ]
    },
    {
     "name": "stderr",
     "output_type": "stream",
     "text": [
      "Epoch [25/50]: 100%|██████████| 893/893 [00:04<00:00, 213.57it/s, loss=0.0713]  \n"
     ]
    },
    {
     "name": "stdout",
     "output_type": "stream",
     "text": [
      "Epoch 25: Train Loss=0.1147, Val Loss=0.1192, Val Acc=0.9468\n"
     ]
    },
    {
     "name": "stderr",
     "output_type": "stream",
     "text": [
      "Epoch [26/50]: 100%|██████████| 893/893 [00:03<00:00, 225.99it/s, loss=0.0884] \n"
     ]
    },
    {
     "name": "stdout",
     "output_type": "stream",
     "text": [
      "Epoch 26: Train Loss=0.1135, Val Loss=0.1155, Val Acc=0.9513\n"
     ]
    },
    {
     "name": "stderr",
     "output_type": "stream",
     "text": [
      "Epoch [27/50]: 100%|██████████| 893/893 [00:04<00:00, 221.23it/s, loss=0.0279] \n"
     ]
    },
    {
     "name": "stdout",
     "output_type": "stream",
     "text": [
      "Epoch 27: Train Loss=0.1122, Val Loss=0.1370, Val Acc=0.9367\n"
     ]
    },
    {
     "name": "stderr",
     "output_type": "stream",
     "text": [
      "Epoch [28/50]: 100%|██████████| 893/893 [00:03<00:00, 228.69it/s, loss=0.494]  \n"
     ]
    },
    {
     "name": "stdout",
     "output_type": "stream",
     "text": [
      "Epoch 28: Train Loss=0.1116, Val Loss=0.1145, Val Acc=0.9473\n"
     ]
    },
    {
     "name": "stderr",
     "output_type": "stream",
     "text": [
      "Epoch [29/50]: 100%|██████████| 893/893 [00:03<00:00, 228.79it/s, loss=0.00337] \n"
     ]
    },
    {
     "name": "stdout",
     "output_type": "stream",
     "text": [
      "Epoch 29: Train Loss=0.1094, Val Loss=0.1138, Val Acc=0.9507\n"
     ]
    },
    {
     "name": "stderr",
     "output_type": "stream",
     "text": [
      "Epoch [30/50]: 100%|██████████| 893/893 [00:03<00:00, 237.18it/s, loss=0.00416]\n"
     ]
    },
    {
     "name": "stdout",
     "output_type": "stream",
     "text": [
      "Epoch 30: Train Loss=0.1090, Val Loss=0.1117, Val Acc=0.9518\n"
     ]
    },
    {
     "name": "stderr",
     "output_type": "stream",
     "text": [
      "Epoch [31/50]: 100%|██████████| 893/893 [00:03<00:00, 227.03it/s, loss=0.0374] \n"
     ]
    },
    {
     "name": "stdout",
     "output_type": "stream",
     "text": [
      "Epoch 31: Train Loss=0.1076, Val Loss=0.1141, Val Acc=0.9507\n"
     ]
    },
    {
     "name": "stderr",
     "output_type": "stream",
     "text": [
      "Epoch [32/50]: 100%|██████████| 893/893 [00:04<00:00, 222.53it/s, loss=0.062]  \n"
     ]
    },
    {
     "name": "stdout",
     "output_type": "stream",
     "text": [
      "Epoch 32: Train Loss=0.1070, Val Loss=0.1136, Val Acc=0.9501\n"
     ]
    },
    {
     "name": "stderr",
     "output_type": "stream",
     "text": [
      "Epoch [33/50]: 100%|██████████| 893/893 [00:04<00:00, 220.60it/s, loss=0.117]   \n"
     ]
    },
    {
     "name": "stdout",
     "output_type": "stream",
     "text": [
      "Epoch 33: Train Loss=0.1062, Val Loss=0.1200, Val Acc=0.9473\n"
     ]
    },
    {
     "name": "stderr",
     "output_type": "stream",
     "text": [
      "Epoch [34/50]: 100%|██████████| 893/893 [00:03<00:00, 224.35it/s, loss=0.114]   \n"
     ]
    },
    {
     "name": "stdout",
     "output_type": "stream",
     "text": [
      "Epoch 34: Train Loss=0.1053, Val Loss=0.1152, Val Acc=0.9507\n"
     ]
    },
    {
     "name": "stderr",
     "output_type": "stream",
     "text": [
      "Epoch [35/50]: 100%|██████████| 893/893 [00:04<00:00, 218.34it/s, loss=0.0604]  \n"
     ]
    },
    {
     "name": "stdout",
     "output_type": "stream",
     "text": [
      "Epoch 35: Train Loss=0.1048, Val Loss=0.1086, Val Acc=0.9552\n"
     ]
    },
    {
     "name": "stderr",
     "output_type": "stream",
     "text": [
      "Epoch [36/50]: 100%|██████████| 893/893 [00:04<00:00, 215.47it/s, loss=0.0043]  \n"
     ]
    },
    {
     "name": "stdout",
     "output_type": "stream",
     "text": [
      "Epoch 36: Train Loss=0.1042, Val Loss=0.1088, Val Acc=0.9552\n"
     ]
    },
    {
     "name": "stderr",
     "output_type": "stream",
     "text": [
      "Epoch [37/50]: 100%|██████████| 893/893 [00:03<00:00, 232.82it/s, loss=0.0365]  \n"
     ]
    },
    {
     "name": "stdout",
     "output_type": "stream",
     "text": [
      "Epoch 37: Train Loss=0.1034, Val Loss=0.1087, Val Acc=0.9524\n"
     ]
    },
    {
     "name": "stderr",
     "output_type": "stream",
     "text": [
      "Epoch [38/50]: 100%|██████████| 893/893 [00:03<00:00, 226.56it/s, loss=0.024]  \n"
     ]
    },
    {
     "name": "stdout",
     "output_type": "stream",
     "text": [
      "Epoch 38: Train Loss=0.1032, Val Loss=0.1081, Val Acc=0.9546\n"
     ]
    },
    {
     "name": "stderr",
     "output_type": "stream",
     "text": [
      "Epoch [39/50]: 100%|██████████| 893/893 [00:03<00:00, 223.31it/s, loss=0.242]   \n"
     ]
    },
    {
     "name": "stdout",
     "output_type": "stream",
     "text": [
      "Epoch 39: Train Loss=0.1034, Val Loss=0.1095, Val Acc=0.9535\n"
     ]
    },
    {
     "name": "stderr",
     "output_type": "stream",
     "text": [
      "Epoch [40/50]: 100%|██████████| 893/893 [00:04<00:00, 212.33it/s, loss=0.292]  \n"
     ]
    },
    {
     "name": "stdout",
     "output_type": "stream",
     "text": [
      "Epoch 40: Train Loss=0.1027, Val Loss=0.1076, Val Acc=0.9529\n"
     ]
    },
    {
     "name": "stderr",
     "output_type": "stream",
     "text": [
      "Epoch [41/50]: 100%|██████████| 893/893 [00:03<00:00, 227.04it/s, loss=0.0594] \n"
     ]
    },
    {
     "name": "stdout",
     "output_type": "stream",
     "text": [
      "Epoch 41: Train Loss=0.1024, Val Loss=0.1077, Val Acc=0.9541\n"
     ]
    },
    {
     "name": "stderr",
     "output_type": "stream",
     "text": [
      "Epoch [42/50]: 100%|██████████| 893/893 [00:03<00:00, 236.43it/s, loss=0.18]    \n"
     ]
    },
    {
     "name": "stdout",
     "output_type": "stream",
     "text": [
      "Epoch 42: Train Loss=0.1020, Val Loss=0.1085, Val Acc=0.9541\n"
     ]
    },
    {
     "name": "stderr",
     "output_type": "stream",
     "text": [
      "Epoch [43/50]: 100%|██████████| 893/893 [00:03<00:00, 234.79it/s, loss=0.0886] \n"
     ]
    },
    {
     "name": "stdout",
     "output_type": "stream",
     "text": [
      "Epoch 43: Train Loss=0.1017, Val Loss=0.1062, Val Acc=0.9552\n"
     ]
    },
    {
     "name": "stderr",
     "output_type": "stream",
     "text": [
      "Epoch [44/50]: 100%|██████████| 893/893 [00:03<00:00, 230.74it/s, loss=0.0784]  \n"
     ]
    },
    {
     "name": "stdout",
     "output_type": "stream",
     "text": [
      "Epoch 44: Train Loss=0.1016, Val Loss=0.1066, Val Acc=0.9552\n"
     ]
    },
    {
     "name": "stderr",
     "output_type": "stream",
     "text": [
      "Epoch [45/50]: 100%|██████████| 893/893 [00:03<00:00, 237.53it/s, loss=0.0251]  \n"
     ]
    },
    {
     "name": "stdout",
     "output_type": "stream",
     "text": [
      "Epoch 45: Train Loss=0.1014, Val Loss=0.1064, Val Acc=0.9541\n"
     ]
    },
    {
     "name": "stderr",
     "output_type": "stream",
     "text": [
      "Epoch [46/50]: 100%|██████████| 893/893 [00:03<00:00, 237.09it/s, loss=0.0011]  \n"
     ]
    },
    {
     "name": "stdout",
     "output_type": "stream",
     "text": [
      "Epoch 46: Train Loss=0.1010, Val Loss=0.1089, Val Acc=0.9563\n"
     ]
    },
    {
     "name": "stderr",
     "output_type": "stream",
     "text": [
      "Epoch [47/50]: 100%|██████████| 893/893 [00:03<00:00, 236.35it/s, loss=0.00232]\n"
     ]
    },
    {
     "name": "stdout",
     "output_type": "stream",
     "text": [
      "Epoch 47: Train Loss=0.1009, Val Loss=0.1064, Val Acc=0.9557\n"
     ]
    },
    {
     "name": "stderr",
     "output_type": "stream",
     "text": [
      "Epoch [48/50]: 100%|██████████| 893/893 [00:04<00:00, 217.12it/s, loss=0.16]   \n"
     ]
    },
    {
     "name": "stdout",
     "output_type": "stream",
     "text": [
      "Epoch 48: Train Loss=0.1007, Val Loss=0.1063, Val Acc=0.9546\n",
      "Early stopping triggered after 48 epochs\n",
      "Finish training model: LSTM_Model\n"
     ]
    }
   ],
   "source": [
    "lstm_model, lstm_train_losses, lstm_val_losses, lstm_val_accuracies = train_model(\n",
    "    model=lstm_model,\n",
    "    criterion=lstm_criterion,\n",
    "    optimizer=lstm_optimizer,\n",
    "    epochs=lstm_epochs,\n",
    "    train_loader=train_loader,  # You already have the train_loader from earlier\n",
    "    val_loader=val_loader,      # You already have the val_loader from earlier\n",
    "    scheduler=scheduler         # Pass the scheduler function\n",
    ")\n",
    "\n",
    "torch.save(lstm_model.state_dict(), \"./model/lstm_model.pth\")"
   ]
  },
  {
   "cell_type": "code",
   "execution_count": 31,
   "id": "c8e75835-931f-47bd-804a-e44450c231fe",
   "metadata": {},
   "outputs": [],
   "source": [
    "import matplotlib.pyplot as plt\n",
    "\n",
    "def plot_training_results(train_losses, val_losses, val_accuracies):\n",
    "    epochs = range(1, len(train_losses) + 1)\n",
    "\n",
    "    # Plot Training Loss vs Epochs\n",
    "    plt.figure(figsize=(12, 4))\n",
    "\n",
    "    plt.subplot(1, 3, 1)\n",
    "    plt.plot(epochs, train_losses, 'b-', label='Training Loss')\n",
    "    plt.title('Training Loss')\n",
    "    plt.xlabel('Epoch')\n",
    "    plt.ylabel('Loss')\n",
    "    plt.legend()\n",
    "\n",
    "    # Plot Validation Loss vs Epochs\n",
    "    plt.subplot(1, 3, 2)\n",
    "    plt.plot(epochs, val_losses, 'r-', label='Validation Loss')\n",
    "    plt.title('Validation Loss')\n",
    "    plt.xlabel('Epoch')\n",
    "    plt.ylabel('Loss')\n",
    "    plt.legend()\n",
    "\n",
    "    # Plot Validation Accuracy vs Epochs\n",
    "    plt.subplot(1, 3, 3)\n",
    "    plt.plot(epochs, val_accuracies, 'g-', label='Validation Accuracy')\n",
    "    plt.title('Validation Accuracy')\n",
    "    plt.xlabel('Epoch')\n",
    "    plt.ylabel('Accuracy')\n",
    "    plt.legend()\n",
    "\n",
    "    plt.tight_layout()\n",
    "    plt.show()"
   ]
  },
  {
   "cell_type": "code",
   "execution_count": 33,
   "id": "e448f697-9982-4fad-af66-4ce8fc960e82",
   "metadata": {},
   "outputs": [
    {
     "data": {
      "image/png": "[encoded data removed]",
      "text/plain": [
       "<Figure size 1200x400 with 3 Axes>"
      ]
     },
     "metadata": {},
     "output_type": "display_data"
    }
   ],
   "source": [
    "# Example usage:\n",
    "plot_training_results(lstm_train_losses, lstm_val_losses, lstm_val_accuracies)"
   ]
  },
  {
   "cell_type": "code",
   "execution_count": 37,
   "id": "165c428f-8919-4a0a-8f50-5b6abaa0a9ff",
   "metadata": {},
   "outputs": [
    {
     "name": "stdout",
     "output_type": "stream",
     "text": [
      "Successfully clear the cache\n"
     ]
    }
   ],
   "source": [
    "# Note: I run this on my local machine with RTX3060 so I have to clear cache each time\n",
    "\n",
    "import gc\n",
    "gc.collect()\n",
    "torch.cuda.empty_cache()\n",
    "\n",
    "print(\"Successfully clear the cache\")"
   ]
  },
  {
   "cell_type": "code",
   "execution_count": 34,
   "id": "b98705ab-dddc-4bad-844e-bd85c016fba9",
   "metadata": {
    "scrolled": true
   },
   "outputs": [
    {
     "name": "stdout",
     "output_type": "stream",
     "text": [
      "Using device: cuda\n",
      "Start training model: CNN_Model\n"
     ]
    },
    {
     "name": "stderr",
     "output_type": "stream",
     "text": [
      "Epoch [1/50]: 100%|██████████| 893/893 [00:04<00:00, 209.58it/s, loss=0.099] \n"
     ]
    },
    {
     "name": "stdout",
     "output_type": "stream",
     "text": [
      "Epoch 1: Train Loss=0.2988, Val Loss=0.2204, Val Acc=0.9014\n"
     ]
    },
    {
     "name": "stderr",
     "output_type": "stream",
     "text": [
      "Epoch [2/50]: 100%|██████████| 893/893 [00:03<00:00, 240.06it/s, loss=0.33]  \n"
     ]
    },
    {
     "name": "stdout",
     "output_type": "stream",
     "text": [
      "Epoch 2: Train Loss=0.2103, Val Loss=0.1735, Val Acc=0.9221\n"
     ]
    },
    {
     "name": "stderr",
     "output_type": "stream",
     "text": [
      "Epoch [3/50]: 100%|██████████| 893/893 [00:03<00:00, 232.59it/s, loss=0.173]  \n"
     ]
    },
    {
     "name": "stdout",
     "output_type": "stream",
     "text": [
      "Epoch 3: Train Loss=0.1793, Val Loss=0.1833, Val Acc=0.9221\n"
     ]
    },
    {
     "name": "stderr",
     "output_type": "stream",
     "text": [
      "Epoch [4/50]: 100%|██████████| 893/893 [00:03<00:00, 263.44it/s, loss=0.733]  \n"
     ]
    },
    {
     "name": "stdout",
     "output_type": "stream",
     "text": [
      "Epoch 4: Train Loss=0.1664, Val Loss=0.1704, Val Acc=0.9339\n"
     ]
    },
    {
     "name": "stderr",
     "output_type": "stream",
     "text": [
      "Epoch [5/50]: 100%|██████████| 893/893 [00:03<00:00, 254.77it/s, loss=0.196]  \n"
     ]
    },
    {
     "name": "stdout",
     "output_type": "stream",
     "text": [
      "Epoch 5: Train Loss=0.1467, Val Loss=0.1145, Val Acc=0.9563\n"
     ]
    },
    {
     "name": "stderr",
     "output_type": "stream",
     "text": [
      "Epoch [6/50]: 100%|██████████| 893/893 [00:03<00:00, 270.59it/s, loss=0.062]  \n"
     ]
    },
    {
     "name": "stdout",
     "output_type": "stream",
     "text": [
      "Epoch 6: Train Loss=0.1347, Val Loss=0.1307, Val Acc=0.9513\n"
     ]
    },
    {
     "name": "stderr",
     "output_type": "stream",
     "text": [
      "Epoch [7/50]: 100%|██████████| 893/893 [00:03<00:00, 254.19it/s, loss=0.505]  \n"
     ]
    },
    {
     "name": "stdout",
     "output_type": "stream",
     "text": [
      "Epoch 7: Train Loss=0.1272, Val Loss=0.0970, Val Acc=0.9686\n"
     ]
    },
    {
     "name": "stderr",
     "output_type": "stream",
     "text": [
      "Epoch [8/50]: 100%|██████████| 893/893 [00:03<00:00, 259.20it/s, loss=0.00612]\n"
     ]
    },
    {
     "name": "stdout",
     "output_type": "stream",
     "text": [
      "Epoch 8: Train Loss=0.1251, Val Loss=0.1627, Val Acc=0.9350\n"
     ]
    },
    {
     "name": "stderr",
     "output_type": "stream",
     "text": [
      "Epoch [9/50]: 100%|██████████| 893/893 [00:03<00:00, 264.21it/s, loss=0.341]  \n"
     ]
    },
    {
     "name": "stdout",
     "output_type": "stream",
     "text": [
      "Epoch 9: Train Loss=0.1112, Val Loss=0.0927, Val Acc=0.9641\n"
     ]
    },
    {
     "name": "stderr",
     "output_type": "stream",
     "text": [
      "Epoch [10/50]: 100%|██████████| 893/893 [00:03<00:00, 257.86it/s, loss=0.0151] \n"
     ]
    },
    {
     "name": "stdout",
     "output_type": "stream",
     "text": [
      "Epoch 10: Train Loss=0.1083, Val Loss=0.0832, Val Acc=0.9697\n"
     ]
    },
    {
     "name": "stderr",
     "output_type": "stream",
     "text": [
      "Epoch [11/50]: 100%|██████████| 893/893 [00:03<00:00, 253.81it/s, loss=0.247]  \n"
     ]
    },
    {
     "name": "stdout",
     "output_type": "stream",
     "text": [
      "Epoch 11: Train Loss=0.1006, Val Loss=0.0762, Val Acc=0.9804\n"
     ]
    },
    {
     "name": "stderr",
     "output_type": "stream",
     "text": [
      "Epoch [12/50]: 100%|██████████| 893/893 [00:03<00:00, 260.08it/s, loss=0.152]   \n"
     ]
    },
    {
     "name": "stdout",
     "output_type": "stream",
     "text": [
      "Epoch 12: Train Loss=0.0923, Val Loss=0.0966, Val Acc=0.9664\n"
     ]
    },
    {
     "name": "stderr",
     "output_type": "stream",
     "text": [
      "Epoch [13/50]: 100%|██████████| 893/893 [00:03<00:00, 259.22it/s, loss=0.0424]  \n"
     ]
    },
    {
     "name": "stdout",
     "output_type": "stream",
     "text": [
      "Epoch 13: Train Loss=0.0807, Val Loss=0.0617, Val Acc=0.9759\n"
     ]
    },
    {
     "name": "stderr",
     "output_type": "stream",
     "text": [
      "Epoch [14/50]: 100%|██████████| 893/893 [00:03<00:00, 258.32it/s, loss=0.167]   \n"
     ]
    },
    {
     "name": "stdout",
     "output_type": "stream",
     "text": [
      "Epoch 14: Train Loss=0.0783, Val Loss=0.0942, Val Acc=0.9619\n"
     ]
    },
    {
     "name": "stderr",
     "output_type": "stream",
     "text": [
      "Epoch [15/50]: 100%|██████████| 893/893 [00:03<00:00, 263.56it/s, loss=0.0498]  \n"
     ]
    },
    {
     "name": "stdout",
     "output_type": "stream",
     "text": [
      "Epoch 15: Train Loss=0.0757, Val Loss=0.0539, Val Acc=0.9798\n"
     ]
    },
    {
     "name": "stderr",
     "output_type": "stream",
     "text": [
      "Epoch [16/50]: 100%|██████████| 893/893 [00:03<00:00, 259.14it/s, loss=0.161]   \n"
     ]
    },
    {
     "name": "stdout",
     "output_type": "stream",
     "text": [
      "Epoch 16: Train Loss=0.0660, Val Loss=0.0986, Val Acc=0.9591\n"
     ]
    },
    {
     "name": "stderr",
     "output_type": "stream",
     "text": [
      "Epoch [17/50]: 100%|██████████| 893/893 [00:03<00:00, 251.84it/s, loss=0.0027]  \n"
     ]
    },
    {
     "name": "stdout",
     "output_type": "stream",
     "text": [
      "Epoch 17: Train Loss=0.0631, Val Loss=0.0446, Val Acc=0.9832\n"
     ]
    },
    {
     "name": "stderr",
     "output_type": "stream",
     "text": [
      "Epoch [18/50]: 100%|██████████| 893/893 [00:03<00:00, 233.70it/s, loss=0.459]   \n"
     ]
    },
    {
     "name": "stdout",
     "output_type": "stream",
     "text": [
      "Epoch 18: Train Loss=0.0577, Val Loss=0.0476, Val Acc=0.9849\n"
     ]
    },
    {
     "name": "stderr",
     "output_type": "stream",
     "text": [
      "Epoch [19/50]: 100%|██████████| 893/893 [00:03<00:00, 235.08it/s, loss=0.188]   \n"
     ]
    },
    {
     "name": "stdout",
     "output_type": "stream",
     "text": [
      "Epoch 19: Train Loss=0.0607, Val Loss=0.0374, Val Acc=0.9888\n"
     ]
    },
    {
     "name": "stderr",
     "output_type": "stream",
     "text": [
      "Epoch [20/50]: 100%|██████████| 893/893 [00:03<00:00, 225.36it/s, loss=0.174]   \n"
     ]
    },
    {
     "name": "stdout",
     "output_type": "stream",
     "text": [
      "Epoch 20: Train Loss=0.0536, Val Loss=0.0521, Val Acc=0.9826\n"
     ]
    },
    {
     "name": "stderr",
     "output_type": "stream",
     "text": [
      "Epoch [21/50]: 100%|██████████| 893/893 [00:03<00:00, 241.17it/s, loss=0.836]   \n"
     ]
    },
    {
     "name": "stdout",
     "output_type": "stream",
     "text": [
      "Epoch 21: Train Loss=0.0523, Val Loss=0.0419, Val Acc=0.9821\n"
     ]
    },
    {
     "name": "stderr",
     "output_type": "stream",
     "text": [
      "Epoch [22/50]: 100%|██████████| 893/893 [00:03<00:00, 228.90it/s, loss=0.000188]\n"
     ]
    },
    {
     "name": "stdout",
     "output_type": "stream",
     "text": [
      "Epoch 22: Train Loss=0.0449, Val Loss=0.0367, Val Acc=0.9849\n"
     ]
    },
    {
     "name": "stderr",
     "output_type": "stream",
     "text": [
      "Epoch [23/50]: 100%|██████████| 893/893 [00:03<00:00, 245.82it/s, loss=0.00164] \n"
     ]
    },
    {
     "name": "stdout",
     "output_type": "stream",
     "text": [
      "Epoch 23: Train Loss=0.0427, Val Loss=0.0334, Val Acc=0.9877\n"
     ]
    },
    {
     "name": "stderr",
     "output_type": "stream",
     "text": [
      "Epoch [24/50]: 100%|██████████| 893/893 [00:04<00:00, 221.93it/s, loss=0.355]   \n"
     ]
    },
    {
     "name": "stdout",
     "output_type": "stream",
     "text": [
      "Epoch 24: Train Loss=0.0409, Val Loss=0.0305, Val Acc=0.9877\n"
     ]
    },
    {
     "name": "stderr",
     "output_type": "stream",
     "text": [
      "Epoch [25/50]: 100%|██████████| 893/893 [00:03<00:00, 237.42it/s, loss=0.133]   \n"
     ]
    },
    {
     "name": "stdout",
     "output_type": "stream",
     "text": [
      "Epoch 25: Train Loss=0.0395, Val Loss=0.0319, Val Acc=0.9877\n"
     ]
    },
    {
     "name": "stderr",
     "output_type": "stream",
     "text": [
      "Epoch [26/50]: 100%|██████████| 893/893 [00:03<00:00, 248.74it/s, loss=0.0157]  \n"
     ]
    },
    {
     "name": "stdout",
     "output_type": "stream",
     "text": [
      "Epoch 26: Train Loss=0.0362, Val Loss=0.0307, Val Acc=0.9877\n"
     ]
    },
    {
     "name": "stderr",
     "output_type": "stream",
     "text": [
      "Epoch [27/50]: 100%|██████████| 893/893 [00:03<00:00, 249.97it/s, loss=0.000167]\n"
     ]
    },
    {
     "name": "stdout",
     "output_type": "stream",
     "text": [
      "Epoch 27: Train Loss=0.0377, Val Loss=0.0294, Val Acc=0.9899\n"
     ]
    },
    {
     "name": "stderr",
     "output_type": "stream",
     "text": [
      "Epoch [28/50]: 100%|██████████| 893/893 [00:04<00:00, 214.59it/s, loss=0.000461]\n"
     ]
    },
    {
     "name": "stdout",
     "output_type": "stream",
     "text": [
      "Epoch 28: Train Loss=0.0316, Val Loss=0.0418, Val Acc=0.9843\n"
     ]
    },
    {
     "name": "stderr",
     "output_type": "stream",
     "text": [
      "Epoch [29/50]: 100%|██████████| 893/893 [00:03<00:00, 232.64it/s, loss=0.0322]  \n"
     ]
    },
    {
     "name": "stdout",
     "output_type": "stream",
     "text": [
      "Epoch 29: Train Loss=0.0333, Val Loss=0.0443, Val Acc=0.9843\n"
     ]
    },
    {
     "name": "stderr",
     "output_type": "stream",
     "text": [
      "Epoch [30/50]: 100%|██████████| 893/893 [00:03<00:00, 245.36it/s, loss=0.00361] \n"
     ]
    },
    {
     "name": "stdout",
     "output_type": "stream",
     "text": [
      "Epoch 30: Train Loss=0.0324, Val Loss=0.0356, Val Acc=0.9871\n"
     ]
    },
    {
     "name": "stderr",
     "output_type": "stream",
     "text": [
      "Epoch [31/50]: 100%|██████████| 893/893 [00:04<00:00, 190.97it/s, loss=0.0277]  \n"
     ]
    },
    {
     "name": "stdout",
     "output_type": "stream",
     "text": [
      "Epoch 31: Train Loss=0.0299, Val Loss=0.0241, Val Acc=0.9916\n"
     ]
    },
    {
     "name": "stderr",
     "output_type": "stream",
     "text": [
      "Epoch [32/50]: 100%|██████████| 893/893 [00:03<00:00, 227.96it/s, loss=0.0239]  \n"
     ]
    },
    {
     "name": "stdout",
     "output_type": "stream",
     "text": [
      "Epoch 32: Train Loss=0.0289, Val Loss=0.0300, Val Acc=0.9882\n"
     ]
    },
    {
     "name": "stderr",
     "output_type": "stream",
     "text": [
      "Epoch [33/50]: 100%|██████████| 893/893 [00:03<00:00, 229.37it/s, loss=0.0195]  \n"
     ]
    },
    {
     "name": "stdout",
     "output_type": "stream",
     "text": [
      "Epoch 33: Train Loss=0.0282, Val Loss=0.0262, Val Acc=0.9894\n"
     ]
    },
    {
     "name": "stderr",
     "output_type": "stream",
     "text": [
      "Epoch [34/50]: 100%|██████████| 893/893 [00:03<00:00, 247.94it/s, loss=0.0453]  \n"
     ]
    },
    {
     "name": "stdout",
     "output_type": "stream",
     "text": [
      "Epoch 34: Train Loss=0.0266, Val Loss=0.0225, Val Acc=0.9938\n"
     ]
    },
    {
     "name": "stderr",
     "output_type": "stream",
     "text": [
      "Epoch [35/50]: 100%|██████████| 893/893 [00:04<00:00, 218.32it/s, loss=0.00203] \n"
     ]
    },
    {
     "name": "stdout",
     "output_type": "stream",
     "text": [
      "Epoch 35: Train Loss=0.0275, Val Loss=0.0243, Val Acc=0.9905\n"
     ]
    },
    {
     "name": "stderr",
     "output_type": "stream",
     "text": [
      "Epoch [36/50]: 100%|██████████| 893/893 [00:04<00:00, 208.74it/s, loss=0.000176]\n"
     ]
    },
    {
     "name": "stdout",
     "output_type": "stream",
     "text": [
      "Epoch 36: Train Loss=0.0253, Val Loss=0.0273, Val Acc=0.9899\n"
     ]
    },
    {
     "name": "stderr",
     "output_type": "stream",
     "text": [
      "Epoch [37/50]: 100%|██████████| 893/893 [00:03<00:00, 233.28it/s, loss=0.000811]\n"
     ]
    },
    {
     "name": "stdout",
     "output_type": "stream",
     "text": [
      "Epoch 37: Train Loss=0.0266, Val Loss=0.0228, Val Acc=0.9933\n"
     ]
    },
    {
     "name": "stderr",
     "output_type": "stream",
     "text": [
      "Epoch [38/50]: 100%|██████████| 893/893 [00:03<00:00, 229.04it/s, loss=0.000976]\n"
     ]
    },
    {
     "name": "stdout",
     "output_type": "stream",
     "text": [
      "Epoch 38: Train Loss=0.0247, Val Loss=0.0234, Val Acc=0.9938\n"
     ]
    },
    {
     "name": "stderr",
     "output_type": "stream",
     "text": [
      "Epoch [39/50]: 100%|██████████| 893/893 [00:03<00:00, 238.13it/s, loss=0.00726] \n"
     ]
    },
    {
     "name": "stdout",
     "output_type": "stream",
     "text": [
      "Epoch 39: Train Loss=0.0249, Val Loss=0.0215, Val Acc=0.9927\n"
     ]
    },
    {
     "name": "stderr",
     "output_type": "stream",
     "text": [
      "Epoch [40/50]: 100%|██████████| 893/893 [00:03<00:00, 240.48it/s, loss=0.0115]  \n"
     ]
    },
    {
     "name": "stdout",
     "output_type": "stream",
     "text": [
      "Epoch 40: Train Loss=0.0232, Val Loss=0.0200, Val Acc=0.9933\n"
     ]
    },
    {
     "name": "stderr",
     "output_type": "stream",
     "text": [
      "Epoch [41/50]: 100%|██████████| 893/893 [00:04<00:00, 216.28it/s, loss=0.0143]  \n"
     ]
    },
    {
     "name": "stdout",
     "output_type": "stream",
     "text": [
      "Epoch 41: Train Loss=0.0235, Val Loss=0.0219, Val Acc=0.9938\n"
     ]
    },
    {
     "name": "stderr",
     "output_type": "stream",
     "text": [
      "Epoch [42/50]: 100%|██████████| 893/893 [00:03<00:00, 252.89it/s, loss=0.0364]  \n"
     ]
    },
    {
     "name": "stdout",
     "output_type": "stream",
     "text": [
      "Epoch 42: Train Loss=0.0226, Val Loss=0.0217, Val Acc=0.9944\n"
     ]
    },
    {
     "name": "stderr",
     "output_type": "stream",
     "text": [
      "Epoch [43/50]: 100%|██████████| 893/893 [00:03<00:00, 244.96it/s, loss=0.000508]\n"
     ]
    },
    {
     "name": "stdout",
     "output_type": "stream",
     "text": [
      "Epoch 43: Train Loss=0.0229, Val Loss=0.0212, Val Acc=0.9927\n"
     ]
    },
    {
     "name": "stderr",
     "output_type": "stream",
     "text": [
      "Epoch [44/50]: 100%|██████████| 893/893 [00:03<00:00, 249.46it/s, loss=0.116]   \n"
     ]
    },
    {
     "name": "stdout",
     "output_type": "stream",
     "text": [
      "Epoch 44: Train Loss=0.0229, Val Loss=0.0197, Val Acc=0.9944\n"
     ]
    },
    {
     "name": "stderr",
     "output_type": "stream",
     "text": [
      "Epoch [45/50]: 100%|██████████| 893/893 [00:03<00:00, 267.63it/s, loss=0.00475] \n"
     ]
    },
    {
     "name": "stdout",
     "output_type": "stream",
     "text": [
      "Epoch 45: Train Loss=0.0222, Val Loss=0.0216, Val Acc=0.9910\n"
     ]
    },
    {
     "name": "stderr",
     "output_type": "stream",
     "text": [
      "Epoch [46/50]: 100%|██████████| 893/893 [00:03<00:00, 271.09it/s, loss=0.021]   \n"
     ]
    },
    {
     "name": "stdout",
     "output_type": "stream",
     "text": [
      "Epoch 46: Train Loss=0.0217, Val Loss=0.0210, Val Acc=0.9933\n"
     ]
    },
    {
     "name": "stderr",
     "output_type": "stream",
     "text": [
      "Epoch [47/50]: 100%|██████████| 893/893 [00:03<00:00, 260.19it/s, loss=0.0106]  \n"
     ]
    },
    {
     "name": "stdout",
     "output_type": "stream",
     "text": [
      "Epoch 47: Train Loss=0.0211, Val Loss=0.0206, Val Acc=0.9938\n"
     ]
    },
    {
     "name": "stderr",
     "output_type": "stream",
     "text": [
      "Epoch [48/50]: 100%|██████████| 893/893 [00:03<00:00, 259.99it/s, loss=0.00439] \n"
     ]
    },
    {
     "name": "stdout",
     "output_type": "stream",
     "text": [
      "Epoch 48: Train Loss=0.0229, Val Loss=0.0198, Val Acc=0.9944\n"
     ]
    },
    {
     "name": "stderr",
     "output_type": "stream",
     "text": [
      "Epoch [49/50]: 100%|██████████| 893/893 [00:03<00:00, 269.71it/s, loss=0.00267] \n"
     ]
    },
    {
     "name": "stdout",
     "output_type": "stream",
     "text": [
      "Epoch 49: Train Loss=0.0200, Val Loss=0.0204, Val Acc=0.9938\n",
      "Early stopping triggered after 49 epochs\n",
      "Finish training model: CNN_Model\n"
     ]
    }
   ],
   "source": [
    "cnn_model = CNN_Model()\n",
    "\n",
    "# Set up the loss function and optimizer\n",
    "cnn_criterion = nn.BCELoss()  # Binary Cross-Entropy Loss for binary classification\n",
    "cnn_optimizer = optim.Adam(cnn_model.parameters(), lr=0.001)\n",
    "\n",
    "cnn_epochs = 50  # Set number of epochs\n",
    "\n",
    "cnn_model, cnn_train_losses, cnn_val_losses, cnn_val_accuracies = train_model(\n",
    "        cnn_model, \n",
    "        criterion=cnn_criterion, \n",
    "        optimizer=cnn_optimizer, \n",
    "        epochs=cnn_epochs, \n",
    "        train_loader=train_loader, \n",
    "        val_loader=val_loader, \n",
    "        scheduler=scheduler)\n",
    "torch.save(cnn_model.state_dict(), \"./model/cnn_model.pth\")"
   ]
  },
  {
   "cell_type": "code",
   "execution_count": 35,
   "id": "4128e8be-63b2-4a5c-8749-d5509c55f447",
   "metadata": {},
   "outputs": [
    {
     "data": {
      "image/png": "[encoded data removed]",
      "text/plain": [
       "<Figure size 1200x400 with 3 Axes>"
      ]
     },
     "metadata": {},
     "output_type": "display_data"
    }
   ],
   "source": [
    "# Example usage:\n",
    "plot_training_results(cnn_train_losses, cnn_val_losses, cnn_val_accuracies)"
   ]
  },
  {
   "cell_type": "code",
   "execution_count": 36,
   "id": "db2817a0-2f95-4917-8277-6b249a4fea36",
   "metadata": {},
   "outputs": [],
   "source": [
    "def perform_model_on_test_dataset(model, test_loader, device):\n",
    "    model.eval()  # Set the model to evaluation mode\n",
    "    all_preds = []\n",
    "    all_labels = []\n",
    "    \n",
    "    with torch.no_grad():  # Disable gradient calculation for testing\n",
    "        for inputs, labels in test_loader:\n",
    "            inputs, labels = inputs.to(device), labels.to(device)\n",
    "            outputs = model(inputs)\n",
    "            preds = (outputs > 0.5).float()  # Assuming sigmoid output, convert to 0 or 1\n",
    "            \n",
    "            all_preds.extend(preds.cpu().numpy())\n",
    "            all_labels.extend(labels.cpu().numpy())\n",
    "    \n",
    "    # Calculate accuracy\n",
    "    accuracy = accuracy_score(all_labels, all_preds)\n",
    "    print(f'Model Test Accuracy: {accuracy * 100:.2f}%')"
   ]
  },
  {
   "cell_type": "code",
   "execution_count": 37,
   "id": "0f8eebed-4315-42aa-86ac-a1b463e16cb5",
   "metadata": {},
   "outputs": [
    {
     "name": "stdout",
     "output_type": "stream",
     "text": [
      "Model Test Accuracy: 95.57%\n"
     ]
    }
   ],
   "source": [
    "device = torch.device('cuda' if torch.cuda.is_available() else 'cpu')\n",
    "\n",
    "# Define model parameters\n",
    "input_size = 51   # Number of features (e.g., in your falling data)\n",
    "hidden_size = 16  # Number of units in the hidden state\n",
    "num_layers = 1    # Number of LSTM layers (you can experiment with this)\n",
    "dropout = 0.5     # Dropout rate for regularization\n",
    "\n",
    "# Initialize the LSTM_Model model\n",
    "lstm_model = LSTM_Model(input_size=input_size, hidden_size=hidden_size, num_layers=num_layers, dropout=dropout)\n",
    "lstm_model.load_state_dict(torch.load('./model/lstm_model.pth'))\n",
    "\n",
    "# Set the model to evaluation mode (important for inference)\n",
    "lstm_model.eval()\n",
    "lstm_model.to(device)\n",
    "\n",
    "# Example usage:\n",
    "perform_model_on_test_dataset(lstm_model, test_loader, device)"
   ]
  },
  {
   "cell_type": "code",
   "execution_count": 38,
   "id": "3f2188bd-6910-4da5-903a-522039bcb052",
   "metadata": {},
   "outputs": [
    {
     "name": "stdout",
     "output_type": "stream",
     "text": [
      "Model Test Accuracy: 99.27%\n"
     ]
    }
   ],
   "source": [
    "device = torch.device('cuda' if torch.cuda.is_available() else 'cpu')\n",
    "\n",
    "cnn_model = CNN_Model()\n",
    "cnn_model.load_state_dict(torch.load('./model/cnn_model.pth'))\n",
    "\n",
    "# Set the model to evaluation mode (important for inference)\n",
    "cnn_model.eval()\n",
    "cnn_model.to(device)\n",
    "\n",
    "# Example usage:\n",
    "perform_model_on_test_dataset(cnn_model, test_loader, device)"
   ]
  },
  {
   "cell_type": "code",
   "execution_count": 46,
   "id": "833200be-c58f-494f-926e-fc738f6d76b9",
   "metadata": {},
   "outputs": [
    {
     "name": "stdout",
     "output_type": "stream",
     "text": [
      "56\n",
      "17850\n",
      "Rule-based model accuracy: 72.20%\n"
     ]
    }
   ],
   "source": [
    "rule_total = 0\n",
    "rule_correct = 0\n",
    "\n",
    "print(len(all_data[0]))\n",
    "print(len(all_data))\n",
    "\n",
    "for row in all_data:\n",
    "    label = int(row[0])  # ground truth\n",
    "    xmin, ymin, xmax, ymax = row[1:5]\n",
    "    flatten_pose = row[5:]  # keypoints + confidences\n",
    "\n",
    "    prediction, _ = rule_fall_detection(flatten_pose, xmin, ymin, xmax, ymax)\n",
    "    pred_label = int(prediction)  # Convert True/False to 1/0\n",
    "\n",
    "    if pred_label == label:\n",
    "        rule_correct += 1\n",
    "    rule_total += 1\n",
    "\n",
    "rule_accuracy = rule_correct / rule_total if rule_total > 0 else 0\n",
    "print(f\"Rule-based model accuracy: {rule_accuracy:.2%}\")"
   ]
  },
  {
   "cell_type": "code",
   "execution_count": null,
   "id": "cc8d2178-775b-4ca2-b2f0-6c7c382db58b",
   "metadata": {},
   "outputs": [],
   "source": []
  }
 ],
 "metadata": {
  "kernelspec": {
   "display_name": "Python 3 (ipykernel)",
   "language": "python",
   "name": "python3"
  },
  "language_info": {
   "codemirror_mode": {
    "name": "ipython",
    "version": 3
   },
   "file_extension": ".py",
   "mimetype": "text/x-python",
   "name": "python",
   "nbconvert_exporter": "python",
   "pygments_lexer": "ipython3",
   "version": "3.12.9"
  }
 },
 "nbformat": 4,
 "nbformat_minor": 5
}
