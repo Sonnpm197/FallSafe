{
 "cells": [
  {
   "cell_type": "code",
   "execution_count": 1,
   "id": "initial_id",
   "metadata": {
    "ExecuteTime": {
     "end_time": "2025-05-07T09:06:07.970896Z",
     "start_time": "2025-05-07T09:06:00.546495Z"
    }
   },
   "outputs": [
    {
     "name": "stdout",
     "output_type": "stream",
     "text": [
      "PyTorch version: 2.6.0+cu126\n",
      "Torchvision version: 0.21.0+cu126\n",
      "CUDA is available. PyTorch is using GPU: NVIDIA GeForce RTX 3060 Laptop GPU\n"
     ]
    }
   ],
   "source": [
    "import torch\n",
    "import torchvision\n",
    "\n",
    "print(\"PyTorch version:\", torch.__version__)\n",
    "print(\"Torchvision version:\", torchvision.__version__)\n",
    "if torch.cuda.is_available():\n",
    "    print(\"CUDA is available. PyTorch is using GPU:\", torch.cuda.get_device_name(0))\n",
    "else:\n",
    "    print(\"CUDA is NOT available. PyTorch is using CPU.\")"
   ]
  },
  {
   "cell_type": "code",
   "execution_count": 2,
   "id": "64c9983a-ace8-4ff9-a2e7-f866aaf12083",
   "metadata": {
    "ExecuteTime": {
     "end_time": "2025-05-07T08:31:21.795810Z",
     "start_time": "2025-05-07T08:31:21.781654Z"
    }
   },
   "outputs": [
    {
     "name": "stdout",
     "output_type": "stream",
     "text": [
      "<class 'nn_model.NN_Model'>\n",
      "<function rule_fall_detection at 0x0000024849F46980>\n",
      "<function Rule_Model at 0x0000024849E8BA60>\n"
     ]
    }
   ],
   "source": [
    "from nn_model import NN_Model\n",
    "from rule_model import Rule_Model, rule_fall_detection\n",
    "\n",
    "print(NN_Model)\n",
    "\n",
    "print(rule_fall_detection)\n",
    "print(Rule_Model)"
   ]
  },
  {
   "cell_type": "code",
   "execution_count": 3,
   "id": "f00fb002f83c41ce",
   "metadata": {
    "ExecuteTime": {
     "end_time": "2025-05-07T08:31:24.801426Z",
     "start_time": "2025-05-07T08:31:24.210756Z"
    }
   },
   "outputs": [
    {
     "name": "stdout",
     "output_type": "stream",
     "text": [
      "[0.0, 0.0, 21.377562, 14.05296, 78.99814, 0.0, 0.0, 0.030200856, 0.0, 0.0, 0.03486256, 0.0, 0.0, 0.006000614, 0.0, 0.0, 0.16029733, 0.0, 0.0, 0.008379752, 0.0, 0.0, 0.42202255, 0.0, 0.0, 0.18936744, 0.03566222, 0.27296808, 0.5380514, 0.0, 0.0, 0.17341469, 0.0, 0.0, 0.3383477, 0.0, 0.0, 0.13685742, 0.0, 0.0, 0.256842, 0.0, 0.0, 0.16609466, 0.0, 0.0, 0.057011355, 0.0, 0.0, 0.033380967, 0.0, 0.0, 0.024535764, 0.0, 0.0, 0.016800055, 'adl-01-cam0_6']\n",
      "57\n"
     ]
    }
   ],
   "source": [
    "import csv\n",
    "import numpy as np\n",
    "\n",
    "file_path = \"csv_data/ur_keypoints_labeled.csv\"\n",
    "all_data = []\n",
    "\n",
    "with open(file_path, \"r\") as f:\n",
    "    reader = csv.reader(f)\n",
    "    for row in reader:\n",
    "        # Convert all but the last column to float32\n",
    "        float_part = list(map(np.float32, row[:-1]))\n",
    "        string_part = row[-1]\n",
    "        all_data.append(float_part + [string_part])\n",
    "\n",
    "print(all_data[0])\n",
    "print(len(all_data[0]))"
   ]
  },
  {
   "cell_type": "code",
   "execution_count": 4,
   "id": "276e55d7f4191f77",
   "metadata": {
    "ExecuteTime": {
     "end_time": "2025-05-07T08:32:01.712096Z",
     "start_time": "2025-05-07T08:31:51.503237Z"
    }
   },
   "outputs": [
    {
     "name": "stdout",
     "output_type": "stream",
     "text": [
      "57\n"
     ]
    }
   ],
   "source": [
    "import pandas as pd\n",
    "import csv\n",
    "import numpy as np\n",
    "\n",
    "file_path = \"csv_data/mc_keypoints_labeled.csv\"\n",
    "\n",
    "with open(file_path, \"r\") as f:\n",
    "    reader = csv.reader(f)\n",
    "    for row in reader:\n",
    "        # Convert all but the last column to float32\n",
    "        float_part = list(map(np.float32, row[:-1]))\n",
    "        string_part = row[-1]\n",
    "        all_data.append(float_part + [string_part])\n",
    "\n",
    "print(len(all_data[-1]))"
   ]
  },
  {
   "cell_type": "code",
   "execution_count": 5,
   "id": "b58b6302-4052-4aaa-8c22-245ad2480bf2",
   "metadata": {
    "ExecuteTime": {
     "end_time": "2025-05-07T08:32:12.681147Z",
     "start_time": "2025-05-07T08:32:08.525179Z"
    }
   },
   "outputs": [
    {
     "name": "stdout",
     "output_type": "stream",
     "text": [
      "57\n",
      "Shape of all_data: (294706, 57)\n",
      "Last column of first row: adl-01-cam0_6\n",
      "Last column of first row: le2i189_205\n"
     ]
    }
   ],
   "source": [
    "import pandas as pd\n",
    "import csv\n",
    "import numpy as np\n",
    "\n",
    "file_path = \"csv_data/le2i_keypoints_labeled.csv\"\n",
    "\n",
    "with open(file_path, \"r\") as f:\n",
    "    reader = csv.reader(f)\n",
    "    for row in reader:\n",
    "        # Convert all but the last column to float32\n",
    "        float_part = list(map(np.float32, row[:-1]))\n",
    "        string_part = row[-1]\n",
    "        all_data.append(float_part + [string_part])\n",
    "\n",
    "print(len(all_data[-1]))\n",
    "\n",
    "# Convert to numpy array (object type because of the mix of float and string)\n",
    "all_data_np = np.array(all_data, dtype=object)\n",
    "\n",
    "print(\"Shape of all_data:\", all_data_np.shape)\n",
    "print(\"Last column of first row:\", all_data_np[0][-1])\n",
    "print(\"Last column of first row:\", all_data_np[-1][-1])"
   ]
  },
  {
   "cell_type": "code",
   "execution_count": 6,
   "id": "dc074fd5-23a7-4867-8c0d-52a20642c618",
   "metadata": {
    "ExecuteTime": {
     "end_time": "2025-05-07T08:32:28.945816Z",
     "start_time": "2025-05-07T08:32:28.669955Z"
    }
   },
   "outputs": [
    {
     "name": "stdout",
     "output_type": "stream",
     "text": [
      "Not fall (0): 205210\n",
      "Fall (1): 89496\n"
     ]
    }
   ],
   "source": [
    "import numpy as np\n",
    "\n",
    "# Assuming you've already loaded all_data and the first column is the label\n",
    "labels = all_data_np[:, 0]  # Get the first column\n",
    "\n",
    "# Count occurrences of 0 and 1\n",
    "unique, counts = np.unique(labels, return_counts=True)\n",
    "label_counts = dict(zip(unique.astype(int), counts))\n",
    "\n",
    "# Print results\n",
    "not_fall=label_counts.get(0, 0)\n",
    "fall=label_counts.get(1, 0)\n",
    "print(f\"Not fall (0): {not_fall}\")\n",
    "print(f\"Fall (1): {fall}\")"
   ]
  },
  {
   "cell_type": "code",
   "execution_count": 7,
   "id": "66d550f9507ce5ef",
   "metadata": {
    "ExecuteTime": {
     "end_time": "2025-05-07T08:32:42.521750Z",
     "start_time": "2025-05-07T08:32:37.444386Z"
    }
   },
   "outputs": [
    {
     "name": "stdout",
     "output_type": "stream",
     "text": [
      "Before re-sampling, not fall vs fall:\n",
      "label\n",
      "0.0    205210\n",
      "1.0     89496\n",
      "Name: count, dtype: int64\n",
      "not_fall_count > fall_count\n",
      "Begin to re-sample... 205210\n",
      "After re-sampling:\n",
      "label\n",
      "0.0    205210\n",
      "1.0    205210\n",
      "Name: count, dtype: int64\n"
     ]
    }
   ],
   "source": [
    "import pandas as pd\n",
    "from sklearn.utils import resample\n",
    "\n",
    "# Create DataFrame\n",
    "df = pd.DataFrame.from_records(all_data_np)\n",
    "header = ['label'] + list(range(len(all_data_np[0]) - 1))\n",
    "df.columns = header\n",
    "\n",
    "# Count class instances\n",
    "\n",
    "print(\"Before re-sampling, not fall vs fall:\")\n",
    "print(df['label'].value_counts())\n",
    "\n",
    "# Determine majority and minority\n",
    "if not_fall < fall:\n",
    "    print(\"not_fall_count < fall_count\")\n",
    "    df_minority = df[df.label == 0]  # Not fall\n",
    "    df_majority = df[df.label == 1]  # Fall\n",
    "    resample_number = fall\n",
    "else:\n",
    "    print(\"not_fall_count > fall_count\")\n",
    "    df_minority = df[df.label == 1]  # Fall\n",
    "    df_majority = df[df.label == 0]  # Not fall\n",
    "    resample_number = not_fall\n",
    "\n",
    "print(\"Begin to re-sample...\", resample_number)\n",
    "\n",
    "# Upsample minority\n",
    "df_minority_upsampled = resample(\n",
    "    df_minority,\n",
    "    replace=True,\n",
    "    n_samples=resample_number,\n",
    "    random_state=42\n",
    ")\n",
    "\n",
    "# Combine and shuffle\n",
    "df_upsampled = pd.concat([df_majority, df_minority_upsampled])\n",
    "df_upsampled = df_upsampled.sample(frac=1, random_state=42).reset_index(drop=True)\n",
    "\n",
    "print(\"After re-sampling:\")\n",
    "print(df_upsampled['label'].value_counts())\n"
   ]
  },
  {
   "cell_type": "code",
   "execution_count": 8,
   "id": "a0b617cd-0847-4d7d-afdb-10bdd087bb31",
   "metadata": {
    "ExecuteTime": {
     "end_time": "2025-05-07T08:32:46.928064Z",
     "start_time": "2025-05-07T08:32:46.219548Z"
    }
   },
   "outputs": [
    {
     "name": "stdout",
     "output_type": "stream",
     "text": [
      "[0.0 17.765304565429688 128.3868865966797 83.49588012695312\n",
      " 257.1996154785156 0.0 0.0 0.2862231135368347 0.0 0.0 0.3975674510002136\n",
      " 0.0 0.0 0.04492932930588722 0.04476585239171982 0.29765233397483826\n",
      " 0.7859702110290527 0.0 0.0 0.0364493764936924 0.059412214905023575\n",
      " 0.3245052099227905 0.9598881006240845 0.06616994738578796\n",
      " 0.3185845613479614 0.7820671796798706 0.06292521953582764\n",
      " 0.3651409447193146 0.9348546862602234 0.0 0.0 0.3353778123855591\n",
      " 0.046704716980457306 0.38356178998947144 0.8554349541664124 0.0 0.0\n",
      " 0.34535834193229675 0.07909833639860153 0.40167051553726196\n",
      " 0.9669073820114136 0.08356007933616638 0.3971477746963501\n",
      " 0.9156980514526367 0.05487976223230362 0.44137683510780334\n",
      " 0.9443801641464233 0.06008262187242508 0.43659496307373047\n",
      " 0.8298757076263428 0.07314767688512802 0.5004609823226929\n",
      " 0.8732761144638062 0.07619169354438782 0.4916640520095825\n",
      " 0.7342963218688965 'chute12/cam2_92']\n",
      "57\n",
      "number of all data: 410420\n"
     ]
    }
   ],
   "source": [
    "all_data_np = df_upsampled.values\n",
    "\n",
    "print(all_data_np[0])\n",
    "print(len(all_data_np[0]))\n",
    "print(\"number of all data:\", len(all_data_np))"
   ]
  },
  {
   "cell_type": "code",
   "execution_count": 9,
   "id": "7c74bd99-666a-45c1-b14e-7a030cac5e8b",
   "metadata": {
    "ExecuteTime": {
     "end_time": "2025-05-07T08:32:53.177403Z",
     "start_time": "2025-05-07T08:32:52.092828Z"
    }
   },
   "outputs": [
    {
     "name": "stdout",
     "output_type": "stream",
     "text": [
      "Train size: 328336, Val size: 41042, Test size: 41042\n"
     ]
    }
   ],
   "source": [
    "from sklearn.model_selection import train_test_split\n",
    "# First: split out 80% train\n",
    "train_data, temp_data = train_test_split(\n",
    "    all_data_np, test_size=0.20, random_state=42, shuffle=True\n",
    ")\n",
    "\n",
    "# Then: split remaining 20% equally into val and test\n",
    "val_data, test_data = train_test_split(\n",
    "    temp_data, test_size=0.50, random_state=42, shuffle=True\n",
    ")\n",
    "\n",
    "print(f\"Train size: {len(train_data)}, Val size: {len(val_data)}, Test size: {len(test_data)}\")\n"
   ]
  },
  {
   "cell_type": "code",
   "execution_count": 10,
   "id": "27ba09b2-10c0-417c-90df-d7c4c27fea61",
   "metadata": {
    "ExecuteTime": {
     "end_time": "2025-05-07T08:33:07.667089Z",
     "start_time": "2025-05-07T08:33:05.771473Z"
    }
   },
   "outputs": [],
   "source": [
    "import torch\n",
    "import numpy as np\n",
    "from torch.utils.data import DataLoader, TensorDataset\n",
    "\n",
    "# Prepare training data\n",
    "def prepare_data(data):\n",
    "    x = []\n",
    "    y = []\n",
    "    for record in data:\n",
    "        # slide to take 51 keypoint features, for NN model we need to exclude name at the end\n",
    "        x.append(record[5:-1])\n",
    "        y.append(int(record[0]))\n",
    "    \n",
    "    x = np.array(x, dtype=np.float32)\n",
    "    y = np.array(y, dtype=np.float32)\n",
    "\n",
    "    # Reshape x to (batch, time_steps, features)\n",
    "    #x = x.reshape((len(x), 1, x.shape[1]))  # (batch, 1, features)\n",
    "\n",
    "    # Convert to tensors\n",
    "    x_tensor = torch.tensor(x)\n",
    "    y_tensor = torch.tensor(y).unsqueeze(1)  # Shape (batch, 1)\n",
    "    \n",
    "    return x_tensor, y_tensor\n",
    "\n",
    "# Convert train, val, test data into tensors\n",
    "x_train, y_train = prepare_data(train_data)\n",
    "x_val, y_val = prepare_data(val_data)\n",
    "x_test, y_test = prepare_data(test_data)\n",
    "\n",
    "# Create dataset for train, val, and test\n",
    "train_dataset = TensorDataset(x_train, y_train)\n",
    "val_dataset = TensorDataset(x_val, y_val)\n",
    "test_dataset = TensorDataset(x_test, y_test)\n",
    "\n",
    "batch_size = 32\n",
    "\n",
    "# Create DataLoader for training, validation, and testing\n",
    "train_loader = DataLoader(train_dataset, batch_size, shuffle=True)\n",
    "val_loader = DataLoader(val_dataset, batch_size)\n",
    "test_loader = DataLoader(test_dataset, batch_size)"
   ]
  },
  {
   "cell_type": "code",
   "execution_count": 11,
   "id": "aa83c088-d83f-44c5-8f86-89d369d4c560",
   "metadata": {
    "ExecuteTime": {
     "end_time": "2025-05-07T08:33:13.848673Z",
     "start_time": "2025-05-07T08:33:13.263408Z"
    }
   },
   "outputs": [],
   "source": [
    "from tqdm import tqdm\n",
    "from sklearn.metrics import accuracy_score\n",
    "from utils import EarlyStopping\n",
    "\n",
    "def train_model(model, criterion, optimizer, epochs, train_loader, val_loader, scheduler, patience=5):\n",
    "    device = torch.device(\"cuda\" if torch.cuda.is_available() else \"cpu\")\n",
    "    print(\"Using device:\", device)\n",
    "    print(f\"Start training model: {type(model).__name__}\")\n",
    "    model.to(device)\n",
    "\n",
    "    train_losses = []\n",
    "    val_losses = []\n",
    "    val_accuracies = []\n",
    "\n",
    "    # Initialize EarlyStopping\n",
    "    early_stopping = EarlyStopping(patience=patience)\n",
    "\n",
    "    for epoch in range(epochs):\n",
    "        model.train()\n",
    "        total_loss = 0\n",
    "\n",
    "        # Update learning rate using scheduler\n",
    "        lr = scheduler(epoch)\n",
    "        for param_group in optimizer.param_groups:\n",
    "            param_group['lr'] = lr\n",
    "\n",
    "        loop = tqdm(train_loader, desc=f\"Epoch [{epoch+1}/{epochs}]\", leave=True)\n",
    "        for inputs, labels in loop:\n",
    "            inputs, labels = inputs.to(device), labels.to(device)\n",
    "\n",
    "            optimizer.zero_grad()\n",
    "            outputs = model(inputs)\n",
    "            loss = criterion(outputs, labels)\n",
    "            loss.backward()\n",
    "            optimizer.step()\n",
    "\n",
    "            total_loss += loss.item()\n",
    "            loop.set_postfix(loss=loss.item())\n",
    "\n",
    "        train_loss = total_loss / len(train_loader)\n",
    "        train_losses.append(train_loss)\n",
    "\n",
    "        # Validation\n",
    "        model.eval()\n",
    "        val_loss = 0\n",
    "        all_preds = []\n",
    "        all_labels = []\n",
    "\n",
    "        with torch.no_grad():\n",
    "            for inputs, labels in val_loader:\n",
    "                inputs, labels = inputs.to(device), labels.to(device)\n",
    "                outputs = model(inputs)\n",
    "                loss = criterion(outputs, labels)\n",
    "                val_loss += loss.item()\n",
    "\n",
    "                preds = (outputs > 0.5).float()  # Binary thresholding\n",
    "                all_preds.extend(preds.cpu().numpy())\n",
    "                all_labels.extend(labels.cpu().numpy())\n",
    "\n",
    "        val_loss /= len(val_loader)\n",
    "        acc = accuracy_score(all_labels, all_preds)\n",
    "\n",
    "        val_losses.append(val_loss)\n",
    "        val_accuracies.append(acc)\n",
    "\n",
    "        # Print loss and accuracy after each epoch\n",
    "        print(f\"Epoch {epoch+1}: Train Loss={train_loss:.4f}, Val Loss={val_loss:.4f}, Val Acc={acc:.4f}\")\n",
    "\n",
    "        # Early stopping check\n",
    "        if early_stopping(val_loss, model):\n",
    "            print(f\"Early stopping triggered after {epoch+1} epochs\")\n",
    "            break  # Stop training early\n",
    "\n",
    "    # Restore the model with the best weights\n",
    "    # early_stopping.restore_best_weights(model)\n",
    "    print(f\"Finish training model: {type(model).__name__}\")\n",
    "    return model, train_losses, val_losses, val_accuracies\n"
   ]
  },
  {
   "cell_type": "code",
   "execution_count": 11,
   "id": "165c428f-8919-4a0a-8f50-5b6abaa0a9ff",
   "metadata": {
    "ExecuteTime": {
     "end_time": "2025-05-02T01:15:36.579154Z",
     "start_time": "2025-05-02T01:15:36.434616Z"
    }
   },
   "outputs": [
    {
     "name": "stdout",
     "output_type": "stream",
     "text": [
      "Successfully clear the cache\n"
     ]
    }
   ],
   "source": [
    "# Note: I run this on my local machine with RTX3060 so I have to clear cache each time\n",
    "\n",
    "import gc\n",
    "gc.collect()\n",
    "torch.cuda.empty_cache()\n",
    "\n",
    "print(\"Successfully clear the cache\")"
   ]
  },
  {
   "cell_type": "code",
   "execution_count": 14,
   "id": "b98705ab-dddc-4bad-844e-bd85c016fba9",
   "metadata": {
    "ExecuteTime": {
     "end_time": "2025-05-02T01:21:18.291901Z",
     "start_time": "2025-05-02T01:16:41.522021Z"
    },
    "scrolled": true
   },
   "outputs": [
    {
     "name": "stdout",
     "output_type": "stream",
     "text": [
      "Using device: cuda\n",
      "Start training model: NN_Model\n"
     ]
    },
    {
     "name": "stderr",
     "output_type": "stream",
     "text": [
      "Epoch [1/20]: 100%|██████████| 3845/3845 [00:13<00:00, 295.54it/s, loss=0.072] \n"
     ]
    },
    {
     "name": "stdout",
     "output_type": "stream",
     "text": [
      "Epoch 1: Train Loss=0.3622, Val Loss=0.3240, Val Acc=0.8610\n"
     ]
    },
    {
     "name": "stderr",
     "output_type": "stream",
     "text": [
      "Epoch [2/20]: 100%|██████████| 3845/3845 [00:12<00:00, 316.19it/s, loss=0.531] \n"
     ]
    },
    {
     "name": "stdout",
     "output_type": "stream",
     "text": [
      "Epoch 2: Train Loss=0.2899, Val Loss=0.2635, Val Acc=0.8875\n"
     ]
    },
    {
     "name": "stderr",
     "output_type": "stream",
     "text": [
      "Epoch [3/20]: 100%|██████████| 3845/3845 [00:12<00:00, 318.07it/s, loss=0.249] \n"
     ]
    },
    {
     "name": "stdout",
     "output_type": "stream",
     "text": [
      "Epoch 3: Train Loss=0.2560, Val Loss=0.2305, Val Acc=0.9023\n"
     ]
    },
    {
     "name": "stderr",
     "output_type": "stream",
     "text": [
      "Epoch [4/20]: 100%|██████████| 3845/3845 [00:11<00:00, 347.73it/s, loss=0.0588]\n"
     ]
    },
    {
     "name": "stdout",
     "output_type": "stream",
     "text": [
      "Epoch 4: Train Loss=0.2304, Val Loss=0.2202, Val Acc=0.9073\n"
     ]
    },
    {
     "name": "stderr",
     "output_type": "stream",
     "text": [
      "Epoch [5/20]: 100%|██████████| 3845/3845 [00:11<00:00, 341.22it/s, loss=0.0905]\n"
     ]
    },
    {
     "name": "stdout",
     "output_type": "stream",
     "text": [
      "Epoch 5: Train Loss=0.2118, Val Loss=0.2028, Val Acc=0.9161\n"
     ]
    },
    {
     "name": "stderr",
     "output_type": "stream",
     "text": [
      "Epoch [6/20]: 100%|██████████| 3845/3845 [00:11<00:00, 322.69it/s, loss=0.149] \n"
     ]
    },
    {
     "name": "stdout",
     "output_type": "stream",
     "text": [
      "Epoch 6: Train Loss=0.1969, Val Loss=0.1845, Val Acc=0.9255\n"
     ]
    },
    {
     "name": "stderr",
     "output_type": "stream",
     "text": [
      "Epoch [7/20]: 100%|██████████| 3845/3845 [00:11<00:00, 322.05it/s, loss=0.357] \n"
     ]
    },
    {
     "name": "stdout",
     "output_type": "stream",
     "text": [
      "Epoch 7: Train Loss=0.1865, Val Loss=0.1798, Val Acc=0.9311\n"
     ]
    },
    {
     "name": "stderr",
     "output_type": "stream",
     "text": [
      "Epoch [8/20]: 100%|██████████| 3845/3845 [00:12<00:00, 309.74it/s, loss=0.0899]\n"
     ]
    },
    {
     "name": "stdout",
     "output_type": "stream",
     "text": [
      "Epoch 8: Train Loss=0.1748, Val Loss=0.1746, Val Acc=0.9305\n"
     ]
    },
    {
     "name": "stderr",
     "output_type": "stream",
     "text": [
      "Epoch [9/20]: 100%|██████████| 3845/3845 [00:19<00:00, 199.49it/s, loss=0.0327]\n"
     ]
    },
    {
     "name": "stdout",
     "output_type": "stream",
     "text": [
      "Epoch 9: Train Loss=0.1666, Val Loss=0.1592, Val Acc=0.9370\n"
     ]
    },
    {
     "name": "stderr",
     "output_type": "stream",
     "text": [
      "Epoch [10/20]: 100%|██████████| 3845/3845 [00:17<00:00, 220.23it/s, loss=0.275] \n"
     ]
    },
    {
     "name": "stdout",
     "output_type": "stream",
     "text": [
      "Epoch 10: Train Loss=0.1610, Val Loss=0.1676, Val Acc=0.9347\n"
     ]
    },
    {
     "name": "stderr",
     "output_type": "stream",
     "text": [
      "Epoch [11/20]: 100%|██████████| 3845/3845 [00:13<00:00, 276.10it/s, loss=0.0352]\n"
     ]
    },
    {
     "name": "stdout",
     "output_type": "stream",
     "text": [
      "Epoch 11: Train Loss=0.1534, Val Loss=0.1604, Val Acc=0.9367\n"
     ]
    },
    {
     "name": "stderr",
     "output_type": "stream",
     "text": [
      "Epoch [12/20]: 100%|██████████| 3845/3845 [00:11<00:00, 321.45it/s, loss=0.262]  \n"
     ]
    },
    {
     "name": "stdout",
     "output_type": "stream",
     "text": [
      "Epoch 12: Train Loss=0.1435, Val Loss=0.1444, Val Acc=0.9425\n"
     ]
    },
    {
     "name": "stderr",
     "output_type": "stream",
     "text": [
      "Epoch [13/20]: 100%|██████████| 3845/3845 [00:12<00:00, 303.20it/s, loss=0.0275] \n"
     ]
    },
    {
     "name": "stdout",
     "output_type": "stream",
     "text": [
      "Epoch 13: Train Loss=0.1344, Val Loss=0.1218, Val Acc=0.9560\n"
     ]
    },
    {
     "name": "stderr",
     "output_type": "stream",
     "text": [
      "Epoch [14/20]: 100%|██████████| 3845/3845 [00:12<00:00, 310.98it/s, loss=0.00685]\n"
     ]
    },
    {
     "name": "stdout",
     "output_type": "stream",
     "text": [
      "Epoch 14: Train Loss=0.1265, Val Loss=0.1267, Val Acc=0.9503\n"
     ]
    },
    {
     "name": "stderr",
     "output_type": "stream",
     "text": [
      "Epoch [15/20]: 100%|██████████| 3845/3845 [00:12<00:00, 307.50it/s, loss=0.0484] \n"
     ]
    },
    {
     "name": "stdout",
     "output_type": "stream",
     "text": [
      "Epoch 15: Train Loss=0.1189, Val Loss=0.1244, Val Acc=0.9515\n"
     ]
    },
    {
     "name": "stderr",
     "output_type": "stream",
     "text": [
      "Epoch [16/20]: 100%|██████████| 3845/3845 [00:12<00:00, 311.94it/s, loss=0.585]  \n"
     ]
    },
    {
     "name": "stdout",
     "output_type": "stream",
     "text": [
      "Epoch 16: Train Loss=0.1126, Val Loss=0.1254, Val Acc=0.9543\n"
     ]
    },
    {
     "name": "stderr",
     "output_type": "stream",
     "text": [
      "Epoch [17/20]: 100%|██████████| 3845/3845 [00:12<00:00, 305.51it/s, loss=0.15]   \n"
     ]
    },
    {
     "name": "stdout",
     "output_type": "stream",
     "text": [
      "Epoch 17: Train Loss=0.1062, Val Loss=0.1316, Val Acc=0.9497\n"
     ]
    },
    {
     "name": "stderr",
     "output_type": "stream",
     "text": [
      "Epoch [18/20]: 100%|██████████| 3845/3845 [00:13<00:00, 277.80it/s, loss=0.0449] \n"
     ]
    },
    {
     "name": "stdout",
     "output_type": "stream",
     "text": [
      "Epoch 18: Train Loss=0.1009, Val Loss=0.1053, Val Acc=0.9625\n"
     ]
    },
    {
     "name": "stderr",
     "output_type": "stream",
     "text": [
      "Epoch [19/20]: 100%|██████████| 3845/3845 [00:14<00:00, 273.20it/s, loss=0.328]  \n"
     ]
    },
    {
     "name": "stdout",
     "output_type": "stream",
     "text": [
      "Epoch 19: Train Loss=0.0959, Val Loss=0.0981, Val Acc=0.9653\n"
     ]
    },
    {
     "name": "stderr",
     "output_type": "stream",
     "text": [
      "Epoch [20/20]: 100%|██████████| 3845/3845 [00:13<00:00, 289.65it/s, loss=0.0463] \n"
     ]
    },
    {
     "name": "stdout",
     "output_type": "stream",
     "text": [
      "Epoch 20: Train Loss=0.0915, Val Loss=0.0948, Val Acc=0.9681\n",
      "Finish training model: NN_Model\n"
     ]
    }
   ],
   "source": [
    "import torch.nn as nn\n",
    "import torch.optim as optim\n",
    "from utils import scheduler\n",
    "\n",
    "nn_model = NN_Model()\n",
    "\n",
    "# Set up the loss function and optimizer\n",
    "cnn_criterion = nn.BCELoss()  # Binary Cross-Entropy Loss for binary classification\n",
    "cnn_optimizer = optim.Adam(nn_model.parameters(), lr=0.001)\n",
    "\n",
    "cnn_epochs = 20  # Set number of epochs\n",
    "\n",
    "nn_model, cnn_train_losses, cnn_val_losses, cnn_val_accuracies = train_model(\n",
    "        nn_model,\n",
    "        criterion=cnn_criterion, \n",
    "        optimizer=cnn_optimizer, \n",
    "        epochs=cnn_epochs, \n",
    "        train_loader=train_loader, \n",
    "        val_loader=val_loader, \n",
    "        scheduler=scheduler,\n",
    "        patience=5)\n"
   ]
  },
  {
   "cell_type": "code",
   "execution_count": 15,
   "id": "4128e8be-63b2-4a5c-8749-d5509c55f447",
   "metadata": {
    "ExecuteTime": {
     "end_time": "2025-05-02T01:21:22.856729Z",
     "start_time": "2025-05-02T01:21:22.516505Z"
    }
   },
   "outputs": [
    {
     "data": {
      "image/png": "[encoded data removed]",
      "text/plain": [
       "<Figure size 1200x400 with 3 Axes>"
      ]
     },
     "metadata": {},
     "output_type": "display_data"
    }
   ],
   "source": [
    "# Example usage:\n",
    "from utils import plot_training_results\n",
    "plot_training_results(cnn_train_losses, cnn_val_losses, cnn_val_accuracies)"
   ]
  },
  {
   "cell_type": "code",
   "execution_count": 21,
   "id": "19d5bee2aca94b0b",
   "metadata": {
    "ExecuteTime": {
     "end_time": "2025-05-02T00:37:40.204040Z",
     "start_time": "2025-05-02T00:37:40.188116Z"
    }
   },
   "outputs": [],
   "source": [
    "torch.save(nn_model.state_dict(), \"./model/nn_model.pth\")"
   ]
  },
  {
   "cell_type": "code",
   "execution_count": 10,
   "id": "db2817a0-2f95-4917-8277-6b249a4fea36",
   "metadata": {
    "ExecuteTime": {
     "end_time": "2025-05-07T08:33:29.701954Z",
     "start_time": "2025-05-07T08:33:29.690150Z"
    }
   },
   "outputs": [],
   "source": [
    "def perform_model_on_test_dataset(model, test_loader, device):\n",
    "    model.eval()  # Set the model to evaluation mode\n",
    "    all_preds = []\n",
    "    all_labels = []\n",
    "    \n",
    "    with torch.no_grad():  # Disable gradient calculation for testing\n",
    "        for inputs, labels in test_loader:\n",
    "            inputs, labels = inputs.to(device), labels.to(device)\n",
    "            outputs = model(inputs)\n",
    "            preds = (outputs > 0.5).float()  # Assuming sigmoid output, convert to 0 or 1\n",
    "            \n",
    "            all_preds.extend(preds.cpu().numpy())\n",
    "            all_labels.extend(labels.cpu().numpy())\n",
    "    \n",
    "    # Calculate accuracy\n",
    "    accuracy = accuracy_score(all_labels, all_preds)\n",
    "    print(f'Model Test Accuracy: {accuracy * 100:.2f}%')"
   ]
  },
  {
   "cell_type": "code",
   "execution_count": 36,
   "id": "3f2188bd-6910-4da5-903a-522039bcb052",
   "metadata": {
    "ExecuteTime": {
     "end_time": "2025-04-23T08:45:30.894248Z",
     "start_time": "2025-04-23T08:45:30.701270Z"
    }
   },
   "outputs": [
    {
     "name": "stdout",
     "output_type": "stream",
     "text": [
      "Model Test Accuracy: 97.98%\n"
     ]
    }
   ],
   "source": [
    "device = torch.device('cuda' if torch.cuda.is_available() else 'cpu')\n",
    "\n",
    "load_nn_model = NN_Model()\n",
    "load_nn_model.load_state_dict(torch.load('./model/nn_model.pth'))\n",
    "\n",
    "# Set the model to evaluation mode (important for inference)\n",
    "load_nn_model.eval()\n",
    "load_nn_model.to(device)\n",
    "\n",
    "# Example usage:\n",
    "perform_model_on_test_dataset(load_nn_model, test_loader, device)"
   ]
  },
  {
   "cell_type": "code",
   "execution_count": 12,
   "id": "8a63906f8796338c",
   "metadata": {
    "ExecuteTime": {
     "end_time": "2025-05-07T08:49:11.367894Z",
     "start_time": "2025-05-07T08:49:04.221285Z"
    }
   },
   "outputs": [
    {
     "name": "stdout",
     "output_type": "stream",
     "text": [
      "34\n",
      "tensor([0.0000, 0.0000, 0.0000, 0.0000, 0.0000, 0.0000, 0.0311, 0.3848, 0.0000,\n",
      "        0.0000, 0.0824, 0.4882, 0.0898, 0.4932, 0.1658, 0.5565, 0.0000, 0.0000,\n",
      "        0.0000, 0.0000, 0.0000, 0.0000, 0.1508, 0.6052, 0.1543, 0.6112, 0.0000,\n",
      "        0.0000, 0.0000, 0.0000, 0.0000, 0.0000, 0.0000, 0.0000])\n"
     ]
    }
   ],
   "source": [
    "import torch\n",
    "import numpy as np\n",
    "from torch.utils.data import DataLoader, TensorDataset\n",
    "\n",
    "# Prepare training data\n",
    "def prepare_data_no_confidence(data):\n",
    "    x = []\n",
    "    y = []\n",
    "    for record in data:\n",
    "        # slide to take 51 keypoint features, for NN model we need to exclude name at the end\n",
    "        flat = record[5:-1]\n",
    "        xy_only = [flat[i] for i in range(len(flat)) if i % 3 != 2]\n",
    "        x.append(xy_only)\n",
    "        y.append(int(record[0]))\n",
    "\n",
    "    x = np.array(x, dtype=np.float32)\n",
    "    y = np.array(y, dtype=np.float32)\n",
    "\n",
    "    # Reshape x to (batch, time_steps, features)\n",
    "    #x = x.reshape((len(x), 1, x.shape[1]))  # (batch, 1, features)\n",
    "\n",
    "    # Convert to tensors\n",
    "    x_tensor = torch.tensor(x)\n",
    "    y_tensor = torch.tensor(y).unsqueeze(1)  # Shape (batch, 1)\n",
    "\n",
    "    return x_tensor, y_tensor\n",
    "\n",
    "# Convert train, val, test data into tensors\n",
    "x_train_no_conf, y_train_no_conf = prepare_data_no_confidence(train_data)\n",
    "x_val_no_conf, y_val_no_conf = prepare_data_no_confidence(val_data)\n",
    "x_test_no_conf, y_test_no_conf = prepare_data_no_confidence(test_data)\n",
    "\n",
    "print(len(x_train_no_conf[0]))\n",
    "print(x_train_no_conf[0])\n",
    "# Create dataset for train, val, and test\n",
    "train_dataset_no_conf = TensorDataset(x_train_no_conf, y_train_no_conf)\n",
    "val_dataset_no_conf = TensorDataset(x_val_no_conf, y_val_no_conf)\n",
    "test_dataset_no_conf = TensorDataset(x_test_no_conf, y_test_no_conf)\n",
    "\n",
    "batch_size = 128\n",
    "\n",
    "# Create DataLoader for training, validation, and testing\n",
    "train_loader_no_conf = DataLoader(train_dataset_no_conf, batch_size, shuffle=True)\n",
    "val_loader_no_conf = DataLoader(val_dataset_no_conf, batch_size)\n",
    "test_loader_no_conf = DataLoader(test_dataset_no_conf, batch_size)"
   ]
  },
  {
   "cell_type": "code",
   "execution_count": 13,
   "id": "c2090f7d1a13ec7c",
   "metadata": {
    "ExecuteTime": {
     "end_time": "2025-05-07T08:49:35.356960Z",
     "start_time": "2025-05-07T08:49:35.346235Z"
    }
   },
   "outputs": [
    {
     "name": "stdout",
     "output_type": "stream",
     "text": [
      "328336\n"
     ]
    }
   ],
   "source": [
    "print(len(train_dataset_no_conf))"
   ]
  },
  {
   "cell_type": "code",
   "execution_count": 14,
   "id": "e6b70fa4478371c9",
   "metadata": {
    "ExecuteTime": {
     "start_time": "2025-05-07T08:49:52.833320Z"
    },
    "jupyter": {
     "is_executing": true
    },
    "scrolled": true
   },
   "outputs": [
    {
     "name": "stdout",
     "output_type": "stream",
     "text": [
      "Using device: cuda\n",
      "Start training model: NN_Model_NO_CONF\n"
     ]
    },
    {
     "name": "stderr",
     "output_type": "stream",
     "text": [
      "Epoch [1/200]: 100%|██████████| 2566/2566 [00:28<00:00, 89.16it/s, loss=0.563] \n"
     ]
    },
    {
     "name": "stdout",
     "output_type": "stream",
     "text": [
      "Epoch 1: Train Loss=0.5598, Val Loss=0.5268, Val Acc=0.7252\n"
     ]
    },
    {
     "name": "stderr",
     "output_type": "stream",
     "text": [
      "Epoch [2/200]: 100%|██████████| 2566/2566 [00:30<00:00, 82.93it/s, loss=0.591] \n"
     ]
    },
    {
     "name": "stdout",
     "output_type": "stream",
     "text": [
      "Epoch 2: Train Loss=0.4970, Val Loss=0.4756, Val Acc=0.7654\n"
     ]
    },
    {
     "name": "stderr",
     "output_type": "stream",
     "text": [
      "Epoch [3/200]: 100%|██████████| 2566/2566 [00:27<00:00, 93.81it/s, loss=0.287] \n"
     ]
    },
    {
     "name": "stdout",
     "output_type": "stream",
     "text": [
      "Epoch 3: Train Loss=0.4711, Val Loss=0.4572, Val Acc=0.7775\n"
     ]
    },
    {
     "name": "stderr",
     "output_type": "stream",
     "text": [
      "Epoch [4/200]: 100%|██████████| 2566/2566 [00:28<00:00, 91.22it/s, loss=0.459] \n"
     ]
    },
    {
     "name": "stdout",
     "output_type": "stream",
     "text": [
      "Epoch 4: Train Loss=0.4531, Val Loss=0.4422, Val Acc=0.7851\n"
     ]
    },
    {
     "name": "stderr",
     "output_type": "stream",
     "text": [
      "Epoch [5/200]: 100%|██████████| 2566/2566 [00:28<00:00, 88.88it/s, loss=0.477] \n"
     ]
    },
    {
     "name": "stdout",
     "output_type": "stream",
     "text": [
      "Epoch 5: Train Loss=0.4390, Val Loss=0.4263, Val Acc=0.7955\n"
     ]
    },
    {
     "name": "stderr",
     "output_type": "stream",
     "text": [
      "Epoch [6/200]: 100%|██████████| 2566/2566 [00:29<00:00, 86.98it/s, loss=0.525] \n"
     ]
    },
    {
     "name": "stdout",
     "output_type": "stream",
     "text": [
      "Epoch 6: Train Loss=0.4284, Val Loss=0.4188, Val Acc=0.8005\n"
     ]
    },
    {
     "name": "stderr",
     "output_type": "stream",
     "text": [
      "Epoch [7/200]: 100%|██████████| 2566/2566 [00:28<00:00, 91.24it/s, loss=0.282] \n"
     ]
    },
    {
     "name": "stdout",
     "output_type": "stream",
     "text": [
      "Epoch 7: Train Loss=0.4192, Val Loss=0.4100, Val Acc=0.8066\n"
     ]
    },
    {
     "name": "stderr",
     "output_type": "stream",
     "text": [
      "Epoch [8/200]: 100%|██████████| 2566/2566 [00:28<00:00, 91.20it/s, loss=0.469] \n"
     ]
    },
    {
     "name": "stdout",
     "output_type": "stream",
     "text": [
      "Epoch 8: Train Loss=0.4116, Val Loss=0.4080, Val Acc=0.8031\n"
     ]
    },
    {
     "name": "stderr",
     "output_type": "stream",
     "text": [
      "Epoch [9/200]: 100%|██████████| 2566/2566 [00:27<00:00, 91.83it/s, loss=0.619] \n"
     ]
    },
    {
     "name": "stdout",
     "output_type": "stream",
     "text": [
      "Epoch 9: Train Loss=0.4049, Val Loss=0.4004, Val Acc=0.8084\n"
     ]
    },
    {
     "name": "stderr",
     "output_type": "stream",
     "text": [
      "Epoch [10/200]: 100%|██████████| 2566/2566 [00:27<00:00, 93.90it/s, loss=0.376] \n"
     ]
    },
    {
     "name": "stdout",
     "output_type": "stream",
     "text": [
      "Epoch 10: Train Loss=0.3993, Val Loss=0.3949, Val Acc=0.8131\n"
     ]
    },
    {
     "name": "stderr",
     "output_type": "stream",
     "text": [
      "Epoch [11/200]: 100%|██████████| 2566/2566 [00:29<00:00, 85.96it/s, loss=0.325] \n"
     ]
    },
    {
     "name": "stdout",
     "output_type": "stream",
     "text": [
      "Epoch 11: Train Loss=0.3941, Val Loss=0.3886, Val Acc=0.8184\n"
     ]
    },
    {
     "name": "stderr",
     "output_type": "stream",
     "text": [
      "Epoch [12/200]: 100%|██████████| 2566/2566 [00:27<00:00, 94.19it/s, loss=0.311] \n"
     ]
    },
    {
     "name": "stdout",
     "output_type": "stream",
     "text": [
      "Epoch 12: Train Loss=0.3869, Val Loss=0.3913, Val Acc=0.8105\n"
     ]
    },
    {
     "name": "stderr",
     "output_type": "stream",
     "text": [
      "Epoch [13/200]: 100%|██████████| 2566/2566 [00:25<00:00, 101.02it/s, loss=0.366]\n"
     ]
    },
    {
     "name": "stdout",
     "output_type": "stream",
     "text": [
      "Epoch 13: Train Loss=0.3806, Val Loss=0.3885, Val Acc=0.8137\n"
     ]
    },
    {
     "name": "stderr",
     "output_type": "stream",
     "text": [
      "Epoch [14/200]: 100%|██████████| 2566/2566 [00:29<00:00, 87.04it/s, loss=0.628] \n"
     ]
    },
    {
     "name": "stdout",
     "output_type": "stream",
     "text": [
      "Epoch 14: Train Loss=0.3750, Val Loss=0.3737, Val Acc=0.8238\n"
     ]
    },
    {
     "name": "stderr",
     "output_type": "stream",
     "text": [
      "Epoch [15/200]: 100%|██████████| 2566/2566 [00:29<00:00, 87.50it/s, loss=0.327] \n"
     ]
    },
    {
     "name": "stdout",
     "output_type": "stream",
     "text": [
      "Epoch 15: Train Loss=0.3691, Val Loss=0.3692, Val Acc=0.8273\n"
     ]
    },
    {
     "name": "stderr",
     "output_type": "stream",
     "text": [
      "Epoch [16/200]: 100%|██████████| 2566/2566 [00:28<00:00, 91.38it/s, loss=0.15]  \n"
     ]
    },
    {
     "name": "stdout",
     "output_type": "stream",
     "text": [
      "Epoch 16: Train Loss=0.3651, Val Loss=0.3749, Val Acc=0.8202\n"
     ]
    },
    {
     "name": "stderr",
     "output_type": "stream",
     "text": [
      "Epoch [17/200]: 100%|██████████| 2566/2566 [00:29<00:00, 86.51it/s, loss=0.254] \n"
     ]
    },
    {
     "name": "stdout",
     "output_type": "stream",
     "text": [
      "Epoch 17: Train Loss=0.3600, Val Loss=0.3607, Val Acc=0.8327\n"
     ]
    },
    {
     "name": "stderr",
     "output_type": "stream",
     "text": [
      "Epoch [18/200]: 100%|██████████| 2566/2566 [00:29<00:00, 88.30it/s, loss=0.419] \n"
     ]
    },
    {
     "name": "stdout",
     "output_type": "stream",
     "text": [
      "Epoch 18: Train Loss=0.3566, Val Loss=0.3588, Val Acc=0.8353\n"
     ]
    },
    {
     "name": "stderr",
     "output_type": "stream",
     "text": [
      "Epoch [19/200]: 100%|██████████| 2566/2566 [00:27<00:00, 92.13it/s, loss=0.265] \n"
     ]
    },
    {
     "name": "stdout",
     "output_type": "stream",
     "text": [
      "Epoch 19: Train Loss=0.3530, Val Loss=0.3544, Val Acc=0.8401\n"
     ]
    },
    {
     "name": "stderr",
     "output_type": "stream",
     "text": [
      "Epoch [20/200]: 100%|██████████| 2566/2566 [00:28<00:00, 89.15it/s, loss=0.458] \n"
     ]
    },
    {
     "name": "stdout",
     "output_type": "stream",
     "text": [
      "Epoch 20: Train Loss=0.3495, Val Loss=0.3544, Val Acc=0.8382\n"
     ]
    },
    {
     "name": "stderr",
     "output_type": "stream",
     "text": [
      "Epoch [21/200]: 100%|██████████| 2566/2566 [00:29<00:00, 86.35it/s, loss=0.241] \n"
     ]
    },
    {
     "name": "stdout",
     "output_type": "stream",
     "text": [
      "Epoch 21: Train Loss=0.3461, Val Loss=0.3592, Val Acc=0.8292\n"
     ]
    },
    {
     "name": "stderr",
     "output_type": "stream",
     "text": [
      "Epoch [22/200]: 100%|██████████| 2566/2566 [00:28<00:00, 90.06it/s, loss=0.292] \n"
     ]
    },
    {
     "name": "stdout",
     "output_type": "stream",
     "text": [
      "Epoch 22: Train Loss=0.3432, Val Loss=0.3457, Val Acc=0.8387\n"
     ]
    },
    {
     "name": "stderr",
     "output_type": "stream",
     "text": [
      "Epoch [23/200]: 100%|██████████| 2566/2566 [00:26<00:00, 95.27it/s, loss=0.312] \n"
     ]
    },
    {
     "name": "stdout",
     "output_type": "stream",
     "text": [
      "Epoch 23: Train Loss=0.3412, Val Loss=0.3431, Val Acc=0.8461\n"
     ]
    },
    {
     "name": "stderr",
     "output_type": "stream",
     "text": [
      "Epoch [24/200]: 100%|██████████| 2566/2566 [00:28<00:00, 90.11it/s, loss=0.484] \n"
     ]
    },
    {
     "name": "stdout",
     "output_type": "stream",
     "text": [
      "Epoch 24: Train Loss=0.3386, Val Loss=0.3408, Val Acc=0.8465\n"
     ]
    },
    {
     "name": "stderr",
     "output_type": "stream",
     "text": [
      "Epoch [25/200]: 100%|██████████| 2566/2566 [00:30<00:00, 85.45it/s, loss=0.344] \n"
     ]
    },
    {
     "name": "stdout",
     "output_type": "stream",
     "text": [
      "Epoch 25: Train Loss=0.3370, Val Loss=0.3400, Val Acc=0.8476\n"
     ]
    },
    {
     "name": "stderr",
     "output_type": "stream",
     "text": [
      "Epoch [26/200]: 100%|██████████| 2566/2566 [00:24<00:00, 103.94it/s, loss=0.374]\n"
     ]
    },
    {
     "name": "stdout",
     "output_type": "stream",
     "text": [
      "Epoch 26: Train Loss=0.3349, Val Loss=0.3396, Val Acc=0.8471\n"
     ]
    },
    {
     "name": "stderr",
     "output_type": "stream",
     "text": [
      "Epoch [27/200]: 100%|██████████| 2566/2566 [00:09<00:00, 282.28it/s, loss=0.22] \n"
     ]
    },
    {
     "name": "stdout",
     "output_type": "stream",
     "text": [
      "Epoch 27: Train Loss=0.3329, Val Loss=0.3490, Val Acc=0.8404\n"
     ]
    },
    {
     "name": "stderr",
     "output_type": "stream",
     "text": [
      "Epoch [28/200]: 100%|██████████| 2566/2566 [00:09<00:00, 274.34it/s, loss=0.497]\n"
     ]
    },
    {
     "name": "stdout",
     "output_type": "stream",
     "text": [
      "Epoch 28: Train Loss=0.3317, Val Loss=0.3382, Val Acc=0.8456\n"
     ]
    },
    {
     "name": "stderr",
     "output_type": "stream",
     "text": [
      "Epoch [29/200]: 100%|██████████| 2566/2566 [00:09<00:00, 277.89it/s, loss=0.245]\n"
     ]
    },
    {
     "name": "stdout",
     "output_type": "stream",
     "text": [
      "Epoch 29: Train Loss=0.3300, Val Loss=0.3385, Val Acc=0.8417\n"
     ]
    },
    {
     "name": "stderr",
     "output_type": "stream",
     "text": [
      "Epoch [30/200]: 100%|██████████| 2566/2566 [00:10<00:00, 249.64it/s, loss=0.353]\n"
     ]
    },
    {
     "name": "stdout",
     "output_type": "stream",
     "text": [
      "Epoch 30: Train Loss=0.3289, Val Loss=0.3348, Val Acc=0.8483\n"
     ]
    },
    {
     "name": "stderr",
     "output_type": "stream",
     "text": [
      "Epoch [31/200]: 100%|██████████| 2566/2566 [00:10<00:00, 247.17it/s, loss=0.287]\n"
     ]
    },
    {
     "name": "stdout",
     "output_type": "stream",
     "text": [
      "Epoch 31: Train Loss=0.3276, Val Loss=0.3339, Val Acc=0.8479\n"
     ]
    },
    {
     "name": "stderr",
     "output_type": "stream",
     "text": [
      "Epoch [32/200]: 100%|██████████| 2566/2566 [00:10<00:00, 244.88it/s, loss=0.286]\n"
     ]
    },
    {
     "name": "stdout",
     "output_type": "stream",
     "text": [
      "Epoch 32: Train Loss=0.3263, Val Loss=0.3319, Val Acc=0.8516\n"
     ]
    },
    {
     "name": "stderr",
     "output_type": "stream",
     "text": [
      "Epoch [33/200]: 100%|██████████| 2566/2566 [00:09<00:00, 269.89it/s, loss=0.27] \n"
     ]
    },
    {
     "name": "stdout",
     "output_type": "stream",
     "text": [
      "Epoch 33: Train Loss=0.3255, Val Loss=0.3318, Val Acc=0.8509\n"
     ]
    },
    {
     "name": "stderr",
     "output_type": "stream",
     "text": [
      "Epoch [34/200]: 100%|██████████| 2566/2566 [00:09<00:00, 262.64it/s, loss=0.274]\n"
     ]
    },
    {
     "name": "stdout",
     "output_type": "stream",
     "text": [
      "Epoch 34: Train Loss=0.3247, Val Loss=0.3322, Val Acc=0.8446\n"
     ]
    },
    {
     "name": "stderr",
     "output_type": "stream",
     "text": [
      "Epoch [35/200]: 100%|██████████| 2566/2566 [00:09<00:00, 267.77it/s, loss=0.265]\n"
     ]
    },
    {
     "name": "stdout",
     "output_type": "stream",
     "text": [
      "Epoch 35: Train Loss=0.3238, Val Loss=0.3318, Val Acc=0.8499\n"
     ]
    },
    {
     "name": "stderr",
     "output_type": "stream",
     "text": [
      "Epoch [36/200]: 100%|██████████| 2566/2566 [00:09<00:00, 277.27it/s, loss=0.302]\n"
     ]
    },
    {
     "name": "stdout",
     "output_type": "stream",
     "text": [
      "Epoch 36: Train Loss=0.3231, Val Loss=0.3300, Val Acc=0.8516\n"
     ]
    },
    {
     "name": "stderr",
     "output_type": "stream",
     "text": [
      "Epoch [37/200]: 100%|██████████| 2566/2566 [00:09<00:00, 274.44it/s, loss=0.198]\n"
     ]
    },
    {
     "name": "stdout",
     "output_type": "stream",
     "text": [
      "Epoch 37: Train Loss=0.3226, Val Loss=0.3292, Val Acc=0.8510\n"
     ]
    },
    {
     "name": "stderr",
     "output_type": "stream",
     "text": [
      "Epoch [38/200]: 100%|██████████| 2566/2566 [00:08<00:00, 286.44it/s, loss=0.287]\n"
     ]
    },
    {
     "name": "stdout",
     "output_type": "stream",
     "text": [
      "Epoch 38: Train Loss=0.3218, Val Loss=0.3291, Val Acc=0.8519\n"
     ]
    },
    {
     "name": "stderr",
     "output_type": "stream",
     "text": [
      "Epoch [39/200]: 100%|██████████| 2566/2566 [00:16<00:00, 159.43it/s, loss=0.357]\n"
     ]
    },
    {
     "name": "stdout",
     "output_type": "stream",
     "text": [
      "Epoch 39: Train Loss=0.3214, Val Loss=0.3282, Val Acc=0.8519\n"
     ]
    },
    {
     "name": "stderr",
     "output_type": "stream",
     "text": [
      "Epoch [40/200]: 100%|██████████| 2566/2566 [00:27<00:00, 92.49it/s, loss=0.15]  \n"
     ]
    },
    {
     "name": "stdout",
     "output_type": "stream",
     "text": [
      "Epoch 40: Train Loss=0.3208, Val Loss=0.3279, Val Acc=0.8531\n"
     ]
    },
    {
     "name": "stderr",
     "output_type": "stream",
     "text": [
      "Epoch [41/200]: 100%|██████████| 2566/2566 [00:24<00:00, 103.03it/s, loss=0.212]\n"
     ]
    },
    {
     "name": "stdout",
     "output_type": "stream",
     "text": [
      "Epoch 41: Train Loss=0.3204, Val Loss=0.3278, Val Acc=0.8524\n"
     ]
    },
    {
     "name": "stderr",
     "output_type": "stream",
     "text": [
      "Epoch [42/200]: 100%|██████████| 2566/2566 [00:24<00:00, 104.07it/s, loss=0.268]\n"
     ]
    },
    {
     "name": "stdout",
     "output_type": "stream",
     "text": [
      "Epoch 42: Train Loss=0.3200, Val Loss=0.3269, Val Acc=0.8539\n"
     ]
    },
    {
     "name": "stderr",
     "output_type": "stream",
     "text": [
      "Epoch [43/200]: 100%|██████████| 2566/2566 [00:24<00:00, 104.20it/s, loss=0.175]\n"
     ]
    },
    {
     "name": "stdout",
     "output_type": "stream",
     "text": [
      "Epoch 43: Train Loss=0.3196, Val Loss=0.3269, Val Acc=0.8528\n"
     ]
    },
    {
     "name": "stderr",
     "output_type": "stream",
     "text": [
      "Epoch [44/200]: 100%|██████████| 2566/2566 [00:24<00:00, 104.08it/s, loss=0.293]\n"
     ]
    },
    {
     "name": "stdout",
     "output_type": "stream",
     "text": [
      "Epoch 44: Train Loss=0.3193, Val Loss=0.3267, Val Acc=0.8531\n"
     ]
    },
    {
     "name": "stderr",
     "output_type": "stream",
     "text": [
      "Epoch [45/200]: 100%|██████████| 2566/2566 [00:24<00:00, 105.67it/s, loss=0.15] \n"
     ]
    },
    {
     "name": "stdout",
     "output_type": "stream",
     "text": [
      "Epoch 45: Train Loss=0.3190, Val Loss=0.3262, Val Acc=0.8530\n"
     ]
    },
    {
     "name": "stderr",
     "output_type": "stream",
     "text": [
      "Epoch [46/200]: 100%|██████████| 2566/2566 [00:24<00:00, 104.19it/s, loss=0.781]\n"
     ]
    },
    {
     "name": "stdout",
     "output_type": "stream",
     "text": [
      "Epoch 46: Train Loss=0.3188, Val Loss=0.3259, Val Acc=0.8540\n"
     ]
    },
    {
     "name": "stderr",
     "output_type": "stream",
     "text": [
      "Epoch [47/200]: 100%|██████████| 2566/2566 [00:24<00:00, 102.76it/s, loss=0.436]\n"
     ]
    },
    {
     "name": "stdout",
     "output_type": "stream",
     "text": [
      "Epoch 47: Train Loss=0.3185, Val Loss=0.3262, Val Acc=0.8538\n"
     ]
    },
    {
     "name": "stderr",
     "output_type": "stream",
     "text": [
      "Epoch [48/200]: 100%|██████████| 2566/2566 [00:24<00:00, 103.62it/s, loss=0.242]\n"
     ]
    },
    {
     "name": "stdout",
     "output_type": "stream",
     "text": [
      "Epoch 48: Train Loss=0.3182, Val Loss=0.3256, Val Acc=0.8537\n"
     ]
    },
    {
     "name": "stderr",
     "output_type": "stream",
     "text": [
      "Epoch [49/200]: 100%|██████████| 2566/2566 [00:26<00:00, 96.07it/s, loss=0.193] \n"
     ]
    },
    {
     "name": "stdout",
     "output_type": "stream",
     "text": [
      "Epoch 49: Train Loss=0.3179, Val Loss=0.3259, Val Acc=0.8530\n"
     ]
    },
    {
     "name": "stderr",
     "output_type": "stream",
     "text": [
      "Epoch [50/200]: 100%|██████████| 2566/2566 [00:28<00:00, 90.58it/s, loss=0.257] \n"
     ]
    },
    {
     "name": "stdout",
     "output_type": "stream",
     "text": [
      "Epoch 50: Train Loss=0.3178, Val Loss=0.3255, Val Acc=0.8537\n"
     ]
    },
    {
     "name": "stderr",
     "output_type": "stream",
     "text": [
      "Epoch [51/200]: 100%|██████████| 2566/2566 [00:28<00:00, 89.62it/s, loss=0.373] \n"
     ]
    },
    {
     "name": "stdout",
     "output_type": "stream",
     "text": [
      "Epoch 51: Train Loss=0.3177, Val Loss=0.3254, Val Acc=0.8541\n"
     ]
    },
    {
     "name": "stderr",
     "output_type": "stream",
     "text": [
      "Epoch [52/200]: 100%|██████████| 2566/2566 [00:28<00:00, 88.75it/s, loss=0.304] \n"
     ]
    },
    {
     "name": "stdout",
     "output_type": "stream",
     "text": [
      "Epoch 52: Train Loss=0.3175, Val Loss=0.3249, Val Acc=0.8548\n"
     ]
    },
    {
     "name": "stderr",
     "output_type": "stream",
     "text": [
      "Epoch [53/200]: 100%|██████████| 2566/2566 [00:28<00:00, 90.02it/s, loss=0.35]  \n"
     ]
    },
    {
     "name": "stdout",
     "output_type": "stream",
     "text": [
      "Epoch 53: Train Loss=0.3174, Val Loss=0.3253, Val Acc=0.8546\n"
     ]
    },
    {
     "name": "stderr",
     "output_type": "stream",
     "text": [
      "Epoch [54/200]: 100%|██████████| 2566/2566 [00:29<00:00, 86.86it/s, loss=0.25]  \n"
     ]
    },
    {
     "name": "stdout",
     "output_type": "stream",
     "text": [
      "Epoch 54: Train Loss=0.3172, Val Loss=0.3253, Val Acc=0.8544\n"
     ]
    },
    {
     "name": "stderr",
     "output_type": "stream",
     "text": [
      "Epoch [55/200]: 100%|██████████| 2566/2566 [00:29<00:00, 87.15it/s, loss=0.263] \n"
     ]
    },
    {
     "name": "stdout",
     "output_type": "stream",
     "text": [
      "Epoch 55: Train Loss=0.3171, Val Loss=0.3262, Val Acc=0.8538\n"
     ]
    },
    {
     "name": "stderr",
     "output_type": "stream",
     "text": [
      "Epoch [56/200]: 100%|██████████| 2566/2566 [00:29<00:00, 85.67it/s, loss=0.426] \n"
     ]
    },
    {
     "name": "stdout",
     "output_type": "stream",
     "text": [
      "Epoch 56: Train Loss=0.3171, Val Loss=0.3249, Val Acc=0.8544\n"
     ]
    },
    {
     "name": "stderr",
     "output_type": "stream",
     "text": [
      "Epoch [57/200]: 100%|██████████| 2566/2566 [00:28<00:00, 91.03it/s, loss=0.33]  \n"
     ]
    },
    {
     "name": "stdout",
     "output_type": "stream",
     "text": [
      "Epoch 57: Train Loss=0.3169, Val Loss=0.3248, Val Acc=0.8543\n"
     ]
    },
    {
     "name": "stderr",
     "output_type": "stream",
     "text": [
      "Epoch [58/200]: 100%|██████████| 2566/2566 [00:27<00:00, 92.16it/s, loss=0.289] \n"
     ]
    },
    {
     "name": "stdout",
     "output_type": "stream",
     "text": [
      "Epoch 58: Train Loss=0.3168, Val Loss=0.3247, Val Acc=0.8547\n"
     ]
    },
    {
     "name": "stderr",
     "output_type": "stream",
     "text": [
      "Epoch [59/200]: 100%|██████████| 2566/2566 [00:28<00:00, 90.06it/s, loss=0.32]  \n"
     ]
    },
    {
     "name": "stdout",
     "output_type": "stream",
     "text": [
      "Epoch 59: Train Loss=0.3167, Val Loss=0.3246, Val Acc=0.8549\n"
     ]
    },
    {
     "name": "stderr",
     "output_type": "stream",
     "text": [
      "Epoch [60/200]: 100%|██████████| 2566/2566 [00:28<00:00, 88.82it/s, loss=0.351] \n"
     ]
    },
    {
     "name": "stdout",
     "output_type": "stream",
     "text": [
      "Epoch 60: Train Loss=0.3167, Val Loss=0.3246, Val Acc=0.8548\n"
     ]
    },
    {
     "name": "stderr",
     "output_type": "stream",
     "text": [
      "Epoch [61/200]: 100%|██████████| 2566/2566 [00:29<00:00, 88.10it/s, loss=0.454] \n"
     ]
    },
    {
     "name": "stdout",
     "output_type": "stream",
     "text": [
      "Epoch 61: Train Loss=0.3167, Val Loss=0.3245, Val Acc=0.8547\n"
     ]
    },
    {
     "name": "stderr",
     "output_type": "stream",
     "text": [
      "Epoch [62/200]: 100%|██████████| 2566/2566 [00:30<00:00, 85.31it/s, loss=0.414] \n"
     ]
    },
    {
     "name": "stdout",
     "output_type": "stream",
     "text": [
      "Epoch 62: Train Loss=0.3166, Val Loss=0.3245, Val Acc=0.8547\n"
     ]
    },
    {
     "name": "stderr",
     "output_type": "stream",
     "text": [
      "Epoch [63/200]: 100%|██████████| 2566/2566 [00:29<00:00, 86.32it/s, loss=0.321] \n"
     ]
    },
    {
     "name": "stdout",
     "output_type": "stream",
     "text": [
      "Epoch 63: Train Loss=0.3165, Val Loss=0.3245, Val Acc=0.8545\n"
     ]
    },
    {
     "name": "stderr",
     "output_type": "stream",
     "text": [
      "Epoch [64/200]: 100%|██████████| 2566/2566 [00:29<00:00, 87.21it/s, loss=0.207] \n"
     ]
    },
    {
     "name": "stdout",
     "output_type": "stream",
     "text": [
      "Epoch 64: Train Loss=0.3164, Val Loss=0.3244, Val Acc=0.8547\n"
     ]
    },
    {
     "name": "stderr",
     "output_type": "stream",
     "text": [
      "Epoch [65/200]: 100%|██████████| 2566/2566 [00:28<00:00, 90.41it/s, loss=0.236] \n"
     ]
    },
    {
     "name": "stdout",
     "output_type": "stream",
     "text": [
      "Epoch 65: Train Loss=0.3164, Val Loss=0.3245, Val Acc=0.8546\n"
     ]
    },
    {
     "name": "stderr",
     "output_type": "stream",
     "text": [
      "Epoch [66/200]: 100%|██████████| 2566/2566 [00:29<00:00, 87.67it/s, loss=0.198] \n"
     ]
    },
    {
     "name": "stdout",
     "output_type": "stream",
     "text": [
      "Epoch 66: Train Loss=0.3163, Val Loss=0.3244, Val Acc=0.8549\n"
     ]
    },
    {
     "name": "stderr",
     "output_type": "stream",
     "text": [
      "Epoch [67/200]: 100%|██████████| 2566/2566 [00:28<00:00, 88.52it/s, loss=0.807] \n"
     ]
    },
    {
     "name": "stdout",
     "output_type": "stream",
     "text": [
      "Epoch 67: Train Loss=0.3165, Val Loss=0.3243, Val Acc=0.8549\n"
     ]
    },
    {
     "name": "stderr",
     "output_type": "stream",
     "text": [
      "Epoch [68/200]: 100%|██████████| 2566/2566 [00:26<00:00, 96.65it/s, loss=0.145] \n"
     ]
    },
    {
     "name": "stdout",
     "output_type": "stream",
     "text": [
      "Epoch 68: Train Loss=0.3162, Val Loss=0.3244, Val Acc=0.8550\n"
     ]
    },
    {
     "name": "stderr",
     "output_type": "stream",
     "text": [
      "Epoch [69/200]: 100%|██████████| 2566/2566 [00:25<00:00, 100.90it/s, loss=0.311]\n"
     ]
    },
    {
     "name": "stdout",
     "output_type": "stream",
     "text": [
      "Epoch 69: Train Loss=0.3162, Val Loss=0.3243, Val Acc=0.8550\n"
     ]
    },
    {
     "name": "stderr",
     "output_type": "stream",
     "text": [
      "Epoch [70/200]: 100%|██████████| 2566/2566 [00:26<00:00, 97.82it/s, loss=0.36]  \n"
     ]
    },
    {
     "name": "stdout",
     "output_type": "stream",
     "text": [
      "Epoch 70: Train Loss=0.3162, Val Loss=0.3243, Val Acc=0.8546\n"
     ]
    },
    {
     "name": "stderr",
     "output_type": "stream",
     "text": [
      "Epoch [71/200]: 100%|██████████| 2566/2566 [00:28<00:00, 91.62it/s, loss=0.298] \n"
     ]
    },
    {
     "name": "stdout",
     "output_type": "stream",
     "text": [
      "Epoch 71: Train Loss=0.3162, Val Loss=0.3243, Val Acc=0.8547\n"
     ]
    },
    {
     "name": "stderr",
     "output_type": "stream",
     "text": [
      "Epoch [72/200]: 100%|██████████| 2566/2566 [00:28<00:00, 88.67it/s, loss=0.2]   \n"
     ]
    },
    {
     "name": "stdout",
     "output_type": "stream",
     "text": [
      "Epoch 72: Train Loss=0.3161, Val Loss=0.3243, Val Acc=0.8552\n"
     ]
    },
    {
     "name": "stderr",
     "output_type": "stream",
     "text": [
      "Epoch [73/200]: 100%|██████████| 2566/2566 [00:26<00:00, 95.04it/s, loss=0.285] \n"
     ]
    },
    {
     "name": "stdout",
     "output_type": "stream",
     "text": [
      "Epoch 73: Train Loss=0.3161, Val Loss=0.3243, Val Acc=0.8550\n"
     ]
    },
    {
     "name": "stderr",
     "output_type": "stream",
     "text": [
      "Epoch [74/200]: 100%|██████████| 2566/2566 [00:27<00:00, 92.64it/s, loss=0.231] \n"
     ]
    },
    {
     "name": "stdout",
     "output_type": "stream",
     "text": [
      "Epoch 74: Train Loss=0.3161, Val Loss=0.3243, Val Acc=0.8547\n"
     ]
    },
    {
     "name": "stderr",
     "output_type": "stream",
     "text": [
      "Epoch [75/200]: 100%|██████████| 2566/2566 [00:28<00:00, 89.94it/s, loss=0.295] \n"
     ]
    },
    {
     "name": "stdout",
     "output_type": "stream",
     "text": [
      "Epoch 75: Train Loss=0.3161, Val Loss=0.3242, Val Acc=0.8549\n"
     ]
    },
    {
     "name": "stderr",
     "output_type": "stream",
     "text": [
      "Epoch [76/200]: 100%|██████████| 2566/2566 [00:27<00:00, 92.36it/s, loss=0.15]  \n"
     ]
    },
    {
     "name": "stdout",
     "output_type": "stream",
     "text": [
      "Epoch 76: Train Loss=0.3160, Val Loss=0.3243, Val Acc=0.8548\n"
     ]
    },
    {
     "name": "stderr",
     "output_type": "stream",
     "text": [
      "Epoch [77/200]: 100%|██████████| 2566/2566 [00:26<00:00, 95.65it/s, loss=0.447] \n"
     ]
    },
    {
     "name": "stdout",
     "output_type": "stream",
     "text": [
      "Epoch 77: Train Loss=0.3161, Val Loss=0.3243, Val Acc=0.8549\n"
     ]
    },
    {
     "name": "stderr",
     "output_type": "stream",
     "text": [
      "Epoch [78/200]: 100%|██████████| 2566/2566 [00:26<00:00, 95.59it/s, loss=0.197] \n"
     ]
    },
    {
     "name": "stdout",
     "output_type": "stream",
     "text": [
      "Epoch 78: Train Loss=0.3160, Val Loss=0.3242, Val Acc=0.8549\n"
     ]
    },
    {
     "name": "stderr",
     "output_type": "stream",
     "text": [
      "Epoch [79/200]: 100%|██████████| 2566/2566 [00:28<00:00, 91.64it/s, loss=0.331] \n"
     ]
    },
    {
     "name": "stdout",
     "output_type": "stream",
     "text": [
      "Epoch 79: Train Loss=0.3161, Val Loss=0.3242, Val Acc=0.8549\n"
     ]
    },
    {
     "name": "stderr",
     "output_type": "stream",
     "text": [
      "Epoch [80/200]: 100%|██████████| 2566/2566 [00:28<00:00, 90.84it/s, loss=0.227] \n"
     ]
    },
    {
     "name": "stdout",
     "output_type": "stream",
     "text": [
      "Epoch 80: Train Loss=0.3160, Val Loss=0.3242, Val Acc=0.8550\n"
     ]
    },
    {
     "name": "stderr",
     "output_type": "stream",
     "text": [
      "Epoch [81/200]: 100%|██████████| 2566/2566 [00:27<00:00, 92.66it/s, loss=0.277] \n"
     ]
    },
    {
     "name": "stdout",
     "output_type": "stream",
     "text": [
      "Epoch 81: Train Loss=0.3160, Val Loss=0.3242, Val Acc=0.8551\n"
     ]
    },
    {
     "name": "stderr",
     "output_type": "stream",
     "text": [
      "Epoch [82/200]: 100%|██████████| 2566/2566 [00:27<00:00, 94.47it/s, loss=0.369] \n"
     ]
    },
    {
     "name": "stdout",
     "output_type": "stream",
     "text": [
      "Epoch 82: Train Loss=0.3160, Val Loss=0.3242, Val Acc=0.8550\n"
     ]
    },
    {
     "name": "stderr",
     "output_type": "stream",
     "text": [
      "Epoch [83/200]: 100%|██████████| 2566/2566 [00:27<00:00, 93.19it/s, loss=0.422] \n"
     ]
    },
    {
     "name": "stdout",
     "output_type": "stream",
     "text": [
      "Epoch 83: Train Loss=0.3161, Val Loss=0.3242, Val Acc=0.8549\n"
     ]
    },
    {
     "name": "stderr",
     "output_type": "stream",
     "text": [
      "Epoch [84/200]: 100%|██████████| 2566/2566 [00:26<00:00, 96.92it/s, loss=0.213] \n"
     ]
    },
    {
     "name": "stdout",
     "output_type": "stream",
     "text": [
      "Epoch 84: Train Loss=0.3160, Val Loss=0.3242, Val Acc=0.8549\n"
     ]
    },
    {
     "name": "stderr",
     "output_type": "stream",
     "text": [
      "Epoch [85/200]: 100%|██████████| 2566/2566 [00:20<00:00, 124.95it/s, loss=0.265]\n"
     ]
    },
    {
     "name": "stdout",
     "output_type": "stream",
     "text": [
      "Epoch 85: Train Loss=0.3160, Val Loss=0.3242, Val Acc=0.8549\n"
     ]
    },
    {
     "name": "stderr",
     "output_type": "stream",
     "text": [
      "Epoch [86/200]: 100%|██████████| 2566/2566 [00:09<00:00, 267.33it/s, loss=0.311]\n"
     ]
    },
    {
     "name": "stdout",
     "output_type": "stream",
     "text": [
      "Epoch 86: Train Loss=0.3160, Val Loss=0.3242, Val Acc=0.8548\n"
     ]
    },
    {
     "name": "stderr",
     "output_type": "stream",
     "text": [
      "Epoch [87/200]: 100%|██████████| 2566/2566 [00:10<00:00, 238.95it/s, loss=0.15] \n"
     ]
    },
    {
     "name": "stdout",
     "output_type": "stream",
     "text": [
      "Epoch 87: Train Loss=0.3159, Val Loss=0.3242, Val Acc=0.8550\n"
     ]
    },
    {
     "name": "stderr",
     "output_type": "stream",
     "text": [
      "Epoch [88/200]: 100%|██████████| 2566/2566 [00:10<00:00, 240.97it/s, loss=0.205]\n"
     ]
    },
    {
     "name": "stdout",
     "output_type": "stream",
     "text": [
      "Epoch 88: Train Loss=0.3160, Val Loss=0.3242, Val Acc=0.8549\n"
     ]
    },
    {
     "name": "stderr",
     "output_type": "stream",
     "text": [
      "Epoch [89/200]: 100%|██████████| 2566/2566 [00:10<00:00, 249.32it/s, loss=0.252]\n"
     ]
    },
    {
     "name": "stdout",
     "output_type": "stream",
     "text": [
      "Epoch 89: Train Loss=0.3160, Val Loss=0.3242, Val Acc=0.8550\n"
     ]
    },
    {
     "name": "stderr",
     "output_type": "stream",
     "text": [
      "Epoch [90/200]: 100%|██████████| 2566/2566 [00:10<00:00, 250.49it/s, loss=0.387]\n"
     ]
    },
    {
     "name": "stdout",
     "output_type": "stream",
     "text": [
      "Epoch 90: Train Loss=0.3160, Val Loss=0.3242, Val Acc=0.8551\n"
     ]
    },
    {
     "name": "stderr",
     "output_type": "stream",
     "text": [
      "Epoch [91/200]: 100%|██████████| 2566/2566 [00:09<00:00, 270.09it/s, loss=0.519]\n"
     ]
    },
    {
     "name": "stdout",
     "output_type": "stream",
     "text": [
      "Epoch 91: Train Loss=0.3160, Val Loss=0.3242, Val Acc=0.8550\n"
     ]
    },
    {
     "name": "stderr",
     "output_type": "stream",
     "text": [
      "Epoch [92/200]: 100%|██████████| 2566/2566 [00:09<00:00, 280.38it/s, loss=0.504]\n"
     ]
    },
    {
     "name": "stdout",
     "output_type": "stream",
     "text": [
      "Epoch 92: Train Loss=0.3160, Val Loss=0.3242, Val Acc=0.8550\n"
     ]
    },
    {
     "name": "stderr",
     "output_type": "stream",
     "text": [
      "Epoch [93/200]: 100%|██████████| 2566/2566 [00:08<00:00, 288.84it/s, loss=0.397]\n"
     ]
    },
    {
     "name": "stdout",
     "output_type": "stream",
     "text": [
      "Epoch 93: Train Loss=0.3160, Val Loss=0.3242, Val Acc=0.8550\n"
     ]
    },
    {
     "name": "stderr",
     "output_type": "stream",
     "text": [
      "Epoch [94/200]: 100%|██████████| 2566/2566 [00:09<00:00, 276.17it/s, loss=0.344]\n"
     ]
    },
    {
     "name": "stdout",
     "output_type": "stream",
     "text": [
      "Epoch 94: Train Loss=0.3160, Val Loss=0.3242, Val Acc=0.8550\n"
     ]
    },
    {
     "name": "stderr",
     "output_type": "stream",
     "text": [
      "Epoch [95/200]: 100%|██████████| 2566/2566 [00:09<00:00, 257.50it/s, loss=0.144]\n"
     ]
    },
    {
     "name": "stdout",
     "output_type": "stream",
     "text": [
      "Epoch 95: Train Loss=0.3159, Val Loss=0.3242, Val Acc=0.8551\n"
     ]
    },
    {
     "name": "stderr",
     "output_type": "stream",
     "text": [
      "Epoch [96/200]: 100%|██████████| 2566/2566 [00:09<00:00, 267.01it/s, loss=0.231]\n"
     ]
    },
    {
     "name": "stdout",
     "output_type": "stream",
     "text": [
      "Epoch 96: Train Loss=0.3159, Val Loss=0.3242, Val Acc=0.8550\n"
     ]
    },
    {
     "name": "stderr",
     "output_type": "stream",
     "text": [
      "Epoch [97/200]: 100%|██████████| 2566/2566 [00:09<00:00, 263.55it/s, loss=0.229]\n"
     ]
    },
    {
     "name": "stdout",
     "output_type": "stream",
     "text": [
      "Epoch 97: Train Loss=0.3159, Val Loss=0.3242, Val Acc=0.8550\n"
     ]
    },
    {
     "name": "stderr",
     "output_type": "stream",
     "text": [
      "Epoch [98/200]: 100%|██████████| 2566/2566 [00:10<00:00, 253.68it/s, loss=0.241]\n"
     ]
    },
    {
     "name": "stdout",
     "output_type": "stream",
     "text": [
      "Epoch 98: Train Loss=0.3159, Val Loss=0.3242, Val Acc=0.8550\n"
     ]
    },
    {
     "name": "stderr",
     "output_type": "stream",
     "text": [
      "Epoch [99/200]: 100%|██████████| 2566/2566 [00:29<00:00, 87.72it/s, loss=0.42] \n"
     ]
    },
    {
     "name": "stdout",
     "output_type": "stream",
     "text": [
      "Epoch 99: Train Loss=0.3160, Val Loss=0.3242, Val Acc=0.8550\n"
     ]
    },
    {
     "name": "stderr",
     "output_type": "stream",
     "text": [
      "Epoch [100/200]: 100%|██████████| 2566/2566 [00:27<00:00, 94.75it/s, loss=0.354] \n"
     ]
    },
    {
     "name": "stdout",
     "output_type": "stream",
     "text": [
      "Epoch 100: Train Loss=0.3160, Val Loss=0.3242, Val Acc=0.8550\n"
     ]
    },
    {
     "name": "stderr",
     "output_type": "stream",
     "text": [
      "Epoch [101/200]: 100%|██████████| 2566/2566 [00:28<00:00, 89.79it/s, loss=0.395] \n"
     ]
    },
    {
     "name": "stdout",
     "output_type": "stream",
     "text": [
      "Epoch 101: Train Loss=0.3160, Val Loss=0.3242, Val Acc=0.8550\n"
     ]
    },
    {
     "name": "stderr",
     "output_type": "stream",
     "text": [
      "Epoch [102/200]: 100%|██████████| 2566/2566 [00:26<00:00, 95.74it/s, loss=0.399] \n"
     ]
    },
    {
     "name": "stdout",
     "output_type": "stream",
     "text": [
      "Epoch 102: Train Loss=0.3160, Val Loss=0.3242, Val Acc=0.8550\n"
     ]
    },
    {
     "name": "stderr",
     "output_type": "stream",
     "text": [
      "Epoch [103/200]: 100%|██████████| 2566/2566 [00:27<00:00, 92.22it/s, loss=0.579] \n"
     ]
    },
    {
     "name": "stdout",
     "output_type": "stream",
     "text": [
      "Epoch 103: Train Loss=0.3160, Val Loss=0.3242, Val Acc=0.8550\n"
     ]
    },
    {
     "name": "stderr",
     "output_type": "stream",
     "text": [
      "Epoch [104/200]: 100%|██████████| 2566/2566 [00:13<00:00, 183.38it/s, loss=0.224]\n"
     ]
    },
    {
     "name": "stdout",
     "output_type": "stream",
     "text": [
      "Epoch 104: Train Loss=0.3159, Val Loss=0.3242, Val Acc=0.8550\n"
     ]
    },
    {
     "name": "stderr",
     "output_type": "stream",
     "text": [
      "Epoch [105/200]: 100%|██████████| 2566/2566 [00:31<00:00, 82.17it/s, loss=0.344] \n"
     ]
    },
    {
     "name": "stdout",
     "output_type": "stream",
     "text": [
      "Epoch 105: Train Loss=0.3160, Val Loss=0.3242, Val Acc=0.8550\n"
     ]
    },
    {
     "name": "stderr",
     "output_type": "stream",
     "text": [
      "Epoch [106/200]: 100%|██████████| 2566/2566 [00:27<00:00, 95.00it/s, loss=0.177] \n"
     ]
    },
    {
     "name": "stdout",
     "output_type": "stream",
     "text": [
      "Epoch 106: Train Loss=0.3159, Val Loss=0.3242, Val Acc=0.8550\n"
     ]
    },
    {
     "name": "stderr",
     "output_type": "stream",
     "text": [
      "Epoch [107/200]: 100%|██████████| 2566/2566 [00:12<00:00, 199.54it/s, loss=0.304]\n"
     ]
    },
    {
     "name": "stdout",
     "output_type": "stream",
     "text": [
      "Epoch 107: Train Loss=0.3159, Val Loss=0.3242, Val Acc=0.8550\n"
     ]
    },
    {
     "name": "stderr",
     "output_type": "stream",
     "text": [
      "Epoch [108/200]: 100%|██████████| 2566/2566 [00:10<00:00, 248.38it/s, loss=0.2]  \n"
     ]
    },
    {
     "name": "stdout",
     "output_type": "stream",
     "text": [
      "Epoch 108: Train Loss=0.3159, Val Loss=0.3242, Val Acc=0.8550\n"
     ]
    },
    {
     "name": "stderr",
     "output_type": "stream",
     "text": [
      "Epoch [109/200]: 100%|██████████| 2566/2566 [00:10<00:00, 243.36it/s, loss=0.405]\n"
     ]
    },
    {
     "name": "stdout",
     "output_type": "stream",
     "text": [
      "Epoch 109: Train Loss=0.3160, Val Loss=0.3242, Val Acc=0.8550\n"
     ]
    },
    {
     "name": "stderr",
     "output_type": "stream",
     "text": [
      "Epoch [110/200]: 100%|██████████| 2566/2566 [00:09<00:00, 262.68it/s, loss=0.29] \n"
     ]
    },
    {
     "name": "stdout",
     "output_type": "stream",
     "text": [
      "Epoch 110: Train Loss=0.3159, Val Loss=0.3242, Val Acc=0.8550\n"
     ]
    },
    {
     "name": "stderr",
     "output_type": "stream",
     "text": [
      "Epoch [111/200]: 100%|██████████| 2566/2566 [00:09<00:00, 260.26it/s, loss=0.216]\n"
     ]
    },
    {
     "name": "stdout",
     "output_type": "stream",
     "text": [
      "Epoch 111: Train Loss=0.3159, Val Loss=0.3242, Val Acc=0.8550\n"
     ]
    },
    {
     "name": "stderr",
     "output_type": "stream",
     "text": [
      "Epoch [112/200]: 100%|██████████| 2566/2566 [00:09<00:00, 260.79it/s, loss=0.214]\n"
     ]
    },
    {
     "name": "stdout",
     "output_type": "stream",
     "text": [
      "Epoch 112: Train Loss=0.3159, Val Loss=0.3242, Val Acc=0.8550\n"
     ]
    },
    {
     "name": "stderr",
     "output_type": "stream",
     "text": [
      "Epoch [113/200]: 100%|██████████| 2566/2566 [00:09<00:00, 278.91it/s, loss=0.195]\n"
     ]
    },
    {
     "name": "stdout",
     "output_type": "stream",
     "text": [
      "Epoch 113: Train Loss=0.3159, Val Loss=0.3242, Val Acc=0.8550\n"
     ]
    },
    {
     "name": "stderr",
     "output_type": "stream",
     "text": [
      "Epoch [114/200]: 100%|██████████| 2566/2566 [00:09<00:00, 273.25it/s, loss=0.256]\n"
     ]
    },
    {
     "name": "stdout",
     "output_type": "stream",
     "text": [
      "Epoch 114: Train Loss=0.3159, Val Loss=0.3242, Val Acc=0.8550\n"
     ]
    },
    {
     "name": "stderr",
     "output_type": "stream",
     "text": [
      "Epoch [115/200]: 100%|██████████| 2566/2566 [00:09<00:00, 263.93it/s, loss=0.291]\n"
     ]
    },
    {
     "name": "stdout",
     "output_type": "stream",
     "text": [
      "Epoch 115: Train Loss=0.3159, Val Loss=0.3242, Val Acc=0.8550\n"
     ]
    },
    {
     "name": "stderr",
     "output_type": "stream",
     "text": [
      "Epoch [116/200]: 100%|██████████| 2566/2566 [00:10<00:00, 251.12it/s, loss=0.293]\n"
     ]
    },
    {
     "name": "stdout",
     "output_type": "stream",
     "text": [
      "Epoch 116: Train Loss=0.3159, Val Loss=0.3242, Val Acc=0.8550\n"
     ]
    },
    {
     "name": "stderr",
     "output_type": "stream",
     "text": [
      "Epoch [117/200]: 100%|██████████| 2566/2566 [00:09<00:00, 265.82it/s, loss=0.379]\n"
     ]
    },
    {
     "name": "stdout",
     "output_type": "stream",
     "text": [
      "Epoch 117: Train Loss=0.3160, Val Loss=0.3242, Val Acc=0.8550\n"
     ]
    },
    {
     "name": "stderr",
     "output_type": "stream",
     "text": [
      "Epoch [118/200]: 100%|██████████| 2566/2566 [00:09<00:00, 284.58it/s, loss=0.408]\n"
     ]
    },
    {
     "name": "stdout",
     "output_type": "stream",
     "text": [
      "Epoch 118: Train Loss=0.3160, Val Loss=0.3242, Val Acc=0.8550\n"
     ]
    },
    {
     "name": "stderr",
     "output_type": "stream",
     "text": [
      "Epoch [119/200]: 100%|██████████| 2566/2566 [00:08<00:00, 286.53it/s, loss=0.242]\n"
     ]
    },
    {
     "name": "stdout",
     "output_type": "stream",
     "text": [
      "Epoch 119: Train Loss=0.3159, Val Loss=0.3242, Val Acc=0.8550\n"
     ]
    },
    {
     "name": "stderr",
     "output_type": "stream",
     "text": [
      "Epoch [120/200]: 100%|██████████| 2566/2566 [00:09<00:00, 282.06it/s, loss=0.203]\n"
     ]
    },
    {
     "name": "stdout",
     "output_type": "stream",
     "text": [
      "Epoch 120: Train Loss=0.3159, Val Loss=0.3242, Val Acc=0.8550\n"
     ]
    },
    {
     "name": "stderr",
     "output_type": "stream",
     "text": [
      "Epoch [121/200]: 100%|██████████| 2566/2566 [00:09<00:00, 276.99it/s, loss=0.354]\n"
     ]
    },
    {
     "name": "stdout",
     "output_type": "stream",
     "text": [
      "Epoch 121: Train Loss=0.3160, Val Loss=0.3242, Val Acc=0.8550\n"
     ]
    },
    {
     "name": "stderr",
     "output_type": "stream",
     "text": [
      "Epoch [122/200]: 100%|██████████| 2566/2566 [00:09<00:00, 269.64it/s, loss=0.237]\n"
     ]
    },
    {
     "name": "stdout",
     "output_type": "stream",
     "text": [
      "Epoch 122: Train Loss=0.3159, Val Loss=0.3242, Val Acc=0.8550\n",
      "Early stopping triggered after 122 epochs\n",
      "Finish training model: NN_Model_NO_CONF\n"
     ]
    }
   ],
   "source": [
    "import torch.nn as nn\n",
    "import torch.optim as optim\n",
    "from utils import scheduler\n",
    "from nn_model import NN_Model_NO_CONF\n",
    "\n",
    "nn_model_no_conf = NN_Model_NO_CONF()\n",
    "\n",
    "# Set up the loss function and optimizer\n",
    "cnn_criterion = nn.BCELoss()  # Binary Cross-Entropy Loss for binary classification\n",
    "cnn_optimizer = optim.Adam(nn_model_no_conf.parameters(), lr=0.001, weight_decay=1e-5)\n",
    "\n",
    "cnn_epochs = 200  # Set number of epochs\n",
    "\n",
    "nn_model_no_conf, cnn_train_losses, cnn_val_losses, cnn_val_accuracies = train_model(\n",
    "        nn_model_no_conf,\n",
    "        criterion=cnn_criterion,\n",
    "        optimizer=cnn_optimizer,\n",
    "        epochs=cnn_epochs,\n",
    "        train_loader=train_loader_no_conf,\n",
    "        val_loader=val_loader_no_conf,\n",
    "        scheduler=scheduler,\n",
    "        patience=10)\n"
   ]
  },
  {
   "cell_type": "code",
   "execution_count": 15,
   "id": "cd391747a836a9d8",
   "metadata": {},
   "outputs": [
    {
     "data": {
      "image/png": "[encoded data removed]",
      "text/plain": [
       "<Figure size 1200x400 with 3 Axes>"
      ]
     },
     "metadata": {},
     "output_type": "display_data"
    }
   ],
   "source": [
    "from utils import plot_training_results\n",
    "plot_training_results(cnn_train_losses, cnn_val_losses, cnn_val_accuracies)"
   ]
  },
  {
   "cell_type": "code",
   "execution_count": 16,
   "id": "489a22fc9c003ff6",
   "metadata": {
    "ExecuteTime": {
     "end_time": "2025-05-02T10:56:25.328177Z",
     "start_time": "2025-05-02T10:56:25.300021Z"
    }
   },
   "outputs": [],
   "source": [
    "torch.save(nn_model_no_conf.state_dict(), \"./model/nn_model_no_conf.pth\")"
   ]
  },
  {
   "cell_type": "code",
   "execution_count": 17,
   "id": "b55c7f0809c50b1d",
   "metadata": {},
   "outputs": [
    {
     "name": "stdout",
     "output_type": "stream",
     "text": [
      "Model Test Accuracy: 85.31%\n"
     ]
    }
   ],
   "source": [
    "device = torch.device('cuda' if torch.cuda.is_available() else 'cpu')\n",
    "\n",
    "load_nn_model_no_conf = NN_Model_NO_CONF()\n",
    "load_nn_model_no_conf.load_state_dict(torch.load('./model/nn_model_no_conf.pth'))\n",
    "\n",
    "# Set the model to evaluation mode (important for inference)\n",
    "load_nn_model_no_conf.eval()\n",
    "load_nn_model_no_conf.to(device)\n",
    "\n",
    "# Example usage:\n",
    "perform_model_on_test_dataset(load_nn_model_no_conf, test_loader_no_conf, device)"
   ]
  },
  {
   "cell_type": "code",
   "execution_count": 27,
   "id": "01d430da-ea37-4f4e-a22f-62bc57f5fc08",
   "metadata": {
    "scrolled": true
   },
   "outputs": [
    {
     "name": "stdout",
     "output_type": "stream",
     "text": [
      "Using device: cuda\n",
      "Start training model: NN_Model_NO_CONF_2\n"
     ]
    },
    {
     "name": "stderr",
     "output_type": "stream",
     "text": [
      "Epoch [1/200]: 100%|██████████| 2566/2566 [00:11<00:00, 220.20it/s, loss=0.613]\n"
     ]
    },
    {
     "name": "stdout",
     "output_type": "stream",
     "text": [
      "Epoch 1: Train Loss=0.5083, Val Loss=0.4524, Val Acc=0.7776\n"
     ]
    },
    {
     "name": "stderr",
     "output_type": "stream",
     "text": [
      "Epoch [2/200]: 100%|██████████| 2566/2566 [00:11<00:00, 226.01it/s, loss=0.28] \n"
     ]
    },
    {
     "name": "stdout",
     "output_type": "stream",
     "text": [
      "Epoch 2: Train Loss=0.4240, Val Loss=0.3983, Val Acc=0.8082\n"
     ]
    },
    {
     "name": "stderr",
     "output_type": "stream",
     "text": [
      "Epoch [3/200]: 100%|██████████| 2566/2566 [00:11<00:00, 232.20it/s, loss=0.366]\n"
     ]
    },
    {
     "name": "stdout",
     "output_type": "stream",
     "text": [
      "Epoch 3: Train Loss=0.3821, Val Loss=0.3504, Val Acc=0.8379\n"
     ]
    },
    {
     "name": "stderr",
     "output_type": "stream",
     "text": [
      "Epoch [4/200]: 100%|██████████| 2566/2566 [00:11<00:00, 224.61it/s, loss=0.217]\n"
     ]
    },
    {
     "name": "stdout",
     "output_type": "stream",
     "text": [
      "Epoch 4: Train Loss=0.3532, Val Loss=0.3310, Val Acc=0.8476\n"
     ]
    },
    {
     "name": "stderr",
     "output_type": "stream",
     "text": [
      "Epoch [5/200]: 100%|██████████| 2566/2566 [00:11<00:00, 214.48it/s, loss=0.329]\n"
     ]
    },
    {
     "name": "stdout",
     "output_type": "stream",
     "text": [
      "Epoch 5: Train Loss=0.3307, Val Loss=0.3290, Val Acc=0.8414\n"
     ]
    },
    {
     "name": "stderr",
     "output_type": "stream",
     "text": [
      "Epoch [6/200]: 100%|██████████| 2566/2566 [00:11<00:00, 230.87it/s, loss=0.216]\n"
     ]
    },
    {
     "name": "stdout",
     "output_type": "stream",
     "text": [
      "Epoch 6: Train Loss=0.3140, Val Loss=0.3399, Val Acc=0.8422\n"
     ]
    },
    {
     "name": "stderr",
     "output_type": "stream",
     "text": [
      "Epoch [7/200]: 100%|██████████| 2566/2566 [00:11<00:00, 215.75it/s, loss=0.141]\n"
     ]
    },
    {
     "name": "stdout",
     "output_type": "stream",
     "text": [
      "Epoch 7: Train Loss=0.3002, Val Loss=0.2864, Val Acc=0.8667\n"
     ]
    },
    {
     "name": "stderr",
     "output_type": "stream",
     "text": [
      "Epoch [8/200]: 100%|██████████| 2566/2566 [00:11<00:00, 226.49it/s, loss=0.382]\n"
     ]
    },
    {
     "name": "stdout",
     "output_type": "stream",
     "text": [
      "Epoch 8: Train Loss=0.2879, Val Loss=0.2824, Val Acc=0.8674\n"
     ]
    },
    {
     "name": "stderr",
     "output_type": "stream",
     "text": [
      "Epoch [9/200]: 100%|██████████| 2566/2566 [00:12<00:00, 209.15it/s, loss=0.594]\n"
     ]
    },
    {
     "name": "stdout",
     "output_type": "stream",
     "text": [
      "Epoch 9: Train Loss=0.2771, Val Loss=0.2921, Val Acc=0.8621\n"
     ]
    },
    {
     "name": "stderr",
     "output_type": "stream",
     "text": [
      "Epoch [10/200]: 100%|██████████| 2566/2566 [00:11<00:00, 219.38it/s, loss=0.0987]\n"
     ]
    },
    {
     "name": "stdout",
     "output_type": "stream",
     "text": [
      "Epoch 10: Train Loss=0.2680, Val Loss=0.2860, Val Acc=0.8686\n"
     ]
    },
    {
     "name": "stderr",
     "output_type": "stream",
     "text": [
      "Epoch [11/200]: 100%|██████████| 2566/2566 [00:11<00:00, 215.86it/s, loss=0.139]\n"
     ]
    },
    {
     "name": "stdout",
     "output_type": "stream",
     "text": [
      "Epoch 11: Train Loss=0.2596, Val Loss=0.2557, Val Acc=0.8824\n"
     ]
    },
    {
     "name": "stderr",
     "output_type": "stream",
     "text": [
      "Epoch [12/200]: 100%|██████████| 2566/2566 [00:11<00:00, 227.10it/s, loss=0.184]\n"
     ]
    },
    {
     "name": "stdout",
     "output_type": "stream",
     "text": [
      "Epoch 12: Train Loss=0.2465, Val Loss=0.2632, Val Acc=0.8771\n"
     ]
    },
    {
     "name": "stderr",
     "output_type": "stream",
     "text": [
      "Epoch [13/200]: 100%|██████████| 2566/2566 [00:12<00:00, 211.91it/s, loss=0.391]\n"
     ]
    },
    {
     "name": "stdout",
     "output_type": "stream",
     "text": [
      "Epoch 13: Train Loss=0.2345, Val Loss=0.2440, Val Acc=0.8885\n"
     ]
    },
    {
     "name": "stderr",
     "output_type": "stream",
     "text": [
      "Epoch [14/200]: 100%|██████████| 2566/2566 [00:12<00:00, 199.53it/s, loss=0.13] \n"
     ]
    },
    {
     "name": "stdout",
     "output_type": "stream",
     "text": [
      "Epoch 14: Train Loss=0.2225, Val Loss=0.2291, Val Acc=0.8953\n"
     ]
    },
    {
     "name": "stderr",
     "output_type": "stream",
     "text": [
      "Epoch [15/200]: 100%|██████████| 2566/2566 [00:11<00:00, 215.67it/s, loss=0.101]\n"
     ]
    },
    {
     "name": "stdout",
     "output_type": "stream",
     "text": [
      "Epoch 15: Train Loss=0.2132, Val Loss=0.2248, Val Acc=0.8958\n"
     ]
    },
    {
     "name": "stderr",
     "output_type": "stream",
     "text": [
      "Epoch [16/200]: 100%|██████████| 2566/2566 [00:11<00:00, 221.97it/s, loss=0.181] \n"
     ]
    },
    {
     "name": "stdout",
     "output_type": "stream",
     "text": [
      "Epoch 16: Train Loss=0.2026, Val Loss=0.2098, Val Acc=0.9037\n"
     ]
    },
    {
     "name": "stderr",
     "output_type": "stream",
     "text": [
      "Epoch [17/200]: 100%|██████████| 2566/2566 [00:11<00:00, 223.92it/s, loss=0.0218]\n"
     ]
    },
    {
     "name": "stdout",
     "output_type": "stream",
     "text": [
      "Epoch 17: Train Loss=0.1940, Val Loss=0.2172, Val Acc=0.9005\n"
     ]
    },
    {
     "name": "stderr",
     "output_type": "stream",
     "text": [
      "Epoch [18/200]: 100%|██████████| 2566/2566 [00:11<00:00, 221.92it/s, loss=0.147] \n"
     ]
    },
    {
     "name": "stdout",
     "output_type": "stream",
     "text": [
      "Epoch 18: Train Loss=0.1864, Val Loss=0.2189, Val Acc=0.9016\n"
     ]
    },
    {
     "name": "stderr",
     "output_type": "stream",
     "text": [
      "Epoch [19/200]: 100%|██████████| 2566/2566 [00:11<00:00, 224.13it/s, loss=0.203] \n"
     ]
    },
    {
     "name": "stdout",
     "output_type": "stream",
     "text": [
      "Epoch 19: Train Loss=0.1788, Val Loss=0.1973, Val Acc=0.9097\n"
     ]
    },
    {
     "name": "stderr",
     "output_type": "stream",
     "text": [
      "Epoch [20/200]: 100%|██████████| 2566/2566 [00:11<00:00, 220.86it/s, loss=0.147] \n"
     ]
    },
    {
     "name": "stdout",
     "output_type": "stream",
     "text": [
      "Epoch 20: Train Loss=0.1717, Val Loss=0.1937, Val Acc=0.9118\n"
     ]
    },
    {
     "name": "stderr",
     "output_type": "stream",
     "text": [
      "Epoch [21/200]: 100%|██████████| 2566/2566 [00:11<00:00, 217.42it/s, loss=0.137] \n"
     ]
    },
    {
     "name": "stdout",
     "output_type": "stream",
     "text": [
      "Epoch 21: Train Loss=0.1663, Val Loss=0.1864, Val Acc=0.9148\n"
     ]
    },
    {
     "name": "stderr",
     "output_type": "stream",
     "text": [
      "Epoch [22/200]: 100%|██████████| 2566/2566 [00:10<00:00, 242.08it/s, loss=0.443] \n"
     ]
    },
    {
     "name": "stdout",
     "output_type": "stream",
     "text": [
      "Epoch 22: Train Loss=0.1598, Val Loss=0.1872, Val Acc=0.9138\n"
     ]
    },
    {
     "name": "stderr",
     "output_type": "stream",
     "text": [
      "Epoch [23/200]: 100%|██████████| 2566/2566 [00:10<00:00, 234.16it/s, loss=0.105] \n"
     ]
    },
    {
     "name": "stdout",
     "output_type": "stream",
     "text": [
      "Epoch 23: Train Loss=0.1542, Val Loss=0.1824, Val Acc=0.9179\n"
     ]
    },
    {
     "name": "stderr",
     "output_type": "stream",
     "text": [
      "Epoch [24/200]: 100%|██████████| 2566/2566 [00:11<00:00, 218.12it/s, loss=0.124] \n"
     ]
    },
    {
     "name": "stdout",
     "output_type": "stream",
     "text": [
      "Epoch 24: Train Loss=0.1492, Val Loss=0.1758, Val Acc=0.9206\n"
     ]
    },
    {
     "name": "stderr",
     "output_type": "stream",
     "text": [
      "Epoch [25/200]: 100%|██████████| 2566/2566 [00:11<00:00, 215.48it/s, loss=0.244] \n"
     ]
    },
    {
     "name": "stdout",
     "output_type": "stream",
     "text": [
      "Epoch 25: Train Loss=0.1451, Val Loss=0.1752, Val Acc=0.9204\n"
     ]
    },
    {
     "name": "stderr",
     "output_type": "stream",
     "text": [
      "Epoch [26/200]: 100%|██████████| 2566/2566 [00:12<00:00, 209.96it/s, loss=0.0684]\n"
     ]
    },
    {
     "name": "stdout",
     "output_type": "stream",
     "text": [
      "Epoch 26: Train Loss=0.1402, Val Loss=0.1750, Val Acc=0.9235\n"
     ]
    },
    {
     "name": "stderr",
     "output_type": "stream",
     "text": [
      "Epoch [27/200]: 100%|██████████| 2566/2566 [00:11<00:00, 215.99it/s, loss=0.221] \n"
     ]
    },
    {
     "name": "stdout",
     "output_type": "stream",
     "text": [
      "Epoch 27: Train Loss=0.1363, Val Loss=0.1744, Val Acc=0.9265\n"
     ]
    },
    {
     "name": "stderr",
     "output_type": "stream",
     "text": [
      "Epoch [28/200]: 100%|██████████| 2566/2566 [00:11<00:00, 220.68it/s, loss=0.149] \n"
     ]
    },
    {
     "name": "stdout",
     "output_type": "stream",
     "text": [
      "Epoch 28: Train Loss=0.1326, Val Loss=0.1669, Val Acc=0.9278\n"
     ]
    },
    {
     "name": "stderr",
     "output_type": "stream",
     "text": [
      "Epoch [29/200]: 100%|██████████| 2566/2566 [00:11<00:00, 225.10it/s, loss=0.175] \n"
     ]
    },
    {
     "name": "stdout",
     "output_type": "stream",
     "text": [
      "Epoch 29: Train Loss=0.1292, Val Loss=0.1689, Val Acc=0.9279\n"
     ]
    },
    {
     "name": "stderr",
     "output_type": "stream",
     "text": [
      "Epoch [30/200]: 100%|██████████| 2566/2566 [00:11<00:00, 217.19it/s, loss=0.107] \n"
     ]
    },
    {
     "name": "stdout",
     "output_type": "stream",
     "text": [
      "Epoch 30: Train Loss=0.1262, Val Loss=0.1735, Val Acc=0.9288\n"
     ]
    },
    {
     "name": "stderr",
     "output_type": "stream",
     "text": [
      "Epoch [31/200]: 100%|██████████| 2566/2566 [00:11<00:00, 214.68it/s, loss=0.1]   \n"
     ]
    },
    {
     "name": "stdout",
     "output_type": "stream",
     "text": [
      "Epoch 31: Train Loss=0.1234, Val Loss=0.1719, Val Acc=0.9312\n"
     ]
    },
    {
     "name": "stderr",
     "output_type": "stream",
     "text": [
      "Epoch [32/200]: 100%|██████████| 2566/2566 [00:11<00:00, 226.65it/s, loss=0.116] \n"
     ]
    },
    {
     "name": "stdout",
     "output_type": "stream",
     "text": [
      "Epoch 32: Train Loss=0.1210, Val Loss=0.1707, Val Acc=0.9317\n"
     ]
    },
    {
     "name": "stderr",
     "output_type": "stream",
     "text": [
      "Epoch [33/200]: 100%|██████████| 2566/2566 [00:11<00:00, 222.55it/s, loss=0.0229]\n"
     ]
    },
    {
     "name": "stdout",
     "output_type": "stream",
     "text": [
      "Epoch 33: Train Loss=0.1182, Val Loss=0.1673, Val Acc=0.9328\n"
     ]
    },
    {
     "name": "stderr",
     "output_type": "stream",
     "text": [
      "Epoch [34/200]: 100%|██████████| 2566/2566 [00:12<00:00, 213.58it/s, loss=0.0933]\n"
     ]
    },
    {
     "name": "stdout",
     "output_type": "stream",
     "text": [
      "Epoch 34: Train Loss=0.1161, Val Loss=0.1663, Val Acc=0.9325\n"
     ]
    },
    {
     "name": "stderr",
     "output_type": "stream",
     "text": [
      "Epoch [35/200]: 100%|██████████| 2566/2566 [00:11<00:00, 219.28it/s, loss=0.281] \n"
     ]
    },
    {
     "name": "stdout",
     "output_type": "stream",
     "text": [
      "Epoch 35: Train Loss=0.1142, Val Loss=0.1718, Val Acc=0.9329\n"
     ]
    },
    {
     "name": "stderr",
     "output_type": "stream",
     "text": [
      "Epoch [36/200]: 100%|██████████| 2566/2566 [00:11<00:00, 221.89it/s, loss=0.0907]\n"
     ]
    },
    {
     "name": "stdout",
     "output_type": "stream",
     "text": [
      "Epoch 36: Train Loss=0.1125, Val Loss=0.1644, Val Acc=0.9349\n"
     ]
    },
    {
     "name": "stderr",
     "output_type": "stream",
     "text": [
      "Epoch [37/200]: 100%|██████████| 2566/2566 [00:12<00:00, 210.92it/s, loss=0.0811]\n"
     ]
    },
    {
     "name": "stdout",
     "output_type": "stream",
     "text": [
      "Epoch 37: Train Loss=0.1105, Val Loss=0.1655, Val Acc=0.9347\n"
     ]
    },
    {
     "name": "stderr",
     "output_type": "stream",
     "text": [
      "Epoch [38/200]: 100%|██████████| 2566/2566 [00:11<00:00, 232.28it/s, loss=0.207] \n"
     ]
    },
    {
     "name": "stdout",
     "output_type": "stream",
     "text": [
      "Epoch 38: Train Loss=0.1092, Val Loss=0.1692, Val Acc=0.9360\n"
     ]
    },
    {
     "name": "stderr",
     "output_type": "stream",
     "text": [
      "Epoch [39/200]: 100%|██████████| 2566/2566 [00:11<00:00, 228.69it/s, loss=0.157] \n"
     ]
    },
    {
     "name": "stdout",
     "output_type": "stream",
     "text": [
      "Epoch 39: Train Loss=0.1076, Val Loss=0.1693, Val Acc=0.9353\n"
     ]
    },
    {
     "name": "stderr",
     "output_type": "stream",
     "text": [
      "Epoch [40/200]: 100%|██████████| 2566/2566 [00:12<00:00, 212.14it/s, loss=0.0542]\n"
     ]
    },
    {
     "name": "stdout",
     "output_type": "stream",
     "text": [
      "Epoch 40: Train Loss=0.1064, Val Loss=0.1717, Val Acc=0.9360\n"
     ]
    },
    {
     "name": "stderr",
     "output_type": "stream",
     "text": [
      "Epoch [41/200]: 100%|██████████| 2566/2566 [00:11<00:00, 217.94it/s, loss=0.147] \n"
     ]
    },
    {
     "name": "stdout",
     "output_type": "stream",
     "text": [
      "Epoch 41: Train Loss=0.1053, Val Loss=0.1688, Val Acc=0.9364\n"
     ]
    },
    {
     "name": "stderr",
     "output_type": "stream",
     "text": [
      "Epoch [42/200]: 100%|██████████| 2566/2566 [00:12<00:00, 207.77it/s, loss=0.0196]\n"
     ]
    },
    {
     "name": "stdout",
     "output_type": "stream",
     "text": [
      "Epoch 42: Train Loss=0.1041, Val Loss=0.1696, Val Acc=0.9368\n"
     ]
    },
    {
     "name": "stderr",
     "output_type": "stream",
     "text": [
      "Epoch [43/200]: 100%|██████████| 2566/2566 [00:11<00:00, 230.24it/s, loss=0.154] \n"
     ]
    },
    {
     "name": "stdout",
     "output_type": "stream",
     "text": [
      "Epoch 43: Train Loss=0.1033, Val Loss=0.1688, Val Acc=0.9370\n"
     ]
    },
    {
     "name": "stderr",
     "output_type": "stream",
     "text": [
      "Epoch [44/200]: 100%|██████████| 2566/2566 [00:11<00:00, 229.55it/s, loss=0.103] \n"
     ]
    },
    {
     "name": "stdout",
     "output_type": "stream",
     "text": [
      "Epoch 44: Train Loss=0.1024, Val Loss=0.1692, Val Acc=0.9375\n"
     ]
    },
    {
     "name": "stderr",
     "output_type": "stream",
     "text": [
      "Epoch [45/200]: 100%|██████████| 2566/2566 [00:11<00:00, 213.99it/s, loss=0.0621]\n"
     ]
    },
    {
     "name": "stdout",
     "output_type": "stream",
     "text": [
      "Epoch 45: Train Loss=0.1016, Val Loss=0.1678, Val Acc=0.9382\n"
     ]
    },
    {
     "name": "stderr",
     "output_type": "stream",
     "text": [
      "Epoch [46/200]: 100%|██████████| 2566/2566 [00:12<00:00, 209.97it/s, loss=0.0794]\n"
     ]
    },
    {
     "name": "stdout",
     "output_type": "stream",
     "text": [
      "Epoch 46: Train Loss=0.1009, Val Loss=0.1685, Val Acc=0.9382\n",
      "Early stopping triggered after 46 epochs\n",
      "Finish training model: NN_Model_NO_CONF_2\n"
     ]
    }
   ],
   "source": [
    "import torch.nn as nn\n",
    "import torch.optim as optim\n",
    "from utils import scheduler\n",
    "from nn_model import NN_Model_NO_CONF_2\n",
    "\n",
    "nn_model_no_conf2 = NN_Model_NO_CONF_2()\n",
    "\n",
    "# Set up the loss function and optimizer\n",
    "cnn_criterion = nn.BCELoss()  # Binary Cross-Entropy Loss for binary classification\n",
    "cnn_optimizer = optim.Adam(nn_model_no_conf2.parameters(), lr=0.001, weight_decay=1e-5)\n",
    "\n",
    "cnn_epochs = 200  # Set number of epochs\n",
    "\n",
    "nn_model_no_conf2, cnn_train_losses, cnn_val_losses, cnn_val_accuracies = train_model(\n",
    "        nn_model_no_conf2,\n",
    "        criterion=cnn_criterion,\n",
    "        optimizer=cnn_optimizer,\n",
    "        epochs=cnn_epochs,\n",
    "        train_loader=train_loader_no_conf,\n",
    "        val_loader=val_loader_no_conf,\n",
    "        scheduler=scheduler,\n",
    "        patience=10)"
   ]
  },
  {
   "cell_type": "code",
   "execution_count": 28,
   "id": "818b42d7-8a6c-4695-88d5-7a1de1e7b391",
   "metadata": {},
   "outputs": [],
   "source": [
    "torch.save(nn_model_no_conf2.state_dict(), \"./model/nn_model_no_conf2.pth\")"
   ]
  },
  {
   "cell_type": "code",
   "execution_count": 29,
   "id": "6238fa11-725c-4bac-9c40-9731711fb3b4",
   "metadata": {},
   "outputs": [
    {
     "name": "stdout",
     "output_type": "stream",
     "text": [
      "Model Test Accuracy: 93.75%\n"
     ]
    }
   ],
   "source": [
    "device = torch.device('cuda' if torch.cuda.is_available() else 'cpu')\n",
    "\n",
    "load_nn_model_no_conf2 = NN_Model_NO_CONF_2()\n",
    "load_nn_model_no_conf2.load_state_dict(torch.load('./model/nn_model_no_conf2.pth'))\n",
    "\n",
    "# Set the model to evaluation mode (important for inference)\n",
    "load_nn_model_no_conf2.eval()\n",
    "load_nn_model_no_conf2.to(device)\n",
    "\n",
    "# Example usage:\n",
    "perform_model_on_test_dataset(load_nn_model_no_conf2, test_loader_no_conf, device)"
   ]
  },
  {
   "cell_type": "code",
   "execution_count": null,
   "id": "8fbf15f4-a0ec-4038-8cac-18e2014e68d9",
   "metadata": {},
   "outputs": [],
   "source": []
  }
 ],
 "metadata": {
  "kernelspec": {
   "display_name": "Python 3 (ipykernel)",
   "language": "python",
   "name": "python3"
  },
  "language_info": {
   "codemirror_mode": {
    "name": "ipython",
    "version": 3
   },
   "file_extension": ".py",
   "mimetype": "text/x-python",
   "name": "python",
   "nbconvert_exporter": "python",
   "pygments_lexer": "ipython3",
   "version": "3.12.9"
  }
 },
 "nbformat": 4,
 "nbformat_minor": 5
}
