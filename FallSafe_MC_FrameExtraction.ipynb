{
 "cells": [
  {
   "cell_type": "code",
   "execution_count": null,
   "id": "initial_id",
   "metadata": {
    "collapsed": true
   },
   "outputs": [],
   "source": [
    ""
   ]
  },
  {
   "metadata": {},
   "cell_type": "code",
   "outputs": [],
   "execution_count": null,
   "source": [
    "import cv2\n",
    "import os\n",
    "from pathlib import Path\n",
    "\n",
    "# === Step 1: Set the base input and output directories ===\n",
    "input_root = Path(\"/Users/jasonx/Documents/UTS/25S1/42028 Deep Learning/A3/Part D/dataset\").expanduser()\n",
    "output_root = Path(\"/Users/jasonx/Documents/UTS/25S1/42028 Deep Learning/A3/Part D/framed_dataset\").expanduser()\n",
    "\n",
    "# === Step 2: Find all .avi files recursively ===\n",
    "avi_files = list(input_root.rglob(\"*.avi\"))\n",
    "\n",
    "print(f\" Found {len(avi_files)} .avi videos.\")\n",
    "\n",
    "for video_path in avi_files:\n",
    "    # Get relative path from input_root to video\n",
    "    relative_path = video_path.relative_to(input_root)\n",
    "\n",
    "    # Determine where to store the framed video\n",
    "    output_folder = output_root / relative_path.parent\n",
    "    output_folder.mkdir(parents=True, exist_ok=True)\n",
    "\n",
    "    video_name = video_path.stem  # filename without extension\n",
    "    output_filename = f\"{video_name}_framed.mp4\"\n",
    "    output_path = output_folder / output_filename\n",
    "\n",
    "    print(f\"Processing {relative_path} → {output_path.name}\")\n",
    "\n",
    "    # Open and read the video\n",
    "    cap = cv2.VideoCapture(str(video_path))\n",
    "    if not cap.isOpened():\n",
    "        print(f\" Could not open: {video_path}\")\n",
    "        continue\n",
    "\n",
    "    fps = cap.get(cv2.CAP_PROP_FPS)\n",
    "    width = int(cap.get(cv2.CAP_PROP_FRAME_WIDTH))\n",
    "    height = int(cap.get(cv2.CAP_PROP_FRAME_HEIGHT))\n",
    "\n",
    "    fourcc = cv2.VideoWriter_fourcc(*'mp4v')\n",
    "    out = cv2.VideoWriter(str(output_path), fourcc, fps, (width, height))\n",
    "\n",
    "    frame_number = 0\n",
    "    while True:\n",
    "        ret, frame = cap.read()\n",
    "        if not ret:\n",
    "            break\n",
    "\n",
    "        text = f\"Frame: {frame_number}\"\n",
    "        position = (10, height - 10)\n",
    "        cv2.putText(frame, text, position, cv2.FONT_HERSHEY_SIMPLEX,\n",
    "                    1, (0, 0, 255), 2, cv2.LINE_AA)\n",
    "\n",
    "        out.write(frame)\n",
    "        frame_number += 1\n",
    "\n",
    "    cap.release()\n",
    "    out.release()\n",
    "    print(f\"✅ Saved to: {output_path}\")\n",
    "\n",
    "print(\"🎉 All videos processed successfully.\")\n"
   ],
   "id": "b4f397a9e94023f"
  }
 ],
 "metadata": {
  "kernelspec": {
   "display_name": "Python 3",
   "language": "python",
   "name": "python3"
  },
  "language_info": {
   "codemirror_mode": {
    "name": "ipython",
    "version": 2
   },
   "file_extension": ".py",
   "mimetype": "text/x-python",
   "name": "python",
   "nbconvert_exporter": "python",
   "pygments_lexer": "ipython2",
   "version": "2.7.6"
  }
 },
 "nbformat": 4,
 "nbformat_minor": 5
}
