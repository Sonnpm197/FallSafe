{
 "cells": [
  {
   "cell_type": "code",
   "id": "f08e8c2f-0386-4296-87a3-78fa7877defd",
   "metadata": {
    "ExecuteTime": {
     "end_time": "2025-05-17T03:25:56.441562Z",
     "start_time": "2025-05-17T03:25:52.216768Z"
    }
   },
   "source": [
    "from ultralytics import YOLO\n",
    "import pandas as pd\n",
    "import os\n",
    "import cv2\n",
    "import torch\n",
    "\n",
    "\n",
    "# GENERATE keypoints here\n",
    "model = YOLO(\"yolo11n-pose.pt\")  # load an official model\n",
    "\n",
    "device = torch.device('cuda' if torch.cuda.is_available() else 'cpu')"
   ],
   "outputs": [],
   "execution_count": 1
  },
  {
   "cell_type": "code",
   "id": "8a4d47f9-73a5-4e22-b918-693519a2479e",
   "metadata": {
    "ExecuteTime": {
     "end_time": "2025-05-17T03:26:25.489802Z",
     "start_time": "2025-05-17T03:26:23.277404Z"
    }
   },
   "source": [
    "# Predict with the model\n",
    "results = model(\"bus.jpg\")  # predict on an image\n",
    "\n",
    "print(len(results))\n",
    "for i in range(len(results[0].boxes)):\n",
    "    print(results[0].boxes[i].id)\n",
    "\n",
    "len(results[0])"
   ],
   "outputs": [
    {
     "name": "stdout",
     "output_type": "stream",
     "text": [
      "\n",
      "image 1/1 C:\\Users\\sonnpm\\OneDrive - UTS\\Desktop\\UTS\\Semester 3\\DL\\Assignment\\ass 3\\bus.jpg: 640x480 4 persons, 122.8ms\n",
      "Speed: 9.0ms preprocess, 122.8ms inference, 152.3ms postprocess per image at shape (1, 3, 640, 480)\n",
      "1\n",
      "None\n",
      "None\n",
      "None\n",
      "None\n"
     ]
    },
    {
     "data": {
      "text/plain": [
       "4"
      ]
     },
     "execution_count": 2,
     "metadata": {},
     "output_type": "execute_result"
    }
   ],
   "execution_count": 2
  },
  {
   "cell_type": "code",
   "id": "94405635-1d88-4ca8-b720-879e4eaa4288",
   "metadata": {
    "scrolled": true,
    "ExecuteTime": {
     "end_time": "2025-05-07T10:41:28.905545Z",
     "start_time": "2025-05-07T10:41:28.892328Z"
    }
   },
   "source": [
    "import os\n",
    "import cv2\n",
    "import torch\n",
    "from utils import is_none_or_empty\n",
    "\n",
    "def process_video_with_model(yolo_model, dl_model, device, input_path=\"./fall_videos/processed/fall-01-cam0.mp4\", output_path=\"./output/output.mp4\", using_conf=True):\n",
    "\n",
    "    cap = cv2.VideoCapture(input_path)\n",
    "\n",
    "    # Get video properties\n",
    "    fps = int(cap.get(cv2.CAP_PROP_FPS))\n",
    "    width = int(cap.get(cv2.CAP_PROP_FRAME_WIDTH))\n",
    "    height = int(cap.get(cv2.CAP_PROP_FRAME_HEIGHT))\n",
    "\n",
    "    # Set up the output writer\n",
    "    fourcc = cv2.VideoWriter_fourcc(*'mp4v')\n",
    "    out = cv2.VideoWriter(output_path, fourcc, fps, (width, height))\n",
    "\n",
    "    print(f\"Processing {input_path}\")\n",
    "    results = yolo_model.track(source=input_path, verbose=False)\n",
    "\n",
    "    max_pred = 0.0\n",
    "    fall_cnt = 0\n",
    "    for frame_number, result in enumerate(results):\n",
    "        frame = result.orig_img.copy()\n",
    "        boxes = result.boxes\n",
    "        keypoints = result.keypoints\n",
    "\n",
    "        if is_none_or_empty(boxes) or is_none_or_empty(keypoints):\n",
    "            continue\n",
    "\n",
    "        # test mode so predict all\n",
    "        for index in range(len(boxes)):\n",
    "\n",
    "            conf = float(boxes.conf[index])\n",
    "            cls = int(boxes.cls[index])\n",
    "\n",
    "            if cls != 0 or conf < 0.2:\n",
    "                continue\n",
    "\n",
    "            keypoints_tensor = keypoints.data[index]\n",
    "            keypoints_np = keypoints_tensor.cpu().detach().numpy()\n",
    "            flat = keypoints_np.flatten().tolist()\n",
    "\n",
    "            for i in range(0, 51, 3):\n",
    "                flat[i] = float(flat[i]) / float(width)\n",
    "                flat[i + 1] = float(flat[i + 1]) / float(height)\n",
    "\n",
    "            if not using_conf:\n",
    "                flat = [flat[i] for i in range(len(flat)) if i % 3 != 2]\n",
    "\n",
    "            input_tensor = torch.tensor(flat, dtype=torch.float32).unsqueeze(0).to(device)\n",
    "            print(input_tensor)\n",
    "\n",
    "            with torch.no_grad():\n",
    "                output = dl_model(input_tensor)\n",
    "\n",
    "            prediction_value = output.item()\n",
    "            max_pred = max(max_pred, prediction_value)\n",
    "            prediction_label = \"FALL\" if prediction_value > 0.5 else \"SAFE\"\n",
    "            print(\"Prediction value: \", prediction_value)\n",
    "\n",
    "            if prediction_label == \"FALL\":\n",
    "                fall_cnt+= 1\n",
    "\n",
    "            x, y = int(keypoints_np[0][0]), int(keypoints_np[0][1])\n",
    "            color = (0, 0, 255) if prediction_label == \"FALL\" else (0, 255, 0)\n",
    "            cv2.putText(frame, prediction_label, (x, y), cv2.FONT_HERSHEY_SIMPLEX, 1, color, 2)\n",
    "        out.write(frame)\n",
    "\n",
    "    out.release()\n",
    "    print(f\"Saved annotated video to: {output_path}\")\n",
    "    # print(\"max_pred\", max_pred)\n",
    "    print(\"fall_cnt\", fall_cnt)\n"
   ],
   "outputs": [],
   "execution_count": 3
  },
  {
   "cell_type": "code",
   "execution_count": 32,
   "id": "67bfd1ae-74e8-4de2-bfae-8c8656c4b420",
   "metadata": {
    "ExecuteTime": {
     "end_time": "2025-05-02T01:21:34.966357Z",
     "start_time": "2025-05-02T01:21:34.932284Z"
    }
   },
   "outputs": [
    {
     "data": {
      "text/plain": [
       "NN_Model(\n",
       "  (classifier): Sequential(\n",
       "    (0): Linear(in_features=51, out_features=128, bias=True)\n",
       "    (1): ReLU()\n",
       "    (2): Linear(in_features=128, out_features=64, bias=True)\n",
       "    (3): ReLU()\n",
       "    (4): Linear(in_features=64, out_features=1, bias=True)\n",
       "    (5): Sigmoid()\n",
       "  )\n",
       ")"
      ]
     },
     "execution_count": 32,
     "metadata": {},
     "output_type": "execute_result"
    }
   ],
   "source": [
    "# # Model with confidence\n",
    "#\n",
    "# from nn_model import NN_Model\n",
    "#\n",
    "# nn_model = NN_Model()\n",
    "# nn_model.load_state_dict(torch.load('./model/nn_model.pth'))\n",
    "#\n",
    "# # Set the model to evaluation mode (important for inference)\n",
    "# nn_model.eval()\n",
    "# nn_model.to(device)\n",
    "#\n",
    "# process_video_with_model(yolo_model=model, dl_model=nn_model, device=device,\n",
    "#                          input_path='./fall_videos/mc_videos/Coffee_room_01/Coffee_room_01/Videos/video (1).avi',\n",
    "#                          output_path='./output/nn_annotated_output.mp4')"
   ]
  },
  {
   "cell_type": "code",
   "execution_count": 3,
   "id": "9b03fbea1387263",
   "metadata": {
    "ExecuteTime": {
     "end_time": "2025-05-02T11:05:16.504527Z",
     "start_time": "2025-05-02T11:05:16.373135Z"
    }
   },
   "outputs": [
    {
     "data": {
      "text/plain": [
       "NN_Model_NO_CONF(\n",
       "  (classifier): Sequential(\n",
       "    (0): Linear(in_features=34, out_features=128, bias=True)\n",
       "    (1): ReLU()\n",
       "    (2): Linear(in_features=128, out_features=64, bias=True)\n",
       "    (3): ReLU()\n",
       "    (4): Linear(in_features=64, out_features=1, bias=True)\n",
       "    (5): Sigmoid()\n",
       "  )\n",
       ")"
      ]
     },
     "execution_count": 3,
     "metadata": {},
     "output_type": "execute_result"
    }
   ],
   "source": [
    "# from nn_model import NN_Model_NO_CONF\n",
    "#\n",
    "# nn_model_no_conf = NN_Model_NO_CONF()\n",
    "# nn_model_no_conf.load_state_dict(torch.load('./model/nn_model_no_conf.pth'))\n",
    "#\n",
    "# # Set the model to evaluation mode (important for inference)\n",
    "# nn_model_no_conf.eval()\n",
    "# nn_model_no_conf.to(device)\n",
    "#\n",
    "# process_video_with_model(yolo_model=model, dl_model=nn_model_no_conf, device=device,\n",
    "#                          input_path='./fall_videos/test/video_1.mp4',\n",
    "#                          output_path='./output/nn_no_conf_annotated_output.mp4', using_conf=False)"
   ]
  },
  {
   "metadata": {
    "ExecuteTime": {
     "end_time": "2025-05-07T10:41:45.351635Z",
     "start_time": "2025-05-07T10:41:45.215966Z"
    }
   },
   "cell_type": "code",
   "source": [
    "# Complex NN model\n",
    "\n",
    "from nn_model import NN_Model_NO_CONF_2\n",
    "\n",
    "nn_model_no_conf_2 = NN_Model_NO_CONF_2()\n",
    "nn_model_no_conf_2.load_state_dict(torch.load('./model/nn_model_no_conf2.pth'))\n",
    "\n",
    "nn_model_no_conf_2.eval()\n",
    "nn_model_no_conf_2.to(device)\n",
    "\n",
    "process_video_with_model(yolo_model=model, dl_model=nn_model_no_conf_2, device=device,\n",
    "                         input_path='./fall_videos/mc_videos_test/chute01/cam1.avi',\n",
    "                         output_path='./output/nn_no_conf_2.mp4', using_conf=False)"
   ],
   "id": "6193af01faa8d59f",
   "outputs": [
    {
     "data": {
      "text/plain": [
       "NN_Model_NO_CONF_2(\n",
       "  (classifier): Sequential(\n",
       "    (0): Linear(in_features=34, out_features=512, bias=True)\n",
       "    (1): ReLU()\n",
       "    (2): Linear(in_features=512, out_features=256, bias=True)\n",
       "    (3): ReLU()\n",
       "    (4): Linear(in_features=256, out_features=128, bias=True)\n",
       "    (5): ReLU()\n",
       "    (6): Linear(in_features=128, out_features=64, bias=True)\n",
       "    (7): ReLU()\n",
       "    (8): Linear(in_features=64, out_features=32, bias=True)\n",
       "    (9): ReLU()\n",
       "    (10): Linear(in_features=32, out_features=1, bias=True)\n",
       "    (11): Sigmoid()\n",
       "  )\n",
       ")"
      ]
     },
     "execution_count": 4,
     "metadata": {},
     "output_type": "execute_result"
    }
   ],
   "execution_count": 4
  },
  {
   "cell_type": "code",
   "id": "134e3e25-3aea-4681-96b3-259b6b61c25d",
   "metadata": {
    "scrolled": true,
    "ExecuteTime": {
     "end_time": "2025-05-07T10:54:19.849574Z",
     "start_time": "2025-05-07T10:53:32.238036Z"
    }
   },
   "source": [
    "import cv2\n",
    "import os\n",
    "from rule_model import rule_fall_detection\n",
    "from utils import is_none_or_empty\n",
    "\n",
    "# cv2.putText() is another OpenCV function used to add text to an image.\n",
    "# image: The image to which the text will be added.\n",
    "# 'Person Fell down': The text message that will be displayed on the image.\n",
    "# (11, 100): The position of the text (top-left corner of the text box) in (x, y) coordinates. This is the point where the text starts to be drawn on the image.\n",
    "# 0: The font type (0 corresponds to the default font in OpenCV).\n",
    "# 1: The font scale, i.e., the size of the text. A scale of 1 means the text will be the default size.\n",
    "# [0, 0, 2550]: The color of the text. It uses the BGR format (Blue, Green, Red). This is a red color with a high intensity (2550 is likely an error and should be something like [0, 0, 255]).\n",
    "# thickness=3: The thickness of the text.\n",
    "# lineType=cv2.LINE_AA: This ensures that the text is drawn with antialiased lines for smoother edges.\n",
    "def falling_alarm(image, bbox):\n",
    "    x_min, y_min, x_max, y_max = bbox\n",
    "    cv2.rectangle(image, (int(x_min), int(y_min)), (int(x_max), int(y_max)), color=(0, 0, 255),\n",
    "                  thickness=5, lineType=cv2.LINE_AA)\n",
    "    cv2.putText(image, 'Person Fell down', (11, 100), 0, 1, [0, 0, 2550], thickness=3, lineType=cv2.LINE_AA)\n",
    "\n",
    "def Rule_Model(frame):\n",
    "    height, width = frame.orig_img.shape[:2]\n",
    "    for pose in frame:\n",
    "\n",
    "        conf = float(pose.boxes.conf)\n",
    "        cls = int(pose.boxes.cls)\n",
    "\n",
    "        if cls != 0 or conf < 0.2:\n",
    "            continue\n",
    "\n",
    "        bbox = pose.boxes.xyxy.squeeze(0).tolist()\n",
    "        xmin, ymin, xmax, ymax = bbox\n",
    "\n",
    "        flatten_pose = pose.keypoints.data.squeeze(0).flatten().tolist()\n",
    "        for i in range(0, 51, 3):\n",
    "            flatten_pose[i] /= width  # normalize x\n",
    "            flatten_pose[i + 1] /= height  # normalize y\n",
    "        prediction = rule_fall_detection(flatten_pose, xmin, ymin, xmax, ymax)\n",
    "\n",
    "        if prediction:\n",
    "            return prediction, bbox\n",
    "    return False, None\n",
    "\n",
    "def process_video_rule(video_path, model, output_path='./output/rule_annotated_output.mp4'):\n",
    "    cap = cv2.VideoCapture(video_path)\n",
    "\n",
    "    # Get video properties\n",
    "    fps = int(cap.get(cv2.CAP_PROP_FPS))\n",
    "    width = int(cap.get(cv2.CAP_PROP_FRAME_WIDTH))\n",
    "    height = int(cap.get(cv2.CAP_PROP_FRAME_HEIGHT))\n",
    "\n",
    "    # Set up the output writer\n",
    "    fourcc = cv2.VideoWriter_fourcc(*'mp4v')\n",
    "    out = cv2.VideoWriter(output_path, fourcc, fps, (width, height))\n",
    "\n",
    "    print(f\"Processing {video_path}\")\n",
    "    results = model.track(source=video_path, verbose=False)\n",
    "\n",
    "    for frame_number, result in enumerate(results):\n",
    "        is_fall, bbox = Rule_Model(result)\n",
    "        frame = result.orig_img.copy()\n",
    "\n",
    "        if is_fall:\n",
    "            falling_alarm(frame, bbox)\n",
    "\n",
    "        out.write(frame)\n",
    "        # print(f\"Frame {frame_number}: pred = {is_fall}\")\n",
    "\n",
    "    out.release()\n",
    "    print(\"Saved annotated video to:\", output_path)\n",
    "\n",
    "\n",
    "# === Main ===\n",
    "video_path = './fall_videos/mc_videos_test/chute01/cam1.avi'\n",
    "\n",
    "process_video_rule(video_path, model, output_path='./output/rule_unseen.mp4')\n"
   ],
   "outputs": [
    {
     "name": "stdout",
     "output_type": "stream",
     "text": [
      "Processing ./fall_videos/mc_videos_test/chute01/cam1.avi\n",
      "\n",
      "WARNING  inference results will accumulate in RAM unless `stream=True` is passed, causing potential out-of-memory\n",
      "errors for large sources or long-running streams and videos. See https://docs.ultralytics.com/modes/predict/ for help.\n",
      "\n",
      "Example:\n",
      "    results = model(source=..., stream=True)  # generator of Results objects\n",
      "    for r in results:\n",
      "        boxes = r.boxes  # Boxes object for bbox outputs\n",
      "        masks = r.masks  # Masks object for segment masks outputs\n",
      "        probs = r.probs  # Class probabilities for classification outputs\n",
      "\n",
      "Saved annotated video to: ./output/rule_unseen.mp4\n"
     ]
    }
   ],
   "execution_count": 8
  },
  {
   "cell_type": "code",
   "id": "8e7809ad18fa3f5",
   "metadata": {
    "ExecuteTime": {
     "end_time": "2025-05-07T11:45:54.613599Z",
     "start_time": "2025-05-07T11:45:54.595470Z"
    }
   },
   "source": [
    "from collections import defaultdict, deque\n",
    "from utils import is_none_or_empty\n",
    "\n",
    "def process_video_with_lstm(yolo_model, lstm_model, device, input_path, output_path, sequence_length=20, using_conf=True):\n",
    "    cap = cv2.VideoCapture(input_path)\n",
    "\n",
    "    fps = int(cap.get(cv2.CAP_PROP_FPS))\n",
    "    width = int(cap.get(cv2.CAP_PROP_FRAME_WIDTH))\n",
    "    height = int(cap.get(cv2.CAP_PROP_FRAME_HEIGHT))\n",
    "\n",
    "    fourcc = cv2.VideoWriter_fourcc(*'mp4v')\n",
    "    out = cv2.VideoWriter(output_path, fourcc, fps, (width, height))\n",
    "\n",
    "    print(f\"Processing {input_path}\")\n",
    "    results = yolo_model.track(source=input_path, verbose=False)\n",
    "\n",
    "    person_sequences = defaultdict(lambda: deque(maxlen=sequence_length))  # person_id → keypoint buffer\n",
    "\n",
    "    for result in results:\n",
    "        frame = result.orig_img.copy()\n",
    "        boxes = result.boxes\n",
    "        keypoints = result.keypoints\n",
    "\n",
    "        if is_none_or_empty(boxes) or is_none_or_empty(keypoints):\n",
    "            out.write(frame)\n",
    "            continue\n",
    "\n",
    "        for i in range(len(boxes)):\n",
    "            box = boxes[i]\n",
    "            if int(box.cls) != 0 or float(box.conf) < 0.2:\n",
    "                continue\n",
    "\n",
    "            box_id = boxes[i].id\n",
    "            if box_id is not None:\n",
    "                person_id = int(box_id.item())  # works for tensor([1.])\n",
    "            else:\n",
    "                person_id = i  # fallback to index\n",
    "\n",
    "            keypoint = keypoints.data[i].cpu().detach().numpy()\n",
    "            flat = keypoint.flatten().tolist()\n",
    "\n",
    "            for i in range(0, 51, 3):\n",
    "                flat[i] = float(flat[i]) / float(width)\n",
    "                flat[i + 1] = float(flat[i + 1]) / float(height)\n",
    "\n",
    "            if not using_conf:\n",
    "                flat = [flat[i] for i in range(len(flat)) if i % 3 != 2]\n",
    "\n",
    "            person_sequences[person_id].append(flat)\n",
    "\n",
    "            if len(person_sequences[person_id]) == sequence_length:\n",
    "                input_tensor = torch.tensor([person_sequences[person_id]], dtype=torch.float32).to(device)\n",
    "                with torch.no_grad():\n",
    "                    output = lstm_model(input_tensor)\n",
    "                pred_score = torch.sigmoid(output).item() if output.shape[-1] == 1 else torch.softmax(output, dim=-1)[0,1].item()\n",
    "                prediction_label = \"FALL\" if pred_score > 0.5 else \"SAFE LSTM\"\n",
    "                # print(prediction_label)\n",
    "                color = (0, 0, 255) if prediction_label == \"FALL\" else (0, 255, 0)\n",
    "\n",
    "                x, y = int(keypoint[0][0]), int(keypoint[0][1])\n",
    "                cv2.putText(frame, f\"{prediction_label}\", (x, y), cv2.FONT_HERSHEY_SIMPLEX, 1, color, 2)\n",
    "\n",
    "        out.write(frame)\n",
    "\n",
    "    cap.release()\n",
    "    out.release()\n",
    "    print(f\"Saved annotated video to: {output_path}\")\n"
   ],
   "outputs": [],
   "execution_count": 13
  },
  {
   "cell_type": "code",
   "execution_count": null,
   "id": "c8dde9616c27d3e1",
   "metadata": {},
   "outputs": [],
   "source": [
    "# from sequence_model import LSTM_Model\n",
    "#\n",
    "# lstm_model_path = \"./model/lstm_model.pth\"\n",
    "# device = torch.device(\"cuda\" if torch.cuda.is_available() else \"cpu\")\n",
    "#\n",
    "# lstm_model = LSTM_Model()\n",
    "# lstm_model.load_state_dict(torch.load(lstm_model_path, map_location=device))\n",
    "# lstm_model.to(device)\n",
    "# lstm_model.eval()\n",
    "#\n",
    "# process_video_with_lstm(yolo_model=model, lstm_model=lstm_model, device=device,\n",
    "#                         input_path=\"./fall_videos/mc_videos_test/coffee1/coffee1/Videos/video (1).avi\", output_path='./output/lstm_unseen_test.mp4', sequence_length=10)"
   ]
  },
  {
   "cell_type": "code",
   "execution_count": 9,
   "id": "61f24dae-b7aa-4f78-a69e-0a4092df0686",
   "metadata": {
    "ExecuteTime": {
     "end_time": "2025-05-02T11:26:46.735157Z",
     "start_time": "2025-05-02T11:26:46.612418Z"
    }
   },
   "outputs": [
    {
     "data": {
      "text/plain": [
       "LSTM_Model(\n",
       "  (lstm): LSTM(34, 64, num_layers=2, batch_first=True)\n",
       "  (fc): Linear(in_features=64, out_features=2, bias=True)\n",
       ")"
      ]
     },
     "execution_count": 9,
     "metadata": {},
     "output_type": "execute_result"
    }
   ],
   "source": [
    "# # process lstm no conf\n",
    "#\n",
    "# from sequence_model import LSTM_Model\n",
    "#\n",
    "# lstm_model_no_conf_path = \"./model/lstm_model_no_conf.pth\"\n",
    "# device = torch.device(\"cuda\" if torch.cuda.is_available() else \"cpu\")\n",
    "#\n",
    "# lstm_model_no_conf = LSTM_Model(input_dim=34)\n",
    "# lstm_model_no_conf.load_state_dict(torch.load(lstm_model_no_conf_path, map_location=device))\n",
    "# lstm_model_no_conf.to(device)\n",
    "# lstm_model_no_conf.eval()\n",
    "#\n",
    "# process_video_with_lstm(yolo_model=model, lstm_model=lstm_model_no_conf, device=device,\n",
    "#                         input_path=\"./fall_videos/test/video_1.mp4\", output_path='./output/lstm_no_conf_unseen_test.mp4', sequence_length=10, using_conf=False)"
   ]
  },
  {
   "metadata": {
    "ExecuteTime": {
     "end_time": "2025-05-07T11:43:04.704757Z",
     "start_time": "2025-05-07T11:43:04.659693Z"
    }
   },
   "cell_type": "code",
   "source": [
    "# process lstm no conf\n",
    "\n",
    "from sequence_model import LSTM_Model_2\n",
    "\n",
    "lstm_model_no_conf2_path = \"./model/lstm_model_no_conf2.pth\"\n",
    "device = torch.device(\"cuda\" if torch.cuda.is_available() else \"cpu\")\n",
    "\n",
    "lstm_model_no_conf2 = LSTM_Model_2(input_dim=34)\n",
    "lstm_model_no_conf2.load_state_dict(torch.load(lstm_model_no_conf2_path, map_location=device))\n",
    "lstm_model_no_conf2.to(device)\n",
    "lstm_model_no_conf2.eval()\n",
    "\n",
    "process_video_with_lstm(yolo_model=model, lstm_model=lstm_model_no_conf2, device=device,\n",
    "                        input_path=\"./fall_videos/test/video_1.mp4\", output_path='./output/lstm_no_conf_unseen_test.mp4', sequence_length=10, using_conf=False)"
   ],
   "id": "56d71582e499530d",
   "outputs": [
    {
     "data": {
      "text/plain": [
       "LSTM_Model_2(\n",
       "  (lstm): LSTM(34, 128, num_layers=3, batch_first=True)\n",
       "  (fc1): Linear(in_features=128, out_features=64, bias=True)\n",
       "  (relu): ReLU()\n",
       "  (dropout): Dropout(p=0.3, inplace=False)\n",
       "  (fc2): Linear(in_features=64, out_features=2, bias=True)\n",
       ")"
      ]
     },
     "execution_count": 11,
     "metadata": {},
     "output_type": "execute_result"
    }
   ],
   "execution_count": 11
  }
 ],
 "metadata": {
  "kernelspec": {
   "display_name": "Python 3 (ipykernel)",
   "language": "python",
   "name": "python3"
  },
  "language_info": {
   "codemirror_mode": {
    "name": "ipython",
    "version": 3
   },
   "file_extension": ".py",
   "mimetype": "text/x-python",
   "name": "python",
   "nbconvert_exporter": "python",
   "pygments_lexer": "ipython3",
   "version": "3.12.9"
  }
 },
 "nbformat": 4,
 "nbformat_minor": 5
}
